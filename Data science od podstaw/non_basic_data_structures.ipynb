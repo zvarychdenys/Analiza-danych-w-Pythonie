{
 "cells": [
  {
   "cell_type": "markdown",
   "id": "24400887",
   "metadata": {},
   "source": [
    "# Non-basic data structures in Python"
   ]
  },
  {
   "cell_type": "markdown",
   "id": "035878db",
   "metadata": {},
   "source": [
    "### Stacks (pl.Stos)  *LIFO - LAST IN FIRST OUT*\n",
    "___\n",
    "Stack using list:\n",
    "* use `appned()` to push an item onto the stack\n",
    "* use `pop()` to remove an item\n",
    "![](img/stack.png)"
   ]
  },
  {
   "cell_type": "code",
   "execution_count": 10,
   "id": "e3f77052",
   "metadata": {},
   "outputs": [
    {
     "data": {
      "text/plain": [
       "[3, 8, 21, 72]"
      ]
     },
     "execution_count": 10,
     "metadata": {},
     "output_type": "execute_result"
    }
   ],
   "source": [
    "#tworze stack za pomoca listy Pythona\n",
    "my_stack = list()\n",
    "my_stack.append(3)\n",
    "my_stack.append(8)\n",
    "my_stack.append(21)\n",
    "my_stack.append(72)\n",
    "my_stack"
   ]
  },
  {
   "cell_type": "code",
   "execution_count": 11,
   "id": "5a9eeb5a",
   "metadata": {},
   "outputs": [
    {
     "name": "stdout",
     "output_type": "stream",
     "text": [
      "72\n",
      "21\n"
     ]
    },
    {
     "data": {
      "text/plain": [
       "[3, 8]"
      ]
     },
     "execution_count": 11,
     "metadata": {},
     "output_type": "execute_result"
    }
   ],
   "source": [
    "#usuniecia elementow ze stosy za pomoca pop()\n",
    "print(my_stack.pop())\n",
    "print(my_stack.pop())\n",
    "my_stack"
   ]
  },
  {
   "cell_type": "markdown",
   "id": "8fa75053",
   "metadata": {},
   "source": [
    "#### Stack using List with a Wrapper Class\n",
    "We create a Stack class and a full set of Stack methods.\n",
    "\n",
    "But the underlying data structure is really a Python List.\n",
    "\n",
    "For pop and peek methods we first check whether the stack is empty, to avoid expections"
   ]
  },
  {
   "cell_type": "code",
   "execution_count": 39,
   "id": "c941ce1f",
   "metadata": {},
   "outputs": [],
   "source": [
    "class Stack(): \n",
    "    def __init__(self):\n",
    "        self.stack = list()\n",
    "    \n",
    "    def push(self,item):\n",
    "        self.stack.append(item)\n",
    "        return self.stack\n",
    "    \n",
    "    def pop(self):\n",
    "        if len(self.stack) > 0:\n",
    "            return self.stack.pop()\n",
    "        else:\n",
    "            return None\n",
    "    \n",
    "    def peek(self):\n",
    "        if len(self.stack) > 0:\n",
    "            return self.stack[len(self.stack) - 1]\n",
    "        else:\n",
    "            return None\n",
    "    \n",
    "    def __str__(self):\n",
    "        return str(self.stack)"
   ]
  },
  {
   "cell_type": "code",
   "execution_count": 40,
   "id": "b1b04fd9",
   "metadata": {},
   "outputs": [
    {
     "name": "stdout",
     "output_type": "stream",
     "text": [
      "[7]\n",
      "[7, 12]\n",
      "[7, 12, 23]\n",
      "23\n",
      "23\n",
      "[7, 12]\n"
     ]
    }
   ],
   "source": [
    "stack = Stack()\n",
    "print(stack.push(7))\n",
    "print(stack.push(12))\n",
    "print(stack.push(23))\n",
    "print(stack.peek()) # wypisuje ostatni element ale go nie usywa\n",
    "print(stack.pop()) # wypisuje ostatni element i go usywa\n",
    "print(stack.__str__())"
   ]
  },
  {
   "cell_type": "markdown",
   "id": "a1d343a4",
   "metadata": {},
   "source": [
    "### Queues (pl kolejka FIFO - FIST IN FIRST OUT\n",
    "___\n",
    "Deque is a double-ended queue,we can remove an item from right with `pop()`and from left `popleft()`\n",
    "\n",
    "We use `append()` to enqueue an item, and popleft() to dequeue an item\n",
    "\n",
    "Using Queue with library `collections`\n",
    "\n",
    "![](img/queue.png)"
   ]
  },
  {
   "cell_type": "code",
   "execution_count": 74,
   "id": "21e8a08c",
   "metadata": {},
   "outputs": [
    {
     "name": "stdout",
     "output_type": "stream",
     "text": [
      "deque([5, 10, 15])\n",
      "deque([10, 15])\n"
     ]
    }
   ],
   "source": [
    "from collections import deque\n",
    "my_queue = deque()\n",
    "my_queue.append(5)\n",
    "my_queue.append(10)\n",
    "my_queue.append(15)\n",
    "print(my_queue)\n",
    "\n",
    "my_queue.popleft()\n",
    "print(my_queue)"
   ]
  },
  {
   "cell_type": "markdown",
   "id": "2796e542",
   "metadata": {},
   "source": [
    "### MaxHeap (kopiec typy max i min)\n",
    "___\n",
    "* maxHeap is a complete Binary Tree\n",
    "* every node <= its parent\n",
    "\n",
    "*MaxHeap is a Fast*\n",
    "> * Insert in O(log n)\n",
    "> * Get Max in O(1)\n",
    "> * Remove max in O(log n)\n",
    "\n",
    "i = 4\n",
    "parent(i) = i/2 = 2\n",
    "left(i) = i * 2 = 8\n",
    "right(i_ = i * 2 = 9 \n",
    "\n",
    "![](img/kopiec.png)"
   ]
  },
  {
   "cell_type": "markdown",
   "id": "531c1f95",
   "metadata": {},
   "source": [
    "##### Push\n",
    "* Add value to end of array\n",
    "* Float it ip its proper position , until new elenent is smaller than its parent"
   ]
  },
  {
   "cell_type": "markdown",
   "id": "1e87286b",
   "metadata": {},
   "source": [
    "##### Peek \n",
    "* just return the first element in list head[0]"
   ]
  },
  {
   "cell_type": "markdown",
   "id": "0d913500",
   "metadata": {},
   "source": [
    "##### Pop\n",
    "* move max to end of array\n",
    "* delete it\n",
    "* bubble down the item at index 1 to its proper position\n",
    "* return max"
   ]
  },
  {
   "cell_type": "markdown",
   "id": "8281c701",
   "metadata": {},
   "source": [
    "### Linkied list\n",
    "___"
   ]
  },
  {
   "cell_type": "markdown",
   "id": "8cd61567",
   "metadata": {},
   "source": [
    "##### Node(Węzeł) as a data structure"
   ]
  },
  {
   "cell_type": "code",
   "execution_count": 20,
   "id": "27c3eac7",
   "metadata": {},
   "outputs": [],
   "source": [
    "#Узел как структура данных\n",
    "class ListNode:\n",
    "    def __init__(self, data = None, next = None):\n",
    "        self.data = data\n",
    "        self.next = next\n",
    "\n",
    "    # get metody\n",
    "    def get_data(self):\n",
    "        return self.data\n",
    "\n",
    "    def get_next(self):\n",
    "        return self.next\n",
    "\n",
    "    #set metody\n",
    "    def set_data(self,data):\n",
    "        self.data = data\n",
    "\n",
    "    def set_next(self,next):\n",
    "        self.next = next\n",
    "        \n",
    "    def has_value(self,value):\n",
    "        \"\"\"method to compare the value with the node data\"\"\"\n",
    "        if self.data == value:\n",
    "            return True\n",
    "        else:\n",
    "            return False\n",
    "        \n",
    "    def has_value(self)"
   ]
  },
  {
   "cell_type": "code",
   "execution_count": 27,
   "id": "401e946d",
   "metadata": {},
   "outputs": [
    {
     "name": "stdout",
     "output_type": "stream",
     "text": [
      "True\n"
     ]
    }
   ],
   "source": [
    "node1 = ListNode(15)\n",
    "node2 = ListNode(8.2)\n",
    "node3 = ListNode(\"Berlin\")\n",
    "\n",
    "print(node1.has_value(15))\n",
    "node2.set_next(8.3)"
   ]
  },
  {
   "cell_type": "code",
   "execution_count": null,
   "id": "5f0d01f9",
   "metadata": {},
   "outputs": [],
   "source": []
  }
 ],
 "metadata": {
  "kernelspec": {
   "display_name": "Python 3 (ipykernel)",
   "language": "python",
   "name": "python3"
  },
  "language_info": {
   "codemirror_mode": {
    "name": "ipython",
    "version": 3
   },
   "file_extension": ".py",
   "mimetype": "text/x-python",
   "name": "python",
   "nbconvert_exporter": "python",
   "pygments_lexer": "ipython3",
   "version": "3.9.12"
  }
 },
 "nbformat": 4,
 "nbformat_minor": 5
}
