{
 "cells": [
  {
   "cell_type": "markdown",
   "id": "17271f29",
   "metadata": {},
   "source": [
    "# Podstawy pythona\n",
    "___\n"
   ]
  },
  {
   "cell_type": "code",
   "execution_count": 4,
   "id": "db0025b0",
   "metadata": {},
   "outputs": [
    {
     "data": {
      "text/plain": [
       "5"
      ]
     },
     "execution_count": 4,
     "metadata": {},
     "output_type": "execute_result"
    }
   ],
   "source": [
    "#to ze ciag dalszy znajduje sie w kolejnym wierszu, mozna oznaczy za pomoca ukosnika\n",
    "two_plus_three = 2 + \\\n",
    "                 3\n",
    "\n",
    "two_plus_three"
   ]
  },
  {
   "cell_type": "markdown",
   "id": "a16aa849",
   "metadata": {},
   "source": [
    "##### Moduly:\n",
    "___"
   ]
  },
  {
   "cell_type": "code",
   "execution_count": null,
   "id": "1749bbe8",
   "metadata": {},
   "outputs": [],
   "source": [
    "#nie warto importowac calej zawartosci modulu, \n",
    "#bo spowoduje to nadpisanie zdefiniowanych wczesniej zmiennych\n",
    "match = 10\n",
    "from re import *\n",
    "print(match)"
   ]
  },
  {
   "cell_type": "markdown",
   "id": "42b85fc2",
   "metadata": {},
   "source": [
    "##### Funkcje:\n",
    "___\n",
    "jest blokiem kodu , ktory moze przyjac dowolna liczbe argumentow i wygerenowac na podstawie ich wynik"
   ]
  },
  {
   "cell_type": "code",
   "execution_count": 25,
   "id": "6294325d",
   "metadata": {},
   "outputs": [
    {
     "data": {
      "text/plain": [
       "30"
      ]
     },
     "execution_count": 25,
     "metadata": {},
     "output_type": "execute_result"
    }
   ],
   "source": [
    "def double(x):\n",
    "    \"\"\"Tu moze byc wyjasnienie dzialania funkcji\"\"\"\n",
    "    return x*3\n",
    "\n",
    "double(10)"
   ]
  },
  {
   "cell_type": "code",
   "execution_count": 34,
   "id": "344e7021",
   "metadata": {},
   "outputs": [
    {
     "data": {
      "text/plain": [
       "3"
      ]
     },
     "execution_count": 34,
     "metadata": {},
     "output_type": "execute_result"
    }
   ],
   "source": [
    "#python umozliwia przypisywanie funkcji do zmiennych \n",
    "#i przekazywanie ich do inncyh funkcji w roli argumentow\n",
    "def apply_to_one(f):\n",
    "    return f(1)\n",
    "\n",
    "my_double = double\n",
    "x = apply_to_one(my_double)\n",
    "x"
   ]
  },
  {
   "cell_type": "code",
   "execution_count": 35,
   "id": "3b682741",
   "metadata": {},
   "outputs": [
    {
     "data": {
      "text/plain": [
       "5"
      ]
     },
     "execution_count": 35,
     "metadata": {},
     "output_type": "execute_result"
    }
   ],
   "source": [
    "# python umozliwia tworzenia ktorkich anonimowych funkcji lambda:\n",
    "y = apply_to_one(lambda x: x+4)\n",
    "y"
   ]
  },
  {
   "cell_type": "code",
   "execution_count": 45,
   "id": "57da2652",
   "metadata": {},
   "outputs": [],
   "source": [
    "#gdy jest mozliwosc lepiej lepiej tworzyc funkcje za pomoca def , niz za pomoca lambdy\n",
    "def another_double(x): return 2*x # porawnie\n",
    "another_double1 = lambda x: 2*x # blednie\n"
   ]
  },
  {
   "cell_type": "markdown",
   "id": "9d29e454",
   "metadata": {},
   "source": [
    "#### lanchuny (string):\n",
    "___"
   ]
  },
  {
   "cell_type": "code",
   "execution_count": 47,
   "id": "a6f14f37",
   "metadata": {},
   "outputs": [],
   "source": [
    "#lancuchy ozna podalac w pojedynczych lub podwojnych cudzyslowach\n",
    "single_quoted_string = 'analiza danych'\n",
    "double_quoted_string = \"analiza danych\""
   ]
  },
  {
   "cell_type": "code",
   "execution_count": 56,
   "id": "e8a2d8a6",
   "metadata": {},
   "outputs": [
    {
     "data": {
      "text/plain": [
       "1"
      ]
     },
     "execution_count": 56,
     "metadata": {},
     "output_type": "execute_result"
    }
   ],
   "source": [
    "#znaki specjlalne w lancuchacg umieszcza sie po uskosniku:\n",
    "tab_string = \"\\t\"\n",
    "len(tab_string) #\\t jest jednym znakiem#"
   ]
  },
  {
   "cell_type": "code",
   "execution_count": 61,
   "id": "883c69aa",
   "metadata": {},
   "outputs": [
    {
     "data": {
      "text/plain": [
       "2"
      ]
     },
     "execution_count": 61,
     "metadata": {},
     "output_type": "execute_result"
    }
   ],
   "source": [
    "#aby umiescic w lancuchach znak ukosnia, mozemy utworzyc 'surowy' lanchuch za pomoca r\"\" \n",
    "not_tab_string = r\"\\t\"\n",
    "len(not_tab_string) # za pomoca r\"\\t\" - \\t teraz dwa znaki"
   ]
  },
  {
   "cell_type": "code",
   "execution_count": 68,
   "id": "acc6a05b",
   "metadata": {},
   "outputs": [
    {
     "data": {
      "text/plain": [
       "'To pierwsza linia,\\n                    to druga linia,\\n                    a to trzecia linia.'"
      ]
     },
     "execution_count": 68,
     "metadata": {},
     "output_type": "execute_result"
    }
   ],
   "source": [
    "#wieloliniowe lancuchy\n",
    "multi_line_string = \"\"\"To pierwsza linia,\n",
    "                    to druga linia,\n",
    "                    a to trzecia linia.\"\"\"\n",
    "multi_line_string"
   ]
  },
  {
   "cell_type": "code",
   "execution_count": 82,
   "id": "7cb7f51e",
   "metadata": {},
   "outputs": [
    {
     "name": "stdout",
     "output_type": "stream",
     "text": [
      "Nazywam sie Denys Zvarych\n",
      "Moje imie i nazwisko - Denys Zvarych\n",
      "Imie i nazwisko:  Denys Zvarych\n"
     ]
    }
   ],
   "source": [
    "first_name = 'Denys'\n",
    "last_name = 'Zvarych'\n",
    "\n",
    "#mozliwosc tworzenia lancuchow za pomoca notacji f\n",
    "print(f'Nazywam sie {first_name} {last_name}')\n",
    "\n",
    "#tworzenia lancuchow za pomoca funckji format\n",
    "print(\"Moje imie i nazwisko - {0} {1}\".format(first_name,last_name))\n",
    "\n",
    "#tworzenia lancuchow za pomoca ich dodawania\n",
    "print(\"Imie i nazwisko: \", first_name + \" \" + last_name)"
   ]
  },
  {
   "cell_type": "markdown",
   "id": "25a29cc2",
   "metadata": {},
   "source": [
    "### Wyjatki\n",
    "___\n",
    "do obslugi wyjatkow sluzy polecenia `try` i `except`"
   ]
  },
  {
   "cell_type": "code",
   "execution_count": 85,
   "id": "2fc96435",
   "metadata": {},
   "outputs": [
    {
     "name": "stdout",
     "output_type": "stream",
     "text": [
      "nie mozna dzielic przez zero\n"
     ]
    }
   ],
   "source": [
    "try:\n",
    "    print(0/0)\n",
    "except ZeroDivisionError:\n",
    "    print(\"nie mozna dzielic przez zero\")"
   ]
  },
  {
   "cell_type": "markdown",
   "id": "5f4c9540",
   "metadata": {},
   "source": [
    "# TYPY DANYCH PYTHON\n",
    "___\n",
    "___\n",
    "**Typy danych w pythonie**:\n",
    ">* Numbers (liczby) (int,float)\n",
    ">* Strings (lancuchy)\n",
    ">* Lists (listy)\n",
    ">* Dictionaries (slowniki)\n",
    ">* Tuples (krotki)\n",
    ">* Sets (zbiory)\n",
    ">* Boolean (logiczne typy danych)\n",
    "\n",
    "**Te typy danych można z kolei sklasyfikować według kilku cech:**\n",
    "\n",
    "* **mutowalne(ang. mutable)** -  (listy, słowniki i zbiory)\n",
    "\n",
    "* **niemutowalne (ang. immutable)** - (int,float string,boolm,NoneType i krotki, frozenset)\n",
    "\n",
    "* uporządkowane (listy, krotki, ciągi i słowniki)\n",
    "\n",
    "* nieuporządkowane (set)"
   ]
  },
  {
   "cell_type": "markdown",
   "id": "0d7dc722",
   "metadata": {},
   "source": [
    "# Python lista\n",
    "___\n",
    "Listy są strukturą pozwalającą na przechowywanie elementów w sposób uporządkowany. Listy tworzy się za pomocą nawiasów kwadratowych, oddzielając elementy przecinkami\n",
    "\n",
    "W języku angielskim dla określenia listy używa się słów: **array, vector, matrix, list**\n",
    "\n",
    "> Właściwości listy:\n",
    "> * jest **mutowalna** – można dodawać lub usuwać z niej elementy\n",
    "> * może przechowywać różne typy danych np. łańcuchy znaków, krotki, listy, słowniki, funkcje, obiekty plików i dowolne rodzaje liczb\n",
    "> * możliwe jest odnoszenie się do podzbiorów, czy wycinków listy (ang. slice)"
   ]
  },
  {
   "cell_type": "code",
   "execution_count": 106,
   "id": "28782251",
   "metadata": {},
   "outputs": [],
   "source": [
    "integer_list = [1,2,3]\n",
    "heterogeneous_list = ['hello', 0.1, 23, True]\n",
    "list_of_lists = [integer_list, heterogeneous_list, []]\n",
    "list_length = len(integer_list) # rowna sie 3\n",
    "list_sum = sum(integer_list) # rowna sie 6"
   ]
  },
  {
   "cell_type": "markdown",
   "id": "f1b51943",
   "metadata": {},
   "source": [
    "##### Innym sposobem tworzenia listy są generatory list. Generator list to sposób na zbudowanie nowej listy poprzez zastosowanie wyrażenia do każdego elementu sekwencji."
   ]
  },
  {
   "cell_type": "code",
   "execution_count": 26,
   "id": "cfcf03c0",
   "metadata": {},
   "outputs": [
    {
     "data": {
      "text/plain": [
       "['D', 'e', 'n', 'y', 's']"
      ]
     },
     "execution_count": 26,
     "metadata": {},
     "output_type": "execute_result"
    }
   ],
   "source": [
    "list1 = [x for x in 'Denys']\n",
    "list1"
   ]
  },
  {
   "cell_type": "code",
   "execution_count": 27,
   "id": "7ad5dcde",
   "metadata": {},
   "outputs": [
    {
     "data": {
      "text/plain": [
       "[2, 4, 6, 8, 10]"
      ]
     },
     "execution_count": 27,
     "metadata": {},
     "output_type": "execute_result"
    }
   ],
   "source": [
    "list1 = [x*2 for x in [1,2,3,4,5]]\n",
    "list1"
   ]
  },
  {
   "cell_type": "code",
   "execution_count": 30,
   "id": "53806396",
   "metadata": {},
   "outputs": [
    {
     "data": {
      "text/plain": [
       "[20, 40]"
      ]
     },
     "execution_count": 30,
     "metadata": {},
     "output_type": "execute_result"
    }
   ],
   "source": [
    "list1 = [x*10 for x in [1,2,3,4,5] if x%2==0]\n",
    "list1"
   ]
  },
  {
   "cell_type": "markdown",
   "id": "cbc904ba",
   "metadata": {},
   "source": [
    "##### **Wycinki `[i:j]`** -  wszystki numery i wlacznie do elementu j , ale bez niego"
   ]
  },
  {
   "cell_type": "code",
   "execution_count": null,
   "id": "e2e8ae4b",
   "metadata": {},
   "outputs": [],
   "source": [
    "#wycinki\n",
    "x = [0, 1, 2, 3, 4, 5, 6, 7, 8, 9]\n",
    "x[0] = -1\n",
    "x[3:]  # [-1, 1, 2]\n",
    "x[1:5] # [3, 4, ..., 9]\n",
    "x[-3:] # [7, 8, 9]\n",
    "x[1:-1] # [1, 2, ..., 8]\n",
    "copy_of_x = x[:] # [-1, 1, 2, ..., 9]\n",
    "\n",
    "#wycinek jeszcze moze przyjac jeden argument , okreslajacy odstep, i moze byc nawet ujemny\n",
    "x[::3] # [-1, 3, 6, 9]\n",
    "x[5:2:-1]  # [5, 4, 3]"
   ]
  },
  {
   "cell_type": "markdown",
   "id": "86417239",
   "metadata": {},
   "source": [
    "##### Operator `in` sluzy do sprawdzanue przyleznosci do listy"
   ]
  },
  {
   "cell_type": "code",
   "execution_count": 5,
   "id": "2c0c5711",
   "metadata": {},
   "outputs": [
    {
     "data": {
      "text/plain": [
       "False"
      ]
     },
     "execution_count": 5,
     "metadata": {},
     "output_type": "execute_result"
    }
   ],
   "source": [
    "1 in x #True\n",
    "123 in x # False"
   ]
  },
  {
   "cell_type": "markdown",
   "id": "46e04d93",
   "metadata": {},
   "source": [
    "##### wygodny mechamizm rozpakowywania list:"
   ]
  },
  {
   "cell_type": "code",
   "execution_count": 31,
   "id": "714da015",
   "metadata": {},
   "outputs": [
    {
     "name": "stdout",
     "output_type": "stream",
     "text": [
      "x rowna sie: 1\n",
      "y rowna sie: 2\n"
     ]
    }
   ],
   "source": [
    "x,y = [1,2]\n",
    "print(\"x rowna sie: {0}\\ny rowna sie: {1}\".format(x,y))\n",
    "\n",
    "#jezeli nie potrzebuje jakiejs wartosci to moge zastapic ja znakiem podkreslenia:\n",
    "_, y = [2,3] # teraz y === 3, a pierwszy element zostal pominiety"
   ]
  },
  {
   "cell_type": "markdown",
   "id": "bdd708d1",
   "metadata": {},
   "source": [
    "### Typ danych listy ma kilka więcej metod. To wszystkie metody obiektów listy:\n",
    "___"
   ]
  },
  {
   "cell_type": "markdown",
   "id": "2eebfb97",
   "metadata": {},
   "source": [
    "##### Dwie listy mozna ze soba latwo polaczyc, funckja `extend()` sluzy do dodawania do listy elementow z innego zbiory\n"
   ]
  },
  {
   "cell_type": "code",
   "execution_count": 20,
   "id": "827efa37",
   "metadata": {},
   "outputs": [],
   "source": [
    "#w takim razie lista x bedzie modyfikowana\n",
    "x = [1,2,3]\n",
    "x.extend([4,5,6])\n",
    "x # lista ma teraz postac [1,2,3,4,5,6]\n",
    "\n",
    "#w takim razie lista x nie bedzie modyfikowana\n",
    "x = [1,3,4,5]\n",
    "y = x + [4,9,12]"
   ]
  },
  {
   "cell_type": "markdown",
   "id": "615fd7ae",
   "metadata": {},
   "source": [
    "##### dolaczania do listy pojedynczego elementy za pomoca fukncji `append()`"
   ]
  },
  {
   "cell_type": "code",
   "execution_count": 53,
   "id": "26dad66b",
   "metadata": {},
   "outputs": [
    {
     "data": {
      "text/plain": [
       "[1, 2, 3, 4, 5, 6, 7, 8, 8, 21]"
      ]
     },
     "execution_count": 53,
     "metadata": {},
     "output_type": "execute_result"
    }
   ],
   "source": [
    "x = [1,2,3,4,5,6,7,8,8]\n",
    "x.append(21)\n",
    "x"
   ]
  },
  {
   "cell_type": "markdown",
   "id": "275850bc",
   "metadata": {},
   "source": [
    "##### `insert()` wstawia element na podaną pozycję. Pierwszy argument jest indeksem elementu, przed który wstawiamy"
   ]
  },
  {
   "cell_type": "code",
   "execution_count": 5,
   "id": "a6ecd96e",
   "metadata": {},
   "outputs": [
    {
     "data": {
      "text/plain": [
       "[1, 2, 3, 4, 5, 2, 6]"
      ]
     },
     "execution_count": 5,
     "metadata": {},
     "output_type": "execute_result"
    }
   ],
   "source": [
    "x = [1,2,3,4,5,6]\n",
    "x.insert(-1,2) # na pozycje -1, wstawiam 2\n",
    "x"
   ]
  },
  {
   "cell_type": "markdown",
   "id": "d14c049e",
   "metadata": {},
   "source": [
    "##### `remove()` usuwa pierwszy element z listy, którego wartość jest równa x. Rzuca ValueError, jeśli nie ma takiego elementu."
   ]
  },
  {
   "cell_type": "code",
   "execution_count": 51,
   "id": "95f90237",
   "metadata": {},
   "outputs": [
    {
     "data": {
      "text/plain": [
       "[1, 3, 4, 6]"
      ]
     },
     "execution_count": 51,
     "metadata": {},
     "output_type": "execute_result"
    }
   ],
   "source": [
    "x = [1,3,4,4,6]\n",
    "x.remove(4)\n",
    "x"
   ]
  },
  {
   "cell_type": "markdown",
   "id": "ed5230bb",
   "metadata": {},
   "source": [
    "##### Usuwa element z podanej pozycji na liście i zwraca go. Jeśli indeks nie jest podany, a.pop() usuwa i zwraca ostatni element listy."
   ]
  },
  {
   "cell_type": "code",
   "execution_count": 78,
   "id": "a3b5628d",
   "metadata": {},
   "outputs": [
    {
     "data": {
      "text/plain": [
       "[1, 3, 4, 5, 6, 7]"
      ]
     },
     "execution_count": 78,
     "metadata": {},
     "output_type": "execute_result"
    }
   ],
   "source": [
    "x  = [1,2,3,4,5,6,7]\n",
    "x.pop(1) # usuwa 1 element i zwraca go czyli 2. \n",
    "x\n"
   ]
  },
  {
   "cell_type": "markdown",
   "id": "28ad0da7",
   "metadata": {},
   "source": [
    "### usywanie wszystkich elementow z listy `clear()` , usuniecia calej listy `del nazwa`"
   ]
  },
  {
   "cell_type": "code",
   "execution_count": 82,
   "id": "ee040d2f",
   "metadata": {},
   "outputs": [
    {
     "data": {
      "text/plain": [
       "[]"
      ]
     },
     "execution_count": 82,
     "metadata": {},
     "output_type": "execute_result"
    }
   ],
   "source": [
    "x.clear()\n",
    "x"
   ]
  },
  {
   "cell_type": "code",
   "execution_count": 85,
   "id": "173152d2",
   "metadata": {},
   "outputs": [
    {
     "ename": "NameError",
     "evalue": "name 'x' is not defined",
     "output_type": "error",
     "traceback": [
      "\u001b[0;31m---------------------------------------------------------------------------\u001b[0m",
      "\u001b[0;31mNameError\u001b[0m                                 Traceback (most recent call last)",
      "Input \u001b[0;32mIn [85]\u001b[0m, in \u001b[0;36m<cell line: 3>\u001b[0;34m()\u001b[0m\n\u001b[1;32m      1\u001b[0m x \u001b[38;5;241m=\u001b[39m [\u001b[38;5;241m1\u001b[39m,\u001b[38;5;241m2\u001b[39m,\u001b[38;5;241m3\u001b[39m,\u001b[38;5;241m4\u001b[39m,\u001b[38;5;241m5\u001b[39m]\n\u001b[1;32m      2\u001b[0m \u001b[38;5;28;01mdel\u001b[39;00m x\n\u001b[0;32m----> 3\u001b[0m \u001b[43mx\u001b[49m\n",
      "\u001b[0;31mNameError\u001b[0m: name 'x' is not defined"
     ]
    }
   ],
   "source": [
    "x = [1,2,3,4,5]\n",
    "del x\n",
    "x"
   ]
  },
  {
   "cell_type": "markdown",
   "id": "c4bd3ec3",
   "metadata": {},
   "source": [
    "##### `index()` wraca indeks (liczony od zera) pierwszego elementu na liście, którego wartość jest równa x. Rzuca ValueError, jeśli nie ma takiego elementu."
   ]
  },
  {
   "cell_type": "code",
   "execution_count": 99,
   "id": "e2e0af01",
   "metadata": {},
   "outputs": [
    {
     "data": {
      "text/plain": [
       "4"
      ]
     },
     "execution_count": 99,
     "metadata": {},
     "output_type": "execute_result"
    }
   ],
   "source": [
    "x = [0,1,2,3,4,4,5,6,7]\n",
    "x.index(4)"
   ]
  },
  {
   "cell_type": "markdown",
   "id": "efe2c5c2",
   "metadata": {},
   "source": [
    "##### `count()` zwraca liczbę razy, jaką x występuje w liście."
   ]
  },
  {
   "cell_type": "code",
   "execution_count": 108,
   "id": "d187760e",
   "metadata": {},
   "outputs": [
    {
     "data": {
      "text/plain": [
       "3"
      ]
     },
     "execution_count": 108,
     "metadata": {},
     "output_type": "execute_result"
    }
   ],
   "source": [
    "x = [1,2,3,4,3,2,1,2]\n",
    "x.count(2)"
   ]
  },
  {
   "cell_type": "markdown",
   "id": "a93e547b",
   "metadata": {},
   "source": [
    "#####  `sort()` sortuje elementy listy w miejscu, \n",
    "paremetr:\n",
    "* reverse=False"
   ]
  },
  {
   "cell_type": "code",
   "execution_count": 118,
   "id": "e4234bf6",
   "metadata": {},
   "outputs": [
    {
     "data": {
      "text/plain": [
       "[52, 34, 12, 6, 5, 5, 5, 5, 4, 4, 3, 2, 2, 2]"
      ]
     },
     "execution_count": 118,
     "metadata": {},
     "output_type": "execute_result"
    }
   ],
   "source": [
    "x = [3,34,5,2,5,2,52,5,12,5,6,4,2,4]\n",
    "x.sort(reverse=True)\n",
    "x"
   ]
  },
  {
   "cell_type": "markdown",
   "id": "a3d36728",
   "metadata": {},
   "source": [
    "##### `reverse()` Odwraca elementy listy w miejscu."
   ]
  },
  {
   "cell_type": "code",
   "execution_count": 131,
   "id": "b4b7d6f2",
   "metadata": {},
   "outputs": [
    {
     "data": {
      "text/plain": [
       "[9, 8, 7, 6, 5, 4, 3, 2, 1, 0]"
      ]
     },
     "execution_count": 131,
     "metadata": {},
     "output_type": "execute_result"
    }
   ],
   "source": [
    "x = [0, 1, 2, 3, 4, 5, 6, 7, 8, 9]\n",
    "x.reverse()\n",
    "x"
   ]
  },
  {
   "cell_type": "markdown",
   "id": "13e006fa",
   "metadata": {},
   "source": [
    "##### `copy()` Zwraca płytką kopię listy. Ekwiwalent a[:]."
   ]
  },
  {
   "cell_type": "code",
   "execution_count": 137,
   "id": "79b0a9b3",
   "metadata": {},
   "outputs": [
    {
     "name": "stdout",
     "output_type": "stream",
     "text": [
      "140536323788288\n",
      "140536323491648\n"
     ]
    }
   ],
   "source": [
    "x = [1,2,3,4,5]\n",
    "y = x.copy()\n",
    "y\n",
    "print(id(x))\n",
    "print(id(y))"
   ]
  },
  {
   "cell_type": "code",
   "execution_count": 142,
   "id": "baf659f4",
   "metadata": {},
   "outputs": [
    {
     "name": "stdout",
     "output_type": "stream",
     "text": [
      "140536323788288\n",
      "140536323491008\n"
     ]
    }
   ],
   "source": [
    "y = x[:]\n",
    "y \n",
    "print(id(x))\n",
    "print(id(y))"
   ]
  },
  {
   "cell_type": "markdown",
   "id": "7e30382c",
   "metadata": {},
   "source": [
    "# Słowniki\n",
    "___\n",
    "Słowniki w Pythonie to nieuporządkowane zbiory dowolnych obiektów z dostępem według klucza. Czasami nazywane są również tablicami asocjacyjnymi lub tablicami mieszającymi (hash table)\n",
    "\n",
    "Najlepiej jest myśleć o słowniku jako zbiorze par klucz: wartość, z wymaganiem aby klucze były unikalne"
   ]
  },
  {
   "cell_type": "markdown",
   "id": "adce89fd",
   "metadata": {},
   "source": [
    "# Kluczami slownika moge byc tylko niemutowane obiekty: np.set"
   ]
  },
  {
   "cell_type": "code",
   "execution_count": 52,
   "id": "162a01a9",
   "metadata": {},
   "outputs": [
    {
     "ename": "TypeError",
     "evalue": "unhashable type: 'list'",
     "output_type": "error",
     "traceback": [
      "\u001b[0;31m---------------------------------------------------------------------------\u001b[0m",
      "\u001b[0;31mTypeError\u001b[0m                                 Traceback (most recent call last)",
      "Input \u001b[0;32mIn [52]\u001b[0m, in \u001b[0;36m<cell line: 2>\u001b[0;34m()\u001b[0m\n\u001b[1;32m      1\u001b[0m d \u001b[38;5;241m=\u001b[39m {}\n\u001b[0;32m----> 2\u001b[0m d[[\u001b[38;5;241m1\u001b[39m,\u001b[38;5;241m2\u001b[39m,\u001b[38;5;241m3\u001b[39m,\u001b[38;5;241m4\u001b[39m]] \u001b[38;5;241m=\u001b[39m \u001b[38;5;241m4\u001b[39m\n",
      "\u001b[0;31mTypeError\u001b[0m: unhashable type: 'list'"
     ]
    }
   ],
   "source": [
    "d = {}\n",
    "d[[1,2,3,4]] = 4 # list nie moze byc kluczem dict tak jak jest mutable"
   ]
  },
  {
   "cell_type": "code",
   "execution_count": 53,
   "id": "aace9d34",
   "metadata": {},
   "outputs": [
    {
     "data": {
      "text/plain": [
       "{(1, 2, 3, 4): 4}"
      ]
     },
     "execution_count": 53,
     "metadata": {},
     "output_type": "execute_result"
    }
   ],
   "source": [
    "d[(1,2,3,4)] = 4 \n",
    "d"
   ]
  },
  {
   "cell_type": "markdown",
   "id": "f7f4be29",
   "metadata": {},
   "source": [
    "##### Tworzenia slownika:"
   ]
  },
  {
   "cell_type": "code",
   "execution_count": 7,
   "id": "db71853a",
   "metadata": {},
   "outputs": [
    {
     "data": {
      "text/plain": [
       "dict"
      ]
     },
     "execution_count": 7,
     "metadata": {},
     "output_type": "execute_result"
    }
   ],
   "source": [
    "#Para nawiasów klamrowych tworzy pusty słownik: `{}`.\n",
    "dict1 = {}\n",
    "type(dict1)"
   ]
  },
  {
   "cell_type": "code",
   "execution_count": 8,
   "id": "beea39c3",
   "metadata": {},
   "outputs": [
    {
     "data": {
      "text/plain": [
       "{'dict': 1, 'dictionary': 2}"
      ]
     },
     "execution_count": 8,
     "metadata": {},
     "output_type": "execute_result"
    }
   ],
   "source": [
    "d = {'dict': 1, 'dictionary': 2}\n",
    "d"
   ]
  },
  {
   "cell_type": "markdown",
   "id": "09951916",
   "metadata": {},
   "source": [
    "##### Za pomoca funkcji `dict()˜"
   ]
  },
  {
   "cell_type": "code",
   "execution_count": 19,
   "id": "2262afa5",
   "metadata": {},
   "outputs": [
    {
     "data": {
      "text/plain": [
       "{'last_name': 'Zvarych', 'first_name': 'Denys'}"
      ]
     },
     "execution_count": 19,
     "metadata": {},
     "output_type": "execute_result"
    }
   ],
   "source": [
    "d = dict(last_name='Zvarych', first_name = 'Denys')\n",
    "d"
   ]
  },
  {
   "cell_type": "code",
   "execution_count": 24,
   "id": "1e6720b4",
   "metadata": {},
   "outputs": [
    {
     "data": {
      "text/plain": [
       "{1: 3, 2: 4}"
      ]
     },
     "execution_count": 24,
     "metadata": {},
     "output_type": "execute_result"
    }
   ],
   "source": [
    "d = dict([(1,3),(2,4)])\n",
    "d"
   ]
  },
  {
   "cell_type": "markdown",
   "id": "11fd4339",
   "metadata": {},
   "source": [
    "##### Za pomoca generatora slownikow"
   ]
  },
  {
   "cell_type": "code",
   "execution_count": 48,
   "id": "9a4e8b75",
   "metadata": {},
   "outputs": [
    {
     "data": {
      "text/plain": [
       "{0: 'x0', 1: 'x1', 2: 'x2', 3: 'x3', 4: 'x4', 5: 'x5', 6: 'x6'}"
      ]
     },
     "execution_count": 48,
     "metadata": {},
     "output_type": "execute_result"
    }
   ],
   "source": [
    "d = {x: 'x'+str(x) for x in range(7)}\n",
    "d"
   ]
  },
  {
   "cell_type": "markdown",
   "id": "6a9dc8bf",
   "metadata": {},
   "source": [
    "#### Metody slownika:\n",
    "___"
   ]
  },
  {
   "cell_type": "markdown",
   "id": "2ad61777",
   "metadata": {},
   "source": [
    "##### `dict.get(key)` - zwraca wartość klucza, ale jeśli go nie ma, nie zgłasza wyjątku, ale zwraca wartość default (domyślnie None)."
   ]
  },
  {
   "cell_type": "code",
   "execution_count": 24,
   "id": "a8a6c0d8",
   "metadata": {},
   "outputs": [
    {
     "data": {
      "text/plain": [
       "20"
      ]
     },
     "execution_count": 24,
     "metadata": {},
     "output_type": "execute_result"
    }
   ],
   "source": [
    "d = {x: x*2 for x in range(11)}\n",
    "d.get(10)"
   ]
  },
  {
   "cell_type": "markdown",
   "id": "03fe59ec",
   "metadata": {},
   "source": [
    "##### `dict.items ()`  - zwraca pary (klucz, wartość)."
   ]
  },
  {
   "cell_type": "code",
   "execution_count": 6,
   "id": "62dfda78",
   "metadata": {},
   "outputs": [
    {
     "data": {
      "text/plain": [
       "dict_items([(0, 0), (1, 2), (2, 4), (3, 6), (4, 8), (5, 10), (6, 12), (7, 14), (8, 16), (9, 18), (10, 20)])"
      ]
     },
     "execution_count": 6,
     "metadata": {},
     "output_type": "execute_result"
    }
   ],
   "source": [
    "d.items()"
   ]
  },
  {
   "cell_type": "markdown",
   "id": "11421f2e",
   "metadata": {},
   "source": [
    "##### `dict.keys ()`  - zwraca klucze w słowniku."
   ]
  },
  {
   "cell_type": "code",
   "execution_count": 7,
   "id": "f520adbc",
   "metadata": {},
   "outputs": [
    {
     "data": {
      "text/plain": [
       "dict_keys([0, 1, 2, 3, 4, 5, 6, 7, 8, 9, 10])"
      ]
     },
     "execution_count": 7,
     "metadata": {},
     "output_type": "execute_result"
    }
   ],
   "source": [
    "d.keys()"
   ]
  },
  {
   "cell_type": "markdown",
   "id": "702fc352",
   "metadata": {},
   "source": [
    "##### `dict.values()`  - zwraca wartości w słowniku"
   ]
  },
  {
   "cell_type": "code",
   "execution_count": 8,
   "id": "0fdc9992",
   "metadata": {},
   "outputs": [
    {
     "data": {
      "text/plain": [
       "dict_values([0, 2, 4, 6, 8, 10, 12, 14, 16, 18, 20])"
      ]
     },
     "execution_count": 8,
     "metadata": {},
     "output_type": "execute_result"
    }
   ],
   "source": [
    "d.values()"
   ]
  },
  {
   "cell_type": "markdown",
   "id": "b97cc9b9",
   "metadata": {},
   "source": [
    "##### `dict.pop(key)`  - удаляет ключ и возвращает значение."
   ]
  },
  {
   "cell_type": "code",
   "execution_count": 15,
   "id": "cbb1495d",
   "metadata": {},
   "outputs": [
    {
     "data": {
      "text/plain": [
       "18"
      ]
     },
     "execution_count": 15,
     "metadata": {},
     "output_type": "execute_result"
    }
   ],
   "source": [
    "d.pop(9)"
   ]
  },
  {
   "cell_type": "code",
   "execution_count": 12,
   "id": "ddcc4148",
   "metadata": {},
   "outputs": [
    {
     "data": {
      "text/plain": [
       "{0: 0, 1: 2, 2: 4, 3: 6, 4: 8, 5: 10, 6: 12, 7: 14, 8: 16, 10: 20}"
      ]
     },
     "execution_count": 12,
     "metadata": {},
     "output_type": "execute_result"
    }
   ],
   "source": [
    "d"
   ]
  },
  {
   "cell_type": "markdown",
   "id": "5e940c0b",
   "metadata": {},
   "source": [
    "##### `dict.popitem()` - usuwa i zwraca ostatnia parę (klucz, wartość)."
   ]
  },
  {
   "cell_type": "code",
   "execution_count": 25,
   "id": "2bd9036d",
   "metadata": {},
   "outputs": [
    {
     "data": {
      "text/plain": [
       "(10, 20)"
      ]
     },
     "execution_count": 25,
     "metadata": {},
     "output_type": "execute_result"
    }
   ],
   "source": [
    "d.popitem()"
   ]
  },
  {
   "cell_type": "code",
   "execution_count": 26,
   "id": "59dcad4c",
   "metadata": {},
   "outputs": [
    {
     "data": {
      "text/plain": [
       "{0: 0, 1: 2, 2: 4, 3: 6, 4: 8, 5: 10, 6: 12, 7: 14, 8: 16, 9: 18}"
      ]
     },
     "execution_count": 26,
     "metadata": {},
     "output_type": "execute_result"
    }
   ],
   "source": [
    "d"
   ]
  },
  {
   "cell_type": "markdown",
   "id": "b478412a",
   "metadata": {},
   "source": [
    "##### `dict.setdefault(key)` - zwraca wartość klucza, ale jeśli go nie ma, nie zgłasza wyjątku, ale tworzy klucz o wartości default (domyślnie None)."
   ]
  },
  {
   "cell_type": "code",
   "execution_count": 31,
   "id": "2eb428ed",
   "metadata": {},
   "outputs": [],
   "source": [
    "d.setdefault(11)"
   ]
  },
  {
   "cell_type": "code",
   "execution_count": 32,
   "id": "35061023",
   "metadata": {},
   "outputs": [
    {
     "data": {
      "text/plain": [
       "{0: 0, 1: 2, 2: 4, 3: 6, 4: 8, 5: 10, 6: 12, 7: 14, 8: 16, 9: 18, 11: None}"
      ]
     },
     "execution_count": 32,
     "metadata": {},
     "output_type": "execute_result"
    }
   ],
   "source": [
    "d"
   ]
  },
  {
   "cell_type": "markdown",
   "id": "7a1b6571",
   "metadata": {},
   "source": [
    "##### `dict.update ([other])` - aktualizuje słownik, dodając pary (klucz, wartość) z other. Istniejące klucze są nadpisywane. Zwraca None (Nie nowy słownik!).\n"
   ]
  },
  {
   "cell_type": "code",
   "execution_count": 35,
   "id": "1f350a2f",
   "metadata": {},
   "outputs": [
    {
     "data": {
      "text/plain": [
       "{0: 1, 1: 2, 2: 9, 3: 28, 4: 65, 5: 126, 6: 217, 7: 344, 8: 513, 9: 730}"
      ]
     },
     "execution_count": 35,
     "metadata": {},
     "output_type": "execute_result"
    }
   ],
   "source": [
    "d2 = {x : 1 + x**3 for x in range(10)}\n",
    "d2"
   ]
  },
  {
   "cell_type": "code",
   "execution_count": 36,
   "id": "0800cf13",
   "metadata": {},
   "outputs": [],
   "source": [
    "d.update(d2)"
   ]
  },
  {
   "cell_type": "code",
   "execution_count": 37,
   "id": "07494045",
   "metadata": {},
   "outputs": [
    {
     "data": {
      "text/plain": [
       "{0: 1,\n",
       " 1: 2,\n",
       " 2: 9,\n",
       " 3: 28,\n",
       " 4: 65,\n",
       " 5: 126,\n",
       " 6: 217,\n",
       " 7: 344,\n",
       " 8: 513,\n",
       " 9: 730,\n",
       " 11: None}"
      ]
     },
     "execution_count": 37,
     "metadata": {},
     "output_type": "execute_result"
    }
   ],
   "source": [
    "d"
   ]
  },
  {
   "cell_type": "markdown",
   "id": "e5568ed2",
   "metadata": {},
   "source": [
    "# Zbiory,zestawy(sets)\n",
    "___\n",
    "Zbiory tworzone są z elementów interowalnych w taki sposób, że w dany zbiorze może znaleźć się tylko jeden element o danej wartości.\n",
    "\n",
    "JEST STRUKTURA NIEUPORZADKOWANA CO OZNACZA:\n",
    "\n",
    "W przeciwieństwie do tablic, gdzie elementy są przechowywane jako uporządkowana lista, kolejność elementów w zbiorze jest niezdefiniowana (ponadto elementy zestawu zwykle nie są przechowywane w kolejności pojawiania się w zbiorze, co pozwala na sprawdzenie, czy element należy do zestawu szybciej niż przechodzenie przez wszystkie elementy zestawu).\n",
    "\n",
    "Dowolny niezmienny typ danych może być elementem zestawu: liczbą, łańcuchem, krotką. Zmienne (zmienne) typy danych nie mogą być elementami zestawu. W szczególności lista nie może być elementem zestawu (ale krotką), a inny zestaw nie może być elementem zestawu."
   ]
  },
  {
   "cell_type": "markdown",
   "id": "fd971873",
   "metadata": {},
   "source": [
    "##### Jak zdefiniowac zestaw?\n",
    "za pomoca funkcji `set()`"
   ]
  },
  {
   "cell_type": "code",
   "execution_count": 27,
   "id": "80984e66",
   "metadata": {},
   "outputs": [
    {
     "data": {
      "text/plain": [
       "{' ', 'a', 'c', 'd', 'h', 'i', 'l', 'n', 'y', 'z'}"
      ]
     },
     "execution_count": 27,
     "metadata": {},
     "output_type": "execute_result"
    }
   ],
   "source": [
    "A = set('analiza danych')\n",
    "A"
   ]
  },
  {
   "cell_type": "markdown",
   "id": "55b80cc5",
   "metadata": {},
   "source": [
    "#####  Moge zdefiniować zestaw nazywając wszystkie jego elementy w nawiasach. "
   ]
  },
  {
   "cell_type": "code",
   "execution_count": 25,
   "id": "2a708c9d",
   "metadata": {},
   "outputs": [
    {
     "data": {
      "text/plain": [
       "{' ', 2, 32, 42, 524, 'Fe'}"
      ]
     },
     "execution_count": 25,
     "metadata": {},
     "output_type": "execute_result"
    }
   ],
   "source": [
    "A = {2,2,32,\" \",42,\"Fe\",524}\n",
    "A"
   ]
  },
  {
   "cell_type": "markdown",
   "id": "75e3c3bb",
   "metadata": {},
   "source": [
    "##### Kolejność elementów jest nieważna. Set  jest struktura danych nieuporzadkowana"
   ]
  },
  {
   "cell_type": "code",
   "execution_count": 31,
   "id": "511f2dac",
   "metadata": {},
   "outputs": [
    {
     "data": {
      "text/plain": [
       "True"
      ]
     },
     "execution_count": 31,
     "metadata": {},
     "output_type": "execute_result"
    }
   ],
   "source": [
    "A = {1,2,3,4,5}\n",
    "B = {1,2,3,4,5,3,2,1,2,3,4,2,1,2}\n",
    "A == B"
   ]
  },
  {
   "cell_type": "markdown",
   "id": "9bed7526",
   "metadata": {},
   "source": [
    " #####  Operacje z setem\n"
   ]
  },
  {
   "cell_type": "code",
   "execution_count": 90,
   "id": "7f73f821",
   "metadata": {},
   "outputs": [
    {
     "data": {
      "text/plain": [
       "[0, 2, 4, 6, 8, 10, 12, 14, 16, 18, 20]"
      ]
     },
     "execution_count": 90,
     "metadata": {},
     "output_type": "execute_result"
    }
   ],
   "source": [
    "set1 = {x*2 for x in range(10)}\n",
    "\n",
    "#dlugosc zbiory \n",
    "len(set1) # 10\n",
    " \n",
    "#sprawdzenie czy element jest w zbiorze za pomoca 'in'\n",
    "12 in set1 #True\n",
    "\n",
    "#aby dodać element do zestawu, należy add() metodę:\n",
    "set1.add(20)\n",
    "set1\n",
    "\n",
    "#moge przekształcić zestaw do listy używając list funkcji.\n",
    "list(set1)"
   ]
  },
  {
   "cell_type": "markdown",
   "id": "872413cb",
   "metadata": {},
   "source": [
    "##### Istnieją dwie metody usuwania elementu z zestawu: `discard` i `remove`. Ich zachowanie zmienia się tylko w przypadku, gdy usunięty element nie był w zestawie. W takim przypadku metoda `discard` nic nie robi, a metoda `remove`  wyjątek wyswietla`KeyError`."
   ]
  },
  {
   "cell_type": "code",
   "execution_count": 102,
   "id": "c1e69790",
   "metadata": {
    "scrolled": true
   },
   "outputs": [
    {
     "ename": "KeyError",
     "evalue": "8",
     "output_type": "error",
     "traceback": [
      "\u001b[0;31m---------------------------------------------------------------------------\u001b[0m",
      "\u001b[0;31mKeyError\u001b[0m                                  Traceback (most recent call last)",
      "Input \u001b[0;32mIn [102]\u001b[0m, in \u001b[0;36m<cell line: 3>\u001b[0;34m()\u001b[0m\n\u001b[1;32m      1\u001b[0m set1\u001b[38;5;241m.\u001b[39mdiscard(\u001b[38;5;241m22\u001b[39m) \u001b[38;5;66;03m# nic nie robi\u001b[39;00m\n\u001b[0;32m----> 3\u001b[0m \u001b[43mset1\u001b[49m\u001b[38;5;241;43m.\u001b[39;49m\u001b[43mremove\u001b[49m\u001b[43m(\u001b[49m\u001b[38;5;241;43m8\u001b[39;49m\u001b[43m)\u001b[49m \n\u001b[1;32m      4\u001b[0m set1\n",
      "\u001b[0;31mKeyError\u001b[0m: 8"
     ]
    }
   ],
   "source": [
    "set1.discard(22) # nic nie robi\n",
    "\n",
    "set1.remove(8) \n",
    "set1"
   ]
  },
  {
   "cell_type": "markdown",
   "id": "a0d12c48",
   "metadata": {},
   "source": [
    "##### Na koniec, `pop()` usuwa jeden losowy element z zestawu i zwraca jego wartość. Jeśli zestaw jest pusty, pop generuje wyjątek `KeyError`"
   ]
  },
  {
   "cell_type": "code",
   "execution_count": 1,
   "id": "192db833",
   "metadata": {},
   "outputs": [
    {
     "ename": "KeyError",
     "evalue": "'pop from an empty set'",
     "output_type": "error",
     "traceback": [
      "\u001b[0;31m---------------------------------------------------------------------------\u001b[0m",
      "\u001b[0;31mKeyError\u001b[0m                                  Traceback (most recent call last)",
      "Input \u001b[0;32mIn [1]\u001b[0m, in \u001b[0;36m<cell line: 2>\u001b[0;34m()\u001b[0m\n\u001b[1;32m      1\u001b[0m set2 \u001b[38;5;241m=\u001b[39m \u001b[38;5;28mset\u001b[39m()\n\u001b[0;32m----> 2\u001b[0m \u001b[43mset2\u001b[49m\u001b[38;5;241;43m.\u001b[39;49m\u001b[43mpop\u001b[49m\u001b[43m(\u001b[49m\u001b[43m)\u001b[49m\n",
      "\u001b[0;31mKeyError\u001b[0m: 'pop from an empty set'"
     ]
    }
   ],
   "source": [
    "set2 = set()\n",
    "set2.pop()"
   ]
  },
  {
   "cell_type": "markdown",
   "id": "ae807b9a",
   "metadata": {},
   "source": [
    "##### Moge także iterować po wszystkich elementach zestawu (w niezdefiniowanej kolejności!) Używając pętli for:"
   ]
  },
  {
   "cell_type": "code",
   "execution_count": 77,
   "id": "5a744a63",
   "metadata": {},
   "outputs": [
    {
     "name": "stdout",
     "output_type": "stream",
     "text": [
      "0\n",
      "2\n",
      "4\n",
      "6\n",
      "8\n",
      "10\n",
      "12\n",
      "14\n",
      "16\n",
      "18\n"
     ]
    }
   ],
   "source": [
    "for elem in set1:\n",
    "    print(elem)"
   ]
  },
  {
   "cell_type": "markdown",
   "id": "795b27d0",
   "metadata": {},
   "source": [
    "___\n",
    "![](sets.png)\n",
    "____"
   ]
  },
  {
   "cell_type": "code",
   "execution_count": 42,
   "id": "404e315d",
   "metadata": {},
   "outputs": [],
   "source": [
    "A = {1,2,2,3,4,5}\n",
    "B = {2,4,5,2,7,8,10,11}"
   ]
  },
  {
   "cell_type": "markdown",
   "id": "538e23ce",
   "metadata": {},
   "source": [
    "##### Zestaw będący połączeniem zbiorów A i B\n",
    "![](polacznie.png)"
   ]
  },
  {
   "cell_type": "code",
   "execution_count": 43,
   "id": "4bcd406a",
   "metadata": {},
   "outputs": [
    {
     "data": {
      "text/plain": [
       "{1, 2, 3, 4, 5, 7, 8, 10, 11}"
      ]
     },
     "execution_count": 43,
     "metadata": {},
     "output_type": "execute_result"
    }
   ],
   "source": [
    "A|B"
   ]
  },
  {
   "cell_type": "code",
   "execution_count": 44,
   "id": "6096a118",
   "metadata": {},
   "outputs": [
    {
     "data": {
      "text/plain": [
       "{1, 2, 3, 4, 5, 7, 8, 10, 11}"
      ]
     },
     "execution_count": 44,
     "metadata": {},
     "output_type": "execute_result"
    }
   ],
   "source": [
    "A.union(B)"
   ]
  },
  {
   "cell_type": "markdown",
   "id": "190b7499",
   "metadata": {},
   "source": [
    "##### krzyżowanie się zbiorów A i B\n",
    "![](krzyżowanie.png)"
   ]
  },
  {
   "cell_type": "code",
   "execution_count": 45,
   "id": "6de656f4",
   "metadata": {},
   "outputs": [
    {
     "data": {
      "text/plain": [
       "{2, 4, 5}"
      ]
     },
     "execution_count": 45,
     "metadata": {},
     "output_type": "execute_result"
    }
   ],
   "source": [
    "A.intersection(B)"
   ]
  },
  {
   "cell_type": "code",
   "execution_count": 47,
   "id": "33ecfffd",
   "metadata": {},
   "outputs": [
    {
     "data": {
      "text/plain": [
       "{2, 4, 5}"
      ]
     },
     "execution_count": 47,
     "metadata": {},
     "output_type": "execute_result"
    }
   ],
   "source": [
    "A & B"
   ]
  },
  {
   "cell_type": "markdown",
   "id": "7ab4b6af",
   "metadata": {},
   "source": [
    "##### elementy ktore naleza do zbiory A i tylko do A\n",
    "![](difference.jpg)"
   ]
  },
  {
   "cell_type": "code",
   "execution_count": 48,
   "id": "0aab05fc",
   "metadata": {},
   "outputs": [
    {
     "data": {
      "text/plain": [
       "{1, 3}"
      ]
     },
     "execution_count": 48,
     "metadata": {},
     "output_type": "execute_result"
    }
   ],
   "source": [
    "A.difference(B)"
   ]
  },
  {
   "cell_type": "code",
   "execution_count": 51,
   "id": "0fd61ff2",
   "metadata": {},
   "outputs": [
    {
     "data": {
      "text/plain": [
       "{1, 3}"
      ]
     },
     "execution_count": 51,
     "metadata": {},
     "output_type": "execute_result"
    }
   ],
   "source": [
    "A - B"
   ]
  },
  {
   "cell_type": "markdown",
   "id": "f4f606c2",
   "metadata": {},
   "source": [
    "##### Elementy ktore naleza do jendego zbiory , ale nie naleza do A I B wowczas\n",
    "(WSZYSTKO OPOCZ WSPOLNEJ CZESCI)"
   ]
  },
  {
   "cell_type": "code",
   "execution_count": 55,
   "id": "b11689bb",
   "metadata": {},
   "outputs": [
    {
     "data": {
      "text/plain": [
       "{1, 3, 7, 8, 10, 11}"
      ]
     },
     "execution_count": 55,
     "metadata": {},
     "output_type": "execute_result"
    }
   ],
   "source": [
    "A.symmetric_difference(B)"
   ]
  },
  {
   "cell_type": "code",
   "execution_count": 52,
   "id": "8bb9bfb5",
   "metadata": {},
   "outputs": [
    {
     "data": {
      "text/plain": [
       "{1, 3, 7, 8, 10, 11}"
      ]
     },
     "execution_count": 52,
     "metadata": {},
     "output_type": "execute_result"
    }
   ],
   "source": [
    "A ^ B"
   ]
  },
  {
   "cell_type": "markdown",
   "id": "13c38531",
   "metadata": {},
   "source": [
    "##### Zwraca True lub False,sprawdza czy zbior A NIEma wpolnych elementow ze zbiorem B"
   ]
  },
  {
   "cell_type": "code",
   "execution_count": 16,
   "id": "8b00acc6",
   "metadata": {},
   "outputs": [
    {
     "data": {
      "text/plain": [
       "False"
      ]
     },
     "execution_count": 16,
     "metadata": {},
     "output_type": "execute_result"
    }
   ],
   "source": [
    "A.isdisjoint(B)"
   ]
  },
  {
   "cell_type": "markdown",
   "id": "506b3d02",
   "metadata": {},
   "source": [
    "##### Zwraca True lub False,prawdza czy wszystkie elementy z A naleza do zbiory B, a elementy z zbiory B nalezy do A"
   ]
  },
  {
   "cell_type": "code",
   "execution_count": 17,
   "id": "bc7ea32f",
   "metadata": {},
   "outputs": [
    {
     "data": {
      "text/plain": [
       "False"
      ]
     },
     "execution_count": 17,
     "metadata": {},
     "output_type": "execute_result"
    }
   ],
   "source": [
    "A == B"
   ]
  },
  {
   "cell_type": "markdown",
   "id": "529eed29",
   "metadata": {},
   "source": [
    "##### Wzystkie elementy A naleza do B"
   ]
  },
  {
   "cell_type": "code",
   "execution_count": 23,
   "id": "7b570af4",
   "metadata": {},
   "outputs": [
    {
     "data": {
      "text/plain": [
       "True"
      ]
     },
     "execution_count": 23,
     "metadata": {},
     "output_type": "execute_result"
    }
   ],
   "source": [
    "A = {1,2,3,4,5}\n",
    "B = {2,3,2,3,4,5,1,2,3,2,2,3,4,1,4,5,6,7,8}\n",
    "A.issubset(B)"
   ]
  },
  {
   "cell_type": "code",
   "execution_count": 20,
   "id": "3aa8b7ec",
   "metadata": {},
   "outputs": [
    {
     "data": {
      "text/plain": [
       "False"
      ]
     },
     "execution_count": 20,
     "metadata": {},
     "output_type": "execute_result"
    }
   ],
   "source": [
    "A <= B"
   ]
  },
  {
   "cell_type": "markdown",
   "id": "6e12ac26",
   "metadata": {},
   "source": [
    "#### Wzystkie elementy B naleza do A"
   ]
  },
  {
   "cell_type": "code",
   "execution_count": 35,
   "id": "4380f58d",
   "metadata": {},
   "outputs": [
    {
     "data": {
      "text/plain": [
       "True"
      ]
     },
     "execution_count": 35,
     "metadata": {},
     "output_type": "execute_result"
    }
   ],
   "source": [
    "A = {1,2,3,4,23,42,42,4,2,4,1,2,4,12}\n",
    "B = {2,1,2,3,4}\n",
    "\n",
    "A.issuperset(B)"
   ]
  },
  {
   "cell_type": "code",
   "execution_count": 38,
   "id": "08024b4e",
   "metadata": {},
   "outputs": [
    {
     "data": {
      "text/plain": [
       "True"
      ]
     },
     "execution_count": 38,
     "metadata": {},
     "output_type": "execute_result"
    }
   ],
   "source": [
    "A >= B"
   ]
  },
  {
   "cell_type": "markdown",
   "id": "f5d686ad",
   "metadata": {},
   "source": [
    "### Krotki (tuple)\n",
    "___\n",
    "Dlaczego krotki są potrzebne, jeśli istnieją listy?\n",
    "> * krotki zajmuja mniej miejsca niz listy\n",
    "> * Ochrona przed głupcem. Oznacza to, że krotka jest chroniona przed zmianami, zarówno celowymi (co jest złe), jak i losowymi (co jest dobre).\n",
    "> * może przechowywać różne typy danych jak i lista "
   ]
  },
  {
   "cell_type": "code",
   "execution_count": 1,
   "id": "3929e29f",
   "metadata": {
    "scrolled": true
   },
   "outputs": [
    {
     "data": {
      "text/plain": [
       "tuple"
      ]
     },
     "execution_count": 1,
     "metadata": {},
     "output_type": "execute_result"
    }
   ],
   "source": [
    "krotka = ()\n",
    "type(krotka)"
   ]
  },
  {
   "cell_type": "code",
   "execution_count": 17,
   "id": "4cf6e766",
   "metadata": {},
   "outputs": [
    {
     "data": {
      "text/plain": [
       "(1, 2, 3, 4, 5, 'a', 'b', 'c', 'd')"
      ]
     },
     "execution_count": 17,
     "metadata": {},
     "output_type": "execute_result"
    }
   ],
   "source": [
    "krotka = (1,2,3,4,5)\n",
    "krotka2 = ('a','b','c','d')\n",
    "krotka + krotka2"
   ]
  },
  {
   "cell_type": "code",
   "execution_count": 18,
   "id": "2e4d0f83",
   "metadata": {},
   "outputs": [
    {
     "data": {
      "text/plain": [
       "('a', 'b', 'c', 'd', 1, 2, 3, 4, 5)"
      ]
     },
     "execution_count": 18,
     "metadata": {},
     "output_type": "execute_result"
    }
   ],
   "source": [
    "krotka2+krotka"
   ]
  },
  {
   "cell_type": "markdown",
   "id": "bf140706",
   "metadata": {},
   "source": [
    "#### Muszę tutaj przyznać, że krotek nie używa się zbyt często. Są one wykorzystywane w programowaniu zdecydowanie rzadziej niż listy i do tego w specyficznych zastosowaniach. A oto kilka zalet krotek:\n",
    "___\n",
    "* Po pierwsze, krotki są znacznie szybsze podczas obliczeń niż listy. Różnica jest nawet 10-krotna.\n",
    "\n",
    "\n",
    "* Krotki używamy wtedy, kiedy mamy do czynienia z elementami, które nie powinny być podatne na modyfikacje, jak np. spis dni tygodnia lub daty w kalendarzu. Krotki zapewniają bezpieczeństwo, że żaden z jej elementów jak i ona sama nie zmienią się podczas przeprowadzanych operacji. Listy tego nie zapewniają.\n",
    "\n",
    "\n",
    "* **Zasada generalne jest też taka, że krotki używamy do przechowywania różnych typów danych (heterogeneous datatypes), natomiast listy do podobnych typów danych (homogeneous datatypes).**"
   ]
  },
  {
   "cell_type": "markdown",
   "id": "3d1b5ccf",
   "metadata": {},
   "source": [
    "### PRZYKŁAD ZASTOSOWANIA KROTEK\n",
    "___\n",
    " Jest to proste wykorzystanie krotek do przypisywania zmiennym wartości"
   ]
  },
  {
   "cell_type": "code",
   "execution_count": 21,
   "id": "fdd12766",
   "metadata": {},
   "outputs": [
    {
     "name": "stdout",
     "output_type": "stream",
     "text": [
      "Gs/07\n",
      "0.6\n",
      "0.12\n"
     ]
    }
   ],
   "source": [
    "tup = ('Gs/07', 0.6, 0.12)\n",
    "(waga, rozmiar, skutecznosc) = tup\n",
    "\n",
    "print(waga)\n",
    "print(rozmiar)\n",
    "print(skutecznosc)"
   ]
  },
  {
   "cell_type": "markdown",
   "id": "87677382",
   "metadata": {},
   "source": [
    "### Defaultdict\n",
    "___\n",
    "Dziala jak zwykly slownik poza tym gdy chcesz znalezc w nim nieistniejacy klucz.\n"
   ]
  },
  {
   "cell_type": "code",
   "execution_count": 25,
   "id": "13f541d1",
   "metadata": {},
   "outputs": [],
   "source": [
    "#aby skorzystac z defalutdict musze zainstalowac biblioteke\n",
    "from collections import defaultdict"
   ]
  },
  {
   "cell_type": "markdown",
   "id": "4e3bc27f",
   "metadata": {},
   "source": [
    "#####  roznica miedzy zwykly `dict` a `defaultdict`"
   ]
  },
  {
   "cell_type": "code",
   "execution_count": 28,
   "id": "58e4fd8f",
   "metadata": {},
   "outputs": [
    {
     "ename": "KeyError",
     "evalue": "'a'",
     "output_type": "error",
     "traceback": [
      "\u001b[0;31m---------------------------------------------------------------------------\u001b[0m",
      "\u001b[0;31mKeyError\u001b[0m                                  Traceback (most recent call last)",
      "Input \u001b[0;32mIn [28]\u001b[0m, in \u001b[0;36m<cell line: 2>\u001b[0;34m()\u001b[0m\n\u001b[1;32m      1\u001b[0m d \u001b[38;5;241m=\u001b[39m {}\n\u001b[0;32m----> 2\u001b[0m \u001b[43md\u001b[49m\u001b[43m[\u001b[49m\u001b[38;5;124;43m'\u001b[39;49m\u001b[38;5;124;43ma\u001b[39;49m\u001b[38;5;124;43m'\u001b[39;49m\u001b[43m]\u001b[49m\n",
      "\u001b[0;31mKeyError\u001b[0m: 'a'"
     ]
    }
   ],
   "source": [
    "#przy wywowaniu nieistniejacy klucza , mamy wyjatek KeyError\n",
    "d = {}\n",
    "d['a']"
   ]
  },
  {
   "cell_type": "code",
   "execution_count": 29,
   "id": "9dfa5b74",
   "metadata": {},
   "outputs": [
    {
     "data": {
      "text/plain": [
       "defaultdict(int, {})"
      ]
     },
     "execution_count": 29,
     "metadata": {},
     "output_type": "execute_result"
    }
   ],
   "source": [
    "#tworzymy defaultdict\n",
    "d = defaultdict(int)\n",
    "d"
   ]
  },
  {
   "cell_type": "code",
   "execution_count": 31,
   "id": "675158fe",
   "metadata": {},
   "outputs": [
    {
     "data": {
      "text/plain": [
       "defaultdict(int, {'a': 0})"
      ]
     },
     "execution_count": 31,
     "metadata": {},
     "output_type": "execute_result"
    }
   ],
   "source": [
    "#kiedy chcemy wywowylac jakis klucz jakiego nie isntieje w danym slowniku , to bedziemy mieli\n",
    "#domyślnia wartosc jaka mozemy sami ustalic, w danym przykladzie przy tworzeniu defaultdict , jako \n",
    "# parametr dalem int, co oznacza ze domyslnia wartosc bedzie 0\n",
    "d['a']\n",
    "d"
   ]
  },
  {
   "cell_type": "code",
   "execution_count": 33,
   "id": "237c8aaf",
   "metadata": {},
   "outputs": [
    {
     "data": {
      "text/plain": [
       "defaultdict(list, {})"
      ]
     },
     "execution_count": 33,
     "metadata": {},
     "output_type": "execute_result"
    }
   ],
   "source": [
    "# rowniez domyslna wartosc moze byc i inne 'callable' zmienne , naprzyklad lista\n",
    "d = defaultdict(list)\n",
    "d"
   ]
  },
  {
   "cell_type": "code",
   "execution_count": 35,
   "id": "0411692a",
   "metadata": {},
   "outputs": [
    {
     "data": {
      "text/plain": [
       "defaultdict(list, {'b': []})"
      ]
     },
     "execution_count": 35,
     "metadata": {},
     "output_type": "execute_result"
    }
   ],
   "source": [
    "# jak widac teraz domyslna wartosc jak pusta lista Pythona\n",
    "d['b']\n",
    "d"
   ]
  },
  {
   "cell_type": "markdown",
   "id": "38b7897b",
   "metadata": {},
   "source": [
    "##### mozemy zmieniac domyslna wartosc defaultdict , za pomoca funckji  `default_factory`"
   ]
  },
  {
   "cell_type": "code",
   "execution_count": 42,
   "id": "fbb67823",
   "metadata": {},
   "outputs": [
    {
     "data": {
      "text/plain": [
       "defaultdict(<function __main__.<lambda>()>, {'b': []})"
      ]
     },
     "execution_count": 42,
     "metadata": {},
     "output_type": "execute_result"
    }
   ],
   "source": [
    "d.default_factory = lambda : [1,2,3]\n",
    "d"
   ]
  },
  {
   "cell_type": "code",
   "execution_count": 43,
   "id": "d1ce760f",
   "metadata": {},
   "outputs": [
    {
     "data": {
      "text/plain": [
       "[1, 2, 3]"
      ]
     },
     "execution_count": 43,
     "metadata": {},
     "output_type": "execute_result"
    }
   ],
   "source": [
    "d['new']"
   ]
  },
  {
   "cell_type": "code",
   "execution_count": 45,
   "id": "012d29e1",
   "metadata": {},
   "outputs": [
    {
     "data": {
      "text/plain": [
       "defaultdict(<function __main__.<lambda>()>, {'b': [], 'new': [1, 2, 3]})"
      ]
     },
     "execution_count": 45,
     "metadata": {},
     "output_type": "execute_result"
    }
   ],
   "source": [
    "#teraz widac ze jest domyslna wartosc : (<function __main__.<lambda>()>\n",
    "d"
   ]
  },
  {
   "cell_type": "markdown",
   "id": "161dd241",
   "metadata": {},
   "source": [
    "##### przyklad wykorzystania defaultdict"
   ]
  },
  {
   "cell_type": "code",
   "execution_count": 50,
   "id": "9ed23b57",
   "metadata": {},
   "outputs": [
    {
     "data": {
      "text/plain": [
       "[('kowal', 2),\n",
       " ('nowak', 3),\n",
       " ('gruca', 5),\n",
       " ('zagorski', 1),\n",
       " ('nowak', 4),\n",
       " ('zvarych', 6),\n",
       " ('nowak', 3),\n",
       " ('gruca', 2)]"
      ]
     },
     "execution_count": 50,
     "metadata": {},
     "output_type": "execute_result"
    }
   ],
   "source": [
    "data = [\n",
    "    (\"kowal\", 2),\n",
    "    (\"nowak\", 3),\n",
    "    (\"gruca\", 5),\n",
    "    (\"zagorski\",1),\n",
    "    (\"nowak\",4),\n",
    "    (\"zvarych\",6),\n",
    "    (\"nowak\",3),\n",
    "    (\"gruca\",2)\n",
    "]\n",
    "data"
   ]
  },
  {
   "cell_type": "code",
   "execution_count": 70,
   "id": "cbeaa831",
   "metadata": {},
   "outputs": [
    {
     "data": {
      "text/plain": [
       "defaultdict(int, {})"
      ]
     },
     "execution_count": 70,
     "metadata": {},
     "output_type": "execute_result"
    }
   ],
   "source": [
    "#tworze defaultdict\n",
    "marks = defaultdict(int) # int, bo oceny sa integer\n",
    "marks"
   ]
  },
  {
   "cell_type": "code",
   "execution_count": 71,
   "id": "f9e27022",
   "metadata": {},
   "outputs": [],
   "source": [
    "for surname, mark in data:\n",
    "    marks[surname] += mark"
   ]
  },
  {
   "cell_type": "code",
   "execution_count": 73,
   "id": "f4a2034e",
   "metadata": {},
   "outputs": [
    {
     "data": {
      "text/plain": [
       "defaultdict(int,\n",
       "            {'kowal': 2, 'nowak': 10, 'gruca': 7, 'zagorski': 1, 'zvarych': 6})"
      ]
     },
     "execution_count": 73,
     "metadata": {},
     "output_type": "execute_result"
    }
   ],
   "source": [
    "marks"
   ]
  },
  {
   "cell_type": "code",
   "execution_count": 85,
   "id": "032acfd9",
   "metadata": {},
   "outputs": [
    {
     "data": {
      "text/plain": [
       "defaultdict(list,\n",
       "            {'kowal': [2],\n",
       "             'nowak': [3, 4, 3],\n",
       "             'gruca': [5, 2],\n",
       "             'zagorski': [1],\n",
       "             'zvarych': [6]})"
      ]
     },
     "execution_count": 85,
     "metadata": {},
     "output_type": "execute_result"
    }
   ],
   "source": [
    "marks_list = defaultdict(list) # chce zgrupowac oneny jako liste\n",
    "for surname, mark in data:\n",
    "    marks_list[surname].append(mark)\n",
    "marks_list"
   ]
  },
  {
   "cell_type": "code",
   "execution_count": 86,
   "id": "058bc8ec",
   "metadata": {},
   "outputs": [
    {
     "data": {
      "text/plain": [
       "defaultdict(set,\n",
       "            {'kowal': {2},\n",
       "             'nowak': {3, 4},\n",
       "             'gruca': {2, 5},\n",
       "             'zagorski': {1},\n",
       "             'zvarych': {6}})"
      ]
     },
     "execution_count": 86,
     "metadata": {},
     "output_type": "execute_result"
    }
   ],
   "source": [
    "mark_set  = defaultdict(set) # chce wyswietlic tylko unikalne oceny kazdego ucznia\n",
    "for surname, mark in data:\n",
    "    mark_set[surname].add(mark)\n",
    "mark_set"
   ]
  },
  {
   "cell_type": "markdown",
   "id": "45b1f466",
   "metadata": {},
   "source": [
    "### Counter (licznik)\n",
    "___\n",
    "funckja `Counter`zamienia sekwencje wartosci w obiekt podobny do `defaultdict(int)` - mapuje klucze do liczby ich wystapien:"
   ]
  },
  {
   "cell_type": "code",
   "execution_count": 3,
   "id": "3396a734",
   "metadata": {},
   "outputs": [
    {
     "data": {
      "text/plain": [
       "Counter({1: 2, 2: 1, 0: 1})"
      ]
     },
     "execution_count": 3,
     "metadata": {},
     "output_type": "execute_result"
    }
   ],
   "source": [
    "from collections import Counter\n",
    "c = Counter([1,2,1,0])\n",
    "c"
   ]
  },
  {
   "cell_type": "code",
   "execution_count": 10,
   "id": "90257338",
   "metadata": {},
   "outputs": [
    {
     "data": {
      "text/plain": [
       "Counter({'D': 1,\n",
       "         'e': 1,\n",
       "         'n': 1,\n",
       "         'y': 2,\n",
       "         's': 1,\n",
       "         ' ': 1,\n",
       "         'Z': 1,\n",
       "         'v': 1,\n",
       "         'a': 1,\n",
       "         'r': 1,\n",
       "         'c': 1,\n",
       "         'h': 1})"
      ]
     },
     "execution_count": 10,
     "metadata": {},
     "output_type": "execute_result"
    }
   ],
   "source": [
    "s = 'Denys Zvarych'\n",
    "Counter(s)"
   ]
  },
  {
   "cell_type": "code",
   "execution_count": 13,
   "id": "acbccd51",
   "metadata": {
    "scrolled": true
   },
   "outputs": [
    {
     "data": {
      "text/plain": [
       "Counter({'Denys': 2, 'Ben': 1, 'Jakub': 3})"
      ]
     },
     "execution_count": 13,
     "metadata": {},
     "output_type": "execute_result"
    }
   ],
   "source": [
    "names = ['Denys', 'Ben', 'Jakub', 'Denys', 'Jakub', 'Jakub']\n",
    "Counter(names)"
   ]
  },
  {
   "cell_type": "markdown",
   "id": "9677b154",
   "metadata": {},
   "source": [
    "##### struktura danych Counter jest podobna `defaultdict` mozemy wywowylac klucze orza wartosci danej struktury:"
   ]
  },
  {
   "cell_type": "code",
   "execution_count": 23,
   "id": "51c95778",
   "metadata": {
    "scrolled": true
   },
   "outputs": [
    {
     "data": {
      "text/plain": [
       "dict_keys(['Denys', 'Ben', 'Jakub'])"
      ]
     },
     "execution_count": 23,
     "metadata": {},
     "output_type": "execute_result"
    }
   ],
   "source": [
    "c = Counter(names)\n",
    "c['Denys'] # 2\n",
    " \n",
    "c.items() # ict_items([('Denys', 2), ('Ben', 1), ('Jakub', 3)])\n",
    "c.values() # dict_values([2, 1, 3])\n",
    "c.keys()"
   ]
  },
  {
   "cell_type": "markdown",
   "id": "8e52cd75",
   "metadata": {},
   "source": [
    "##### rowniez obiekt Counter ma unikalnie metody, jakich nie na `defaultdict`:\n",
    "* `elements()` - tworzy interator w ktorym sa klucze, wypisywane tyle ile klucz ten wystepuje w Counter\n",
    "* `most_common()` -  sluzy do wybierania najczesciej wystepujacego elementu"
   ]
  },
  {
   "cell_type": "code",
   "execution_count": 24,
   "id": "71d3ac88",
   "metadata": {},
   "outputs": [
    {
     "data": {
      "text/plain": [
       "<itertools.chain at 0x7f91786b7310>"
      ]
     },
     "execution_count": 24,
     "metadata": {},
     "output_type": "execute_result"
    }
   ],
   "source": [
    "c.elements() # tworzy iterator"
   ]
  },
  {
   "cell_type": "code",
   "execution_count": 26,
   "id": "fba38908",
   "metadata": {},
   "outputs": [
    {
     "name": "stdout",
     "output_type": "stream",
     "text": [
      "Denys\n",
      "Denys\n",
      "Ben\n",
      "Jakub\n",
      "Jakub\n",
      "Jakub\n"
     ]
    }
   ],
   "source": [
    "for i in c.elements():\n",
    "    print(i)"
   ]
  },
  {
   "cell_type": "code",
   "execution_count": 28,
   "id": "1af7fc3e",
   "metadata": {},
   "outputs": [
    {
     "data": {
      "text/plain": [
       "[('Jakub', 3), ('Denys', 2), ('Ben', 1)]"
      ]
     },
     "execution_count": 28,
     "metadata": {},
     "output_type": "execute_result"
    }
   ],
   "source": [
    "c.most_common() #wypisuje wszystkie (klucz - wartosc), posortowane wg wartosci"
   ]
  },
  {
   "cell_type": "code",
   "execution_count": 29,
   "id": "9ee050d1",
   "metadata": {},
   "outputs": [
    {
     "data": {
      "text/plain": [
       "[('Jakub', 3), ('Denys', 2)]"
      ]
     },
     "execution_count": 29,
     "metadata": {},
     "output_type": "execute_result"
    }
   ],
   "source": [
    "c.most_common(2) #wypisuje tylko 2 pierwsze (klucz - wartosc) posortowane wg wartosci"
   ]
  },
  {
   "cell_type": "markdown",
   "id": "6f35824a",
   "metadata": {},
   "source": [
    "#####  mozemy robic rozne operacje miedzy dwoma `Counter`"
   ]
  },
  {
   "cell_type": "code",
   "execution_count": 39,
   "id": "ad61d516",
   "metadata": {},
   "outputs": [
    {
     "data": {
      "text/plain": [
       "Counter({1: 2, 2: 2, 3: 1, 4: 1})"
      ]
     },
     "execution_count": 39,
     "metadata": {},
     "output_type": "execute_result"
    }
   ],
   "source": [
    "c1 = Counter([1,1,2,2,3,4,])\n",
    "c1"
   ]
  },
  {
   "cell_type": "code",
   "execution_count": 42,
   "id": "d8bc1a62",
   "metadata": {},
   "outputs": [
    {
     "data": {
      "text/plain": [
       "Counter({1: 4, 2: 6, 3: 2, 4: 2, 5: 1})"
      ]
     },
     "execution_count": 42,
     "metadata": {},
     "output_type": "execute_result"
    }
   ],
   "source": [
    "c2 = Counter([1,1,2,2,2,2,3,4,5])\n",
    "c1 + c2"
   ]
  },
  {
   "cell_type": "code",
   "execution_count": 46,
   "id": "e7e463ad",
   "metadata": {},
   "outputs": [
    {
     "data": {
      "text/plain": [
       "Counter({2: 2, 5: 1})"
      ]
     },
     "execution_count": 46,
     "metadata": {},
     "output_type": "execute_result"
    }
   ],
   "source": [
    "c2-c1"
   ]
  },
  {
   "cell_type": "markdown",
   "id": "41b86156",
   "metadata": {},
   "source": [
    "### Sortowanie \n",
    "___\n",
    "kazda lista w Pythonie ma metode `sort()` ktora modyfikuje list,\n",
    "jezeli nie chesz modyfikowac liste to trzeba skorzystac z funckji `y = sorted(x)`\n",
    "\n",
    "te obudwie metody maja paremter `reverse = False` , co oznacza kolejnosci sotrtowanie elementow"
   ]
  },
  {
   "cell_type": "code",
   "execution_count": 76,
   "id": "37042ff4",
   "metadata": {},
   "outputs": [
    {
     "data": {
      "text/plain": [
       "[1, 2, 3, 4]"
      ]
     },
     "execution_count": 76,
     "metadata": {},
     "output_type": "execute_result"
    }
   ],
   "source": [
    "x = [4,1,2,3]\n",
    "x.sort()\n",
    "x"
   ]
  },
  {
   "cell_type": "code",
   "execution_count": 81,
   "id": "7606430a",
   "metadata": {},
   "outputs": [
    {
     "name": "stdout",
     "output_type": "stream",
     "text": [
      "[1, 23, 4, 2]\n",
      "[23, 4, 2, 1]\n"
     ]
    }
   ],
   "source": [
    "x = [1,23,4,2]\n",
    "y = sorted(x,reverse=True)\n",
    "print(x)\n",
    "print(y)"
   ]
  },
  {
   "cell_type": "markdown",
   "id": "f542c26c",
   "metadata": {},
   "source": [
    "### Testy automatyczne i instrukcja assert\n",
    "___\n",
    "Analiza danych wymaga napisania duzej ilosci kodu, dlatego warto uperwnic sie, ze on jest poprawny.\n",
    "\n",
    "\n",
    "**Instrukjca `assert` podowuje pojawienie sie wyjatku `AssertionError`, jezeli osreslony warunek nie jest prawdziwy** "
   ]
  },
  {
   "cell_type": "code",
   "execution_count": 85,
   "id": "6924cc7a",
   "metadata": {},
   "outputs": [],
   "source": [
    "assert 1 + 1 == 2"
   ]
  },
  {
   "cell_type": "code",
   "execution_count": 88,
   "id": "009d3c26",
   "metadata": {},
   "outputs": [
    {
     "ename": "AssertionError",
     "evalue": "musi byc 4!",
     "output_type": "error",
     "traceback": [
      "\u001b[0;31m---------------------------------------------------------------------------\u001b[0m",
      "\u001b[0;31mAssertionError\u001b[0m                            Traceback (most recent call last)",
      "Input \u001b[0;32mIn [88]\u001b[0m, in \u001b[0;36m<cell line: 1>\u001b[0;34m()\u001b[0m\n\u001b[0;32m----> 1\u001b[0m \u001b[38;5;28;01massert\u001b[39;00m \u001b[38;5;241m2\u001b[39m \u001b[38;5;241m+\u001b[39m \u001b[38;5;241m2\u001b[39m \u001b[38;5;241m==\u001b[39m \u001b[38;5;241m5\u001b[39m, \u001b[38;5;124m\"\u001b[39m\u001b[38;5;124mmusi byc 4!\u001b[39m\u001b[38;5;124m\"\u001b[39m\n",
      "\u001b[0;31mAssertionError\u001b[0m: musi byc 4!"
     ]
    }
   ],
   "source": [
    "assert 2 + 2 == 5, \"musi byc 4!\""
   ]
  },
  {
   "cell_type": "code",
   "execution_count": 95,
   "id": "fa5cf142",
   "metadata": {},
   "outputs": [
    {
     "ename": "AssertionError",
     "evalue": "funkcja dziala nie prawidlowo",
     "output_type": "error",
     "traceback": [
      "\u001b[0;31m---------------------------------------------------------------------------\u001b[0m",
      "\u001b[0;31mAssertionError\u001b[0m                            Traceback (most recent call last)",
      "Input \u001b[0;32mIn [95]\u001b[0m, in \u001b[0;36m<cell line: 4>\u001b[0;34m()\u001b[0m\n\u001b[1;32m      1\u001b[0m \u001b[38;5;28;01mdef\u001b[39;00m \u001b[38;5;21msmalest_item\u001b[39m(xs):\n\u001b[1;32m      2\u001b[0m     \u001b[38;5;28;01mreturn\u001b[39;00m \u001b[38;5;28mmax\u001b[39m(xs)\n\u001b[0;32m----> 4\u001b[0m \u001b[38;5;28;01massert\u001b[39;00m smalest_item([\u001b[38;5;241m10\u001b[39m,\u001b[38;5;241m20\u001b[39m,\u001b[38;5;241m34\u001b[39m,\u001b[38;5;241m2\u001b[39m,\u001b[38;5;241m4\u001b[39m,\u001b[38;5;241m5\u001b[39m,\u001b[38;5;241m0\u001b[39m,\u001b[38;5;241m-\u001b[39m\u001b[38;5;241m24\u001b[39m]) \u001b[38;5;241m==\u001b[39m \u001b[38;5;241m-\u001b[39m\u001b[38;5;241m24\u001b[39m,  \u001b[38;5;124m\"\u001b[39m\u001b[38;5;124mfunkcja dziala nie prawidlowo\u001b[39m\u001b[38;5;124m\"\u001b[39m\n",
      "\u001b[0;31mAssertionError\u001b[0m: funkcja dziala nie prawidlowo"
     ]
    }
   ],
   "source": [
    "def smalest_item(xs):\n",
    "    return max(xs)\n",
    "\n",
    "assert smalest_item([10,20,34,2,4,5,0,-24]) == -24,  \"funkcja dziala nie prawidlowo\""
   ]
  },
  {
   "cell_type": "markdown",
   "id": "b7030965",
   "metadata": {},
   "source": [
    "### OOP\n",
    "___\n",
    "`__init__` - konstuktor , takie funckje czesto nazywaja *dunder* (Double UNDERscore) , bo maja na poczatku i na koncu \"__\""
   ]
  },
  {
   "cell_type": "code",
   "execution_count": 114,
   "id": "bae0b88a",
   "metadata": {},
   "outputs": [],
   "source": [
    "class CoutingClicker:\n",
    "    \"\"\"Klasa, powinna miec opis dokunentajacy\"\"\"\n",
    "    \n",
    "    def __init__(self, count = 5):\n",
    "        self.count = count\n",
    "    \n",
    "    def click(self, num_times = 1):\n",
    "        self.count += num_times\n",
    "        \n",
    "    def read(self):\n",
    "        return self.count\n",
    "    \n",
    "    def reset(self):\n",
    "        self.count = 0\n",
    "        return 0  "
   ]
  },
  {
   "cell_type": "code",
   "execution_count": 104,
   "id": "6db69488",
   "metadata": {},
   "outputs": [
    {
     "data": {
      "text/plain": [
       "5"
      ]
     },
     "execution_count": 104,
     "metadata": {},
     "output_type": "execute_result"
    }
   ],
   "source": [
    "clicker1 = CoutingClicker()\n",
    "clicker1.count"
   ]
  },
  {
   "cell_type": "code",
   "execution_count": 105,
   "id": "d938513d",
   "metadata": {},
   "outputs": [
    {
     "data": {
      "text/plain": [
       "100"
      ]
     },
     "execution_count": 105,
     "metadata": {},
     "output_type": "execute_result"
    }
   ],
   "source": [
    "clicker2 = CoutingClicker(100)\n",
    "clicker2.count"
   ]
  },
  {
   "cell_type": "code",
   "execution_count": 120,
   "id": "b68f9316",
   "metadata": {},
   "outputs": [
    {
     "data": {
      "text/plain": [
       "110"
      ]
     },
     "execution_count": 120,
     "metadata": {},
     "output_type": "execute_result"
    }
   ],
   "source": [
    "clicker3 = CoutingClicker(10)\n",
    "clicker3.click(100)\n",
    "clicker3.count "
   ]
  },
  {
   "cell_type": "markdown",
   "id": "44445764",
   "metadata": {},
   "source": [
    "### Obiekty iterowane i generatorygeneratory\n",
    "___\n",
    "generatory mozna tworzyc za pomoca funckji i operatora `yeld`"
   ]
  },
  {
   "cell_type": "code",
   "execution_count": 8,
   "id": "6b29aa79",
   "metadata": {},
   "outputs": [],
   "source": [
    "import numpy as np\n",
    "\n",
    "def generate_range(n):\n",
    "    i = 0\n",
    "    while i < n:\n",
    "        yield (np.random.randint(100)) #kazde odwolanie od yield - wygenerowanie watosci generatora\n",
    "        i +=1 "
   ]
  },
  {
   "cell_type": "code",
   "execution_count": 9,
   "id": "c6d94738",
   "metadata": {},
   "outputs": [
    {
     "name": "stdout",
     "output_type": "stream",
     "text": [
      "77\n",
      "30\n",
      "5\n",
      "90\n",
      "13\n",
      "15\n",
      "29\n",
      "14\n",
      "12\n",
      "46\n"
     ]
    }
   ],
   "source": [
    "for x in generate_range(10):\n",
    "    print(x)"
   ]
  },
  {
   "cell_type": "markdown",
   "id": "5376500b",
   "metadata": {},
   "source": [
    "##### Generatory mozna rozwiez tworzyc , umieszczajac w nawiasach wyrazenia porownujace:"
   ]
  },
  {
   "cell_type": "code",
   "execution_count": 29,
   "id": "1472feb2",
   "metadata": {},
   "outputs": [
    {
     "name": "stdout",
     "output_type": "stream",
     "text": [
      "75\n",
      "25\n",
      "0\n",
      "50\n",
      "75\n",
      "5\n"
     ]
    }
   ],
   "source": [
    "evens_below20 = (i for i in generate_range(30) if i%5==0 )\n",
    "for x in evens_below20:\n",
    "    print(x)"
   ]
  },
  {
   "cell_type": "markdown",
   "id": "2dbfeb66",
   "metadata": {},
   "source": [
    "##### funkcja `enumerate()` przeksztalca wartosci w pary (indeks, watosc)"
   ]
  },
  {
   "cell_type": "code",
   "execution_count": 51,
   "id": "77a9e643",
   "metadata": {},
   "outputs": [
    {
     "name": "stdout",
     "output_type": "stream",
     "text": [
      "0 0\n",
      "1 2\n",
      "2 4\n",
      "3 6\n",
      "4 8\n",
      "5 10\n",
      "6 12\n",
      "7 14\n",
      "8 16\n",
      "9 18\n"
     ]
    }
   ],
   "source": [
    "data = (x*2 for x in range(10))\n",
    "for k,v in enumerate(data):\n",
    "    print(k,v)\n"
   ]
  },
  {
   "cell_type": "code",
   "execution_count": 58,
   "id": "31a28058",
   "metadata": {},
   "outputs": [
    {
     "name": "stdout",
     "output_type": "stream",
     "text": [
      "name 0 is Denys\n",
      "name 1 is Kuba\n",
      "name 2 is Dominik\n",
      "name 3 is Ewelina\n",
      "name 4 is Magda\n",
      "name 5 is Angnieszka\n",
      "name 6 is Andzej\n",
      "name 7 is Beata\n"
     ]
    }
   ],
   "source": [
    "names = ['Denys', 'Kuba', 'Dominik', 'Ewelina', 'Magda', 'Angnieszka', 'Andzej', 'Beata']\n",
    "\n",
    "for i, name in enumerate(names):\n",
    "    print(f\"name {i} is {name}\")"
   ]
  },
  {
   "cell_type": "code",
   "execution_count": 70,
   "id": "c431ad24",
   "metadata": {},
   "outputs": [],
   "source": [
    "# tworze funckje jaka licze silnie w jakimkolwiek zakresie\n",
    "def fact(n):\n",
    "    pr = 1\n",
    "    for i in range(1, n + 1):\n",
    "        pr = pr * i\n",
    "        yield pr"
   ]
  },
  {
   "cell_type": "code",
   "execution_count": 65,
   "id": "7db855f3",
   "metadata": {},
   "outputs": [
    {
     "name": "stdout",
     "output_type": "stream",
     "text": [
      "1\n",
      "2\n",
      "6\n",
      "24\n"
     ]
    }
   ],
   "source": [
    "s = fact(10)\n",
    "print(next(s))\n",
    "print(next(s))\n",
    "print(next(s))\n",
    "print(next(s))"
   ]
  },
  {
   "cell_type": "code",
   "execution_count": 69,
   "id": "a869f84a",
   "metadata": {},
   "outputs": [
    {
     "name": "stdout",
     "output_type": "stream",
     "text": [
      "1\n",
      "2\n",
      "6\n",
      "24\n",
      "120\n",
      "720\n",
      "5040\n",
      "40320\n",
      "362880\n",
      "3628800\n",
      "39916800\n",
      "479001600\n",
      "6227020800\n",
      "87178291200\n",
      "1307674368000\n"
     ]
    }
   ],
   "source": [
    "for i in fact(15):\n",
    "    print(i)"
   ]
  },
  {
   "cell_type": "markdown",
   "id": "1f2db528",
   "metadata": {},
   "source": [
    "###### Wznowiona funkcja rozpoczyna swoje działanie dokładnie w miejscu, w którym została wstrzymana."
   ]
  },
  {
   "cell_type": "code",
   "execution_count": 91,
   "id": "437b8973",
   "metadata": {},
   "outputs": [],
   "source": [
    "def fact(n):\n",
    "    s = 7\n",
    "    pr = 1\n",
    "    for x in range(1,n+1):\n",
    "        pr = pr*x\n",
    "        print(s)\n",
    "        yield pr\n",
    "        s *= 10 "
   ]
  },
  {
   "cell_type": "code",
   "execution_count": 92,
   "id": "bcb9fa76",
   "metadata": {},
   "outputs": [
    {
     "data": {
      "text/plain": [
       "<generator object fact at 0x7fd2689a7190>"
      ]
     },
     "execution_count": 92,
     "metadata": {},
     "output_type": "execute_result"
    }
   ],
   "source": [
    "fact(10)"
   ]
  },
  {
   "cell_type": "code",
   "execution_count": 96,
   "id": "ece950f6",
   "metadata": {},
   "outputs": [
    {
     "name": "stdout",
     "output_type": "stream",
     "text": [
      "7\n",
      "1\n",
      "70\n",
      "2\n",
      "700\n",
      "6\n",
      "7000\n",
      "24\n",
      "70000\n",
      "120\n"
     ]
    }
   ],
   "source": [
    "s = fact(10)\n",
    "print(next(s))\n",
    "print(next(s))\n",
    "print(next(s))\n",
    "print(next(s))\n",
    "print(next(s))"
   ]
  },
  {
   "cell_type": "markdown",
   "id": "2d3004d4",
   "metadata": {},
   "source": [
    "#####  Generator mozna wykorzystac tylko jeden raz, tak jat przy tworzeniu generatora wartosci nie zapisuja sie do pamieci kompureta, dla tego wlasnie mozemy tworzyc orgomne dane"
   ]
  },
  {
   "cell_type": "code",
   "execution_count": 98,
   "id": "d9243c32",
   "metadata": {},
   "outputs": [
    {
     "data": {
      "text/plain": [
       "<generator object <genexpr> at 0x7fd2689a75f0>"
      ]
     },
     "execution_count": 98,
     "metadata": {},
     "output_type": "execute_result"
    }
   ],
   "source": [
    "gen = (x for x in range(10000))\n",
    "gen"
   ]
  },
  {
   "cell_type": "code",
   "execution_count": 99,
   "id": "50820286",
   "metadata": {},
   "outputs": [
    {
     "name": "stdout",
     "output_type": "stream",
     "text": [
      "49995000\n"
     ]
    }
   ],
   "source": [
    "print(sum(gen))"
   ]
  },
  {
   "cell_type": "code",
   "execution_count": 101,
   "id": "f513b4d3",
   "metadata": {},
   "outputs": [
    {
     "name": "stdout",
     "output_type": "stream",
     "text": [
      "0\n"
     ]
    }
   ],
   "source": [
    "print(sum(gen)) # drugi raz juz nie uda sie dostac sie do danych z generatora, tak jak one nie zapisuja sie "
   ]
  },
  {
   "cell_type": "markdown",
   "id": "aff09ad1",
   "metadata": {},
   "source": [
    "### Losowosc\n",
    "___\n",
    "funckja `random()` generuje liczby rozlozone pomiedzy wartosciami 0 i 1\n"
   ]
  },
  {
   "cell_type": "code",
   "execution_count": 12,
   "id": "7ed4d749",
   "metadata": {},
   "outputs": [
    {
     "data": {
      "text/plain": [
       "[0.9965569925394552, 0.04455638245043303, 0.860161037286291, 0.603190610968185]"
      ]
     },
     "execution_count": 12,
     "metadata": {},
     "output_type": "execute_result"
    }
   ],
   "source": [
    "import random\n",
    "\n",
    "four_uniform_randoms = [random.random() for _ in range(4)]\n",
    "four_uniform_randoms"
   ]
  },
  {
   "cell_type": "code",
   "execution_count": 13,
   "id": "940e27a9",
   "metadata": {},
   "outputs": [
    {
     "data": {
      "text/plain": [
       "[0.3816059859191179,\n",
       " 0.28361821790671515,\n",
       " 0.674964847134956,\n",
       " 0.45683115105830563]"
      ]
     },
     "execution_count": 13,
     "metadata": {},
     "output_type": "execute_result"
    }
   ],
   "source": [
    "four_uniform_randoms = [random.random() for _ in range(4)]\n",
    "four_uniform_randoms"
   ]
  },
  {
   "cell_type": "markdown",
   "id": "c3e3eb0e",
   "metadata": {},
   "source": [
    "#####  Modul `random` generuje liczby pseudolosowe, usywany jest do tego *algorythm deterministyczny* , krotrego poczatkowy stan mozna okreslicz za pomoca funkcji `random.seed()` - za kazdym razem otrzymamy takie same rezultaty"
   ]
  },
  {
   "cell_type": "code",
   "execution_count": 24,
   "id": "dbe49f40",
   "metadata": {},
   "outputs": [
    {
     "name": "stdout",
     "output_type": "stream",
     "text": [
      "0.5714025946899135\n",
      "0.5714025946899135\n"
     ]
    }
   ],
   "source": [
    "random.seed(10) #ziarno przyjmuje watosc 10.\n",
    "print(random.random())\n",
    "random.seed(10) # ponowne zdefiniowanie ziarna rownego 10\n",
    "print(random.random())"
   ]
  },
  {
   "cell_type": "markdown",
   "id": "3478bb33",
   "metadata": {},
   "source": [
    "##### funkjca `random.randrange()`, przyjmuje 1 lub 2  paremetry, i zwraca element wylosowany z tego zakresu "
   ]
  },
  {
   "cell_type": "code",
   "execution_count": 36,
   "id": "32f7a859",
   "metadata": {},
   "outputs": [
    {
     "name": "stdout",
     "output_type": "stream",
     "text": [
      "5\n",
      "3\n"
     ]
    }
   ],
   "source": [
    "print(random.randrange(10)) # wylosowano liczbe w zakresie [0,1,2 ... 9] \n",
    "print(random.randrange(3,6)) # wyslowano liczbe w zakresie [3,4,5]"
   ]
  },
  {
   "cell_type": "markdown",
   "id": "ec3796bf",
   "metadata": {},
   "source": [
    "##### funckja `random.shuffle()` - zmienia ona kolejnosc elementow listy na losowa:"
   ]
  },
  {
   "cell_type": "code",
   "execution_count": 42,
   "id": "586db863",
   "metadata": {},
   "outputs": [
    {
     "name": "stdout",
     "output_type": "stream",
     "text": [
      "[0, 1, 2, 3, 4, 5, 6, 7, 8, 9, 10]\n",
      "[2, 3, 5, 8, 1, 10, 4, 0, 6, 9, 7]\n"
     ]
    }
   ],
   "source": [
    "arr = [x for x in range(11)]\n",
    "print(arr)\n",
    "random.shuffle(arr)\n",
    "print(arr)"
   ]
  },
  {
   "cell_type": "markdown",
   "id": "0398d580",
   "metadata": {},
   "source": [
    "#####  jezeli chcesz wybrac losowy elementy z listy, do tego sluzy funkcja `random.choice()`"
   ]
  },
  {
   "cell_type": "code",
   "execution_count": 50,
   "id": "60a4ccba",
   "metadata": {},
   "outputs": [
    {
     "data": {
      "text/plain": [
       "'Denys'"
      ]
     },
     "execution_count": 50,
     "metadata": {},
     "output_type": "execute_result"
    }
   ],
   "source": [
    "my_best_friends = ['Denys','Adam', 'Alon', 'Uri']\n",
    "random.choice(my_best_friends)"
   ]
  },
  {
   "cell_type": "markdown",
   "id": "3e283d0d",
   "metadata": {},
   "source": [
    "##### jezeli musisz wylosowac probe elementow bez zastepowania ( tak aby elementy nie powtarzaly sie) , to mozesz skorzystac z metody `random.sample`\n",
    "  przyjmuje funkcja dwa parametry , 1 paramerty lista z ktorej bedzie losowanie , 2 parametr do ilosc wylosowanych elementow"
   ]
  },
  {
   "cell_type": "code",
   "execution_count": 58,
   "id": "00b565f9",
   "metadata": {},
   "outputs": [
    {
     "data": {
      "text/plain": [
       "[10, 19, 49, 72, 47]"
      ]
     },
     "execution_count": 58,
     "metadata": {},
     "output_type": "execute_result"
    }
   ],
   "source": [
    "lottery_numers = range(101)\n",
    "winning_numers = random.sample(lottery_numers,5)\n",
    "winning_numers"
   ]
  },
  {
   "cell_type": "markdown",
   "id": "0ac9ddca",
   "metadata": {},
   "source": [
    "### Wyrazenie regularne\n",
    "___\n",
    "* `re.match`- sluzy do sprawdzania, czy lancuch znakow zaczyna sie od podanego wyrazenia\n",
    "* `re.search` - sluzy do sprawdzanie czy lancuch znakow ma dane wyrazenie"
   ]
  },
  {
   "cell_type": "code",
   "execution_count": 82,
   "id": "2b4b2861",
   "metadata": {},
   "outputs": [
    {
     "name": "stdout",
     "output_type": "stream",
     "text": [
      "True\n",
      "False\n"
     ]
    }
   ],
   "source": [
    "import re\n",
    "x = 'cat'\n",
    "print(not re.match('a', 'cat')) # wyraz cat rozpoczyna sie od litety a\n",
    "print(not re.search('t', 'cat')) # wyraz cat ma w slowie literke t"
   ]
  },
  {
   "cell_type": "markdown",
   "id": "6a762a03",
   "metadata": {},
   "source": [
    "### Funkcja zip i rozpakowywanie argumentow\n",
    "___\n",
    "czesto bede musial laczyc ze soba kilka list za pomoca funkjci `zip()`"
   ]
  },
  {
   "cell_type": "code",
   "execution_count": 85,
   "id": "7f99b39d",
   "metadata": {},
   "outputs": [
    {
     "data": {
      "text/plain": [
       "<zip at 0x7f88d0d3fb80>"
      ]
     },
     "execution_count": 85,
     "metadata": {},
     "output_type": "execute_result"
    }
   ],
   "source": [
    "list1 = ['a','b','c']\n",
    "list2 = [1,2,3,4,5]\n",
    "zip(list1,list2)  # zip generuje wynik tylko wtedy, gdy jest potrzebny (tzw funckja leniwa)"
   ]
  },
  {
   "cell_type": "code",
   "execution_count": 93,
   "id": "f5f489df",
   "metadata": {},
   "outputs": [
    {
     "data": {
      "text/plain": [
       "[('a', 1), ('b', 2), ('c', 3)]"
      ]
     },
     "execution_count": 93,
     "metadata": {},
     "output_type": "execute_result"
    }
   ],
   "source": [
    "pairs = [x for x in zip(list1,list2)] # tak jak liste o roznych wartosciach , funckja zip przerywa prace\n",
    "pairs                              # po ostatnim elemencie najktrorzej listy"
   ]
  },
  {
   "cell_type": "markdown",
   "id": "e7ec5f2b",
   "metadata": {},
   "source": [
    "##### w celu rozpakowywanie list polaczonych funkjca `zip` nalezy posluzyc sie  gwiazka `*`"
   ]
  },
  {
   "cell_type": "code",
   "execution_count": 94,
   "id": "cc69c9bd",
   "metadata": {},
   "outputs": [
    {
     "name": "stdout",
     "output_type": "stream",
     "text": [
      "('a', 'b', 'c')\n",
      "(1, 2, 3)\n"
     ]
    }
   ],
   "source": [
    "leters, numbers = zip(*pairs)\n",
    "print(leters)\n",
    "print(numbers)"
   ]
  },
  {
   "cell_type": "markdown",
   "id": "b5272174",
   "metadata": {},
   "source": [
    "### Argumenty nazwane i nienazwane\n",
    "___\n",
    "* `*arg` jest krotka nienazwanych argunentow\n",
    "* `*kwargs`jest slownikiem nazwanych argumentow"
   ]
  },
  {
   "cell_type": "code",
   "execution_count": 89,
   "id": "dc04004c",
   "metadata": {},
   "outputs": [
    {
     "name": "stdout",
     "output_type": "stream",
     "text": [
      "2 True hello\n"
     ]
    }
   ],
   "source": [
    "#zwykle rozpakowywanie elementow\n",
    "a,b,c = [2,True,'hello']\n",
    "print(a,b,c)"
   ]
  },
  {
   "cell_type": "code",
   "execution_count": 97,
   "id": "c97a4be2",
   "metadata": {},
   "outputs": [
    {
     "name": "stdout",
     "output_type": "stream",
     "text": [
      "too many values to unpack\n"
     ]
    }
   ],
   "source": [
    "#ale gdy mamy wiecej elementow niz zmiennych to bedzie wyjatek:\n",
    "try:\n",
    "    a,b,c = [1.0,2,True,'hello',53,False]\n",
    "except ValueError:\n",
    "    print(\"too many values to unpack\")"
   ]
  },
  {
   "cell_type": "code",
   "execution_count": 101,
   "id": "06351420",
   "metadata": {},
   "outputs": [
    {
     "name": "stdout",
     "output_type": "stream",
     "text": [
      "[1.0, 2, True, 'hello'] 53 False\n",
      "1.0 [2, True, 'hello', 53] False\n",
      "1.0 2 [True, 'hello', 53, False]\n"
     ]
    }
   ],
   "source": [
    "#do rozpakowywanie sluzy rowniz gwiazdka *\n",
    "*a,b,c = [1.0,2,True,'hello',53,False]\n",
    "print(a,b,c) # w c wchodzi ostatni element, w b - przedostatni, w a - wszystkie pozostale elementy \n",
    "a,*b,c = [1.0,2,True,'hello',53,False]\n",
    "print(a,b,c) \n",
    "a,b,*c = [1.0,2,True,'hello',53,False]\n",
    "print(a,b,c) "
   ]
  },
  {
   "cell_type": "code",
   "execution_count": 106,
   "id": "80a8b1b6",
   "metadata": {},
   "outputs": [
    {
     "name": "stdout",
     "output_type": "stream",
     "text": [
      "not enough values to unpack\n"
     ]
    }
   ],
   "source": [
    "#jezeli liczba watosci bedzie mniejsza od zmiennych:\n",
    "try:\n",
    "    a,b,c =[2,3] # zwykle rozpakowywanie podouje blad\n",
    "except ValueError:\n",
    "    print(\"not enough values to unpack\")"
   ]
  },
  {
   "cell_type": "code",
   "execution_count": 113,
   "id": "3dffdfd4",
   "metadata": {},
   "outputs": [
    {
     "name": "stdout",
     "output_type": "stream",
     "text": [
      "[] 2 3\n"
     ]
    }
   ],
   "source": [
    "#za pomoca gwiazki:\n",
    "*a,b,c = [2,3]\n",
    "print(a,b,c) #w a wchodza pozostale elementy,tak jak pozostaly elem nie ma, to w a jest pusta lista"
   ]
  },
  {
   "cell_type": "code",
   "execution_count": 117,
   "id": "d106bb84",
   "metadata": {},
   "outputs": [
    {
     "name": "stdout",
     "output_type": "stream",
     "text": [
      "not enough values to unpack\n"
     ]
    }
   ],
   "source": [
    "#ale tu juz niestety bedzie blad, tak jat do c - pojdzie ostatni element, a do b juz nie bedzie co\n",
    "try:\n",
    "    *a,b,c = [2]\n",
    "except:\n",
    "    print(\"not enough values to unpack\")"
   ]
  },
  {
   "cell_type": "markdown",
   "id": "1aebffbc",
   "metadata": {},
   "source": [
    "##### Wykorzystanie `*` przy rozpakowywaniu listy:"
   ]
  },
  {
   "cell_type": "code",
   "execution_count": 135,
   "id": "1dd4b07d",
   "metadata": {},
   "outputs": [
    {
     "name": "stdout",
     "output_type": "stream",
     "text": [
      "[1, 2, 3, 4, 5, 6, 7, 8, 9]\n",
      "list' object cannot be interpreted as an integer\n",
      "[5, 8, 11, 14, 17, 20]\n"
     ]
    }
   ],
   "source": [
    "s = [5,21,3]\n",
    "print(list(range(1,10)))\n",
    "try:\n",
    "    print(list(range(s))) # bedzie blad TypeError, tak jat lista moze byc interpretowana jako int\n",
    "except TypeError:\n",
    "    print(\"list' object cannot be interpreted as an integer\")\n",
    "    \n",
    "#dla tego musze uzyc rozkakowywanie za pomoca \"a\"\n",
    "print(list(range(*s))) "
   ]
  },
  {
   "cell_type": "markdown",
   "id": "cba933fc",
   "metadata": {},
   "source": [
    "##### Rozpakowywanie przy uzyci funckji:"
   ]
  },
  {
   "cell_type": "code",
   "execution_count": 137,
   "id": "7e11f6d8",
   "metadata": {},
   "outputs": [],
   "source": [
    "def f(a,b,c,d):\n",
    "    return a+b+c+d"
   ]
  },
  {
   "cell_type": "code",
   "execution_count": 143,
   "id": "9d6bb8ea",
   "metadata": {},
   "outputs": [
    {
     "name": "stdout",
     "output_type": "stream",
     "text": [
      "za duza argumnetow podano do funkcji\n"
     ]
    }
   ],
   "source": [
    "try:\n",
    "    f(1,2,3,4,5,6) #\n",
    "except TypeError:\n",
    "    print(\"za duza argumnetow podano do funkcji\")"
   ]
  },
  {
   "cell_type": "code",
   "execution_count": 157,
   "id": "4d6057f4",
   "metadata": {},
   "outputs": [
    {
     "data": {
      "text/plain": [
       "(55, tuple)"
      ]
     },
     "execution_count": 157,
     "metadata": {},
     "output_type": "execute_result"
    }
   ],
   "source": [
    "# za pomoca **args - funckja moze przyjmowac badz jaka liczba argumetnow:\n",
    "def f(*args):\n",
    "    return sum(args),type(args) # args ZWRACA KROTKE!\n",
    "\n",
    "f(1,2,3,4,5,6,7,8,9,10)"
   ]
  },
  {
   "cell_type": "code",
   "execution_count": 160,
   "id": "f19af7da",
   "metadata": {},
   "outputs": [
    {
     "name": "stdout",
     "output_type": "stream",
     "text": [
      "True\n",
      "czesc\n",
      "10\n",
      "0.5\n",
      "[1, 2, 3, 4]\n"
     ]
    }
   ],
   "source": [
    "#moge rowniez rozpakowywac args, tak jakt krotka umoziliwa ineteracja:\n",
    "def f(*args):\n",
    "    for i in args:\n",
    "        print(i)\n",
    "\n",
    "f(True,'czesc', 10, 0.5, [1,2,3,4])"
   ]
  },
  {
   "cell_type": "markdown",
   "id": "bb53bc1f",
   "metadata": {},
   "source": [
    "##### Do rozpakowywanie nazwanych argumentow sluzy `**kwards`"
   ]
  },
  {
   "cell_type": "code",
   "execution_count": 163,
   "id": "ec9ad48e",
   "metadata": {},
   "outputs": [
    {
     "name": "stdout",
     "output_type": "stream",
     "text": [
      "a 1\n",
      "b 5\n",
      "key value\n"
     ]
    }
   ],
   "source": [
    "def foo(**kwards):\n",
    "    for k,v in kwards.items():\n",
    "        print(k,v)\n",
    "\n",
    "foo(a = 1, b = 5, key = 'value')"
   ]
  },
  {
   "cell_type": "code",
   "execution_count": 176,
   "id": "8af41f54",
   "metadata": {},
   "outputs": [
    {
     "name": "stdout",
     "output_type": "stream",
     "text": [
      "(4, 5, 3, 46, 6) {'name': 'Denys', 'surname': 'Zvarych'}\n",
      "Denys Zvarych "
     ]
    }
   ],
   "source": [
    "# rowniez mozna kombinowac *args i **kwards, ale najpierw pasuje podalac *args\n",
    "def foo(*args,**kwargs):\n",
    "    print(args,kwargs)\n",
    "    for k,v in kwargs.items():\n",
    "        print(v, end=' ')\n",
    "    \n",
    "foo(4,5,3,46,6, name = 'Denys',surname = 'Zvarych')"
   ]
  },
  {
   "cell_type": "code",
   "execution_count": null,
   "id": "bfa81b63",
   "metadata": {},
   "outputs": [],
   "source": []
  },
  {
   "cell_type": "code",
   "execution_count": null,
   "id": "357a296b",
   "metadata": {},
   "outputs": [],
   "source": []
  },
  {
   "cell_type": "code",
   "execution_count": null,
   "id": "8f377314",
   "metadata": {},
   "outputs": [],
   "source": []
  },
  {
   "cell_type": "code",
   "execution_count": 3,
   "id": "c87c79a0",
   "metadata": {},
   "outputs": [],
   "source": [
    "def doubler(f):\n",
    "    def g(x):\n",
    "        return 2*f(x)\n",
    "    return g"
   ]
  },
  {
   "cell_type": "code",
   "execution_count": 22,
   "id": "433dd511",
   "metadata": {},
   "outputs": [],
   "source": [
    "def f(x):\n",
    "    return x+1\n",
    "\n",
    "g = doubler(f)\n",
    "assert g(3) == 8, '(3+1) * 2 == 8'\n",
    "assert g(5) == 12, '(5+1) * 2 == 12'"
   ]
  },
  {
   "cell_type": "markdown",
   "id": "32bbe876",
   "metadata": {},
   "source": [
    "jendakze rozwiazanie nie bedzie dziala prawidlowo w przypadku funckji przyjmujacych wiecej niz jeden argument:"
   ]
  },
  {
   "cell_type": "code",
   "execution_count": 24,
   "id": "ce9d4cdf",
   "metadata": {},
   "outputs": [],
   "source": [
    "def f(x,y):\n",
    "    return x+y"
   ]
  },
  {
   "cell_type": "code",
   "execution_count": 28,
   "id": "d9d5bf9d",
   "metadata": {},
   "outputs": [
    {
     "name": "stdout",
     "output_type": "stream",
     "text": [
      "funckja g przyjmuje tylko jeden argument\n"
     ]
    }
   ],
   "source": [
    "g = doubler(f)\n",
    "try:\n",
    "    g(1,2)\n",
    "except TypeError:\n",
    "    print(\"funckja g przyjmuje tylko jeden argument\")"
   ]
  },
  {
   "cell_type": "markdown",
   "id": "ee5916a0",
   "metadata": {},
   "source": [
    "w zwiazku z tym mysimy okreslic funckje przyjmujmujaca dowolna liczbe arugmentow. Mozemy to zrobic za pomoca rozpakowywania argumentow."
   ]
  },
  {
   "cell_type": "code",
   "execution_count": 38,
   "id": "9e3938e7",
   "metadata": {},
   "outputs": [
    {
     "name": "stdout",
     "output_type": "stream",
     "text": [
      "argumenty nieznane: (1, 2, 3, 4353, 4)\n",
      "argumenty nazwane: {'key': 'word', 'key2': 'word2'}\n"
     ]
    }
   ],
   "source": [
    "def magic(*args, **kwargs):\n",
    "    print(\"argumenty nieznane:\", args)\n",
    "    print(\"argumenty nazwane:\", kwargs)\n",
    "    \n",
    "    \n",
    "magic(1,2,3,4353,4, key = 'word', key2 = 'word2')"
   ]
  },
  {
   "cell_type": "code",
   "execution_count": 46,
   "id": "f893273d",
   "metadata": {},
   "outputs": [],
   "source": [
    "def the_other_magic(x,y,z):\n",
    "    return x + y + z"
   ]
  },
  {
   "cell_type": "code",
   "execution_count": 51,
   "id": "477962d2",
   "metadata": {},
   "outputs": [
    {
     "data": {
      "text/plain": [
       "6"
      ]
     },
     "execution_count": 51,
     "metadata": {},
     "output_type": "execute_result"
    }
   ],
   "source": [
    "x_y_list = [1,2]\n",
    "z_dict = {'z' : 3}\n",
    "assert the_other_magic(*x_y_list, **z_dict) == 6 , \"1+2+3 = 6\"\n",
    "the_other_magic(*x_y_list,**z_dict)"
   ]
  },
  {
   "cell_type": "code",
   "execution_count": 59,
   "id": "de2b81eb",
   "metadata": {},
   "outputs": [],
   "source": [
    "def doubler_correct(*args,**kwargs):\n",
    "    def g(*args,**kwargs):\n",
    "        return 2 * f(*args,**kwargs)\n",
    "    return g"
   ]
  },
  {
   "cell_type": "code",
   "execution_count": 64,
   "id": "20882155",
   "metadata": {},
   "outputs": [],
   "source": [
    "g = doubler_correct(f)\n",
    "assert g(1,2) == 6 , \"doubler powinien dzialac teraz poprawnie\""
   ]
  },
  {
   "cell_type": "code",
   "execution_count": 83,
   "id": "4f87063e",
   "metadata": {},
   "outputs": [],
   "source": [
    "def f(s, lst):\n",
    "    lst[1] = -2342\n",
    "    return lst"
   ]
  },
  {
   "cell_type": "code",
   "execution_count": 84,
   "id": "1057565b",
   "metadata": {},
   "outputs": [
    {
     "data": {
      "text/plain": [
       "[2, 3, 4]"
      ]
     },
     "execution_count": 84,
     "metadata": {},
     "output_type": "execute_result"
    }
   ],
   "source": [
    "list2 = [2,3,4]\n",
    "f('hello',list2[:])\n",
    "list2"
   ]
  },
  {
   "cell_type": "markdown",
   "id": "17471215",
   "metadata": {},
   "source": [
    "### Anotacje typow\n",
    "____\n",
    "Python,JS,R,PHP sa *dynamiczne typowanym*. To znaczy ze Python nie zwraca uwagi na typ uzywanych obiektow, dopoki one sa uzywane poprawne:"
   ]
  },
  {
   "cell_type": "code",
   "execution_count": 11,
   "id": "a5ce609b",
   "metadata": {},
   "outputs": [
    {
     "name": "stdout",
     "output_type": "stream",
     "text": [
      "nie mozna dodawac int do string\n"
     ]
    }
   ],
   "source": [
    "def add(a,b):\n",
    "    return a+b\n",
    "\n",
    "assert add(10,5) == 15\n",
    "assert add([1,2],[3]) == [1,2,3]\n",
    "assert add('hi ','hello') == 'hi hello'\n",
    "\n",
    "try:\n",
    "    add(10,'piec')\n",
    "except TypeError:\n",
    "    print('nie mozna dodawac int do string')"
   ]
  },
  {
   "cell_type": "markdown",
   "id": "c3944606",
   "metadata": {},
   "source": [
    "##### Istnieja jezyki statycznie typowane , np . JAVA,C++, TypeScript, Kotlin"
   ]
  },
  {
   "cell_type": "code",
   "execution_count": 23,
   "id": "4ca6da87",
   "metadata": {},
   "outputs": [],
   "source": [
    "def add2(a:int, b:int) -> int:\n",
    "    return a+b\n"
   ]
  },
  {
   "cell_type": "code",
   "execution_count": 27,
   "id": "fb02d041",
   "metadata": {},
   "outputs": [
    {
     "data": {
      "text/plain": [
       "'hithere'"
      ]
     },
     "execution_count": 27,
     "metadata": {},
     "output_type": "execute_result"
    }
   ],
   "source": [
    "add2(10,5) # to by bylo porwawnie\n",
    "add2('hi','there')  # to juz nie"
   ]
  },
  {
   "cell_type": "code",
   "execution_count": 29,
   "id": "fd9829de",
   "metadata": {},
   "outputs": [],
   "source": [
    "from typing import Union\n",
    "\n",
    "def foo(value: int, operation: Union[str,int,float,bool]) -> int:\n",
    "    pass"
   ]
  },
  {
   "cell_type": "markdown",
   "id": "aed36649",
   "metadata": {},
   "source": [
    "### Jak pisac poprane anotacje typow:\n",
    "dla typow wbudowanych , takich jak `int`,`bool`,`float`. uzywam nazwy typu w anotacji:"
   ]
  },
  {
   "cell_type": "code",
   "execution_count": 30,
   "id": "e6276f74",
   "metadata": {},
   "outputs": [],
   "source": [
    "def f1(x:int) -> int:\n",
    "    return x*2"
   ]
  },
  {
   "cell_type": "markdown",
   "id": "8a764bff",
   "metadata": {},
   "source": [
    "##### w przypadku listy naprzyklad :"
   ]
  },
  {
   "cell_type": "code",
   "execution_count": 32,
   "id": "851b97c8",
   "metadata": {},
   "outputs": [],
   "source": [
    "from typing import List\n",
    "\n",
    "#chce aby xs byl lista float , a nie naprzyklad string\n",
    "def total(xs: List[float]) -> float: \n",
    "    return sum(total)"
   ]
  },
  {
   "cell_type": "markdown",
   "id": "b7c56755",
   "metadata": {},
   "source": [
    "##### Z modul `typing`  najczesciej korzystamy z `Dict, Iterable, Tuple`"
   ]
  },
  {
   "cell_type": "code",
   "execution_count": 39,
   "id": "4786071c",
   "metadata": {},
   "outputs": [],
   "source": [
    "from typing import Dict, Iterable, Tuple\n",
    "\n",
    "#klucze sa typu string, a watosci typu int:\n",
    "def foo(counts: Dict[str,int] = {'data' : 1, 'science': 2 }):\n",
    "    pass"
   ]
  },
  {
   "cell_type": "markdown",
   "id": "a780ad1f",
   "metadata": {},
   "source": [
    "### String functions\n",
    "___\n",
    "* `split()` - rozdziela lancuch znakow i zwaca liste\n",
    "* `strip()`- usuwa znak z poczatku i z konca\n",
    "* rowniez mamy `rstrip()` i `lstrip()` - usuwaja z prawiej lub z lewej strony\n",
    "* `lower()` - zwaraca caly string zawierajcy male litery\n",
    "* `upper() ` - zwraca caly string zawierajcy duzy litery\n",
    "* `replace()` - zamienia znaki miejscami w lancuchu\n",
    "* `count()`- zwaraca ile razy element wystepuje w lancuchu\n",
    "* `startwith()` i `endswith()` - zwaraca True lub False jezeli lanchuch zaczyna sie lub konczy sie na dany element\n",
    "* `find(), index()` - zwraca lokalizajce elementy w lancuhu\n",
    "___\n",
    "* `isalpha()`  - zwaraca True jezeli wszystkie elementy w lancuchu sa literami\n",
    "* `isalnum()` - zwaraca True jezeli wszystkie elementy w lancuchu sa literami LUB liczbami \n",
    "* `isdecimal()` - zwaraca True jezeli wszystkie elementy w lanuchu sa liczbami (0-9)"
   ]
  },
  {
   "cell_type": "code",
   "execution_count": 3,
   "id": "f4d7e693",
   "metadata": {},
   "outputs": [
    {
     "data": {
      "text/plain": [
       "['Denys', 'Zvarych']"
      ]
     },
     "execution_count": 3,
     "metadata": {},
     "output_type": "execute_result"
    }
   ],
   "source": [
    "str1 = \"Denys Zvarych\"\n",
    "str1.split() "
   ]
  },
  {
   "cell_type": "code",
   "execution_count": 47,
   "id": "bd9ed7fc",
   "metadata": {},
   "outputs": [
    {
     "name": "stdout",
     "output_type": "stream",
     "text": [
      "['one', 'two', 'three', 'four', 'one', 'two', 'two', 'three', 'five', 'five', 'six', 'seven', 'six', 'seven', 'one']\n"
     ]
    },
    {
     "data": {
      "text/plain": [
       "list"
      ]
     },
     "execution_count": 47,
     "metadata": {},
     "output_type": "execute_result"
    }
   ],
   "source": [
    "str1 = \"one two three four one two two three five five six seven six seven one\"\n",
    "print(str1.split())\n",
    "type(str1.split())"
   ]
  },
  {
   "cell_type": "code",
   "execution_count": 7,
   "id": "b957393b",
   "metadata": {},
   "outputs": [
    {
     "data": {
      "text/plain": [
       "'Denys     Zvarych'"
      ]
     },
     "execution_count": 7,
     "metadata": {},
     "output_type": "execute_result"
    }
   ],
   "source": [
    "str2 = \"   Denys     Zvarych\"\n",
    "str2.strip()"
   ]
  },
  {
   "cell_type": "code",
   "execution_count": 20,
   "id": "252dd2b4",
   "metadata": {},
   "outputs": [
    {
     "data": {
      "text/plain": [
       "'Denys Zvarych'"
      ]
     },
     "execution_count": 20,
     "metadata": {},
     "output_type": "execute_result"
    }
   ],
   "source": [
    "str3 = \"****Denys Zvarych*****\"\n",
    "str3.strip(\"*\")"
   ]
  },
  {
   "cell_type": "code",
   "execution_count": 23,
   "id": "5faad7fa",
   "metadata": {},
   "outputs": [
    {
     "name": "stdout",
     "output_type": "stream",
     "text": [
      "denys zvarych\n",
      "DENYS ZVARYCH\n"
     ]
    }
   ],
   "source": [
    "str4 = 'DeNyS ZVArych'\n",
    "print(str4.lower())\n",
    "print(str4.upper())"
   ]
  },
  {
   "cell_type": "code",
   "execution_count": 29,
   "id": "ce76ae5a",
   "metadata": {},
   "outputs": [
    {
     "data": {
      "text/plain": [
       "'Jakub ZVArych'"
      ]
     },
     "execution_count": 29,
     "metadata": {},
     "output_type": "execute_result"
    }
   ],
   "source": [
    "str4.replace(\"DeNyS\", \"Jakub\")"
   ]
  },
  {
   "cell_type": "code",
   "execution_count": 36,
   "id": "45602639",
   "metadata": {},
   "outputs": [
    {
     "data": {
      "text/plain": [
       "3"
      ]
     },
     "execution_count": 36,
     "metadata": {},
     "output_type": "execute_result"
    }
   ],
   "source": [
    "string1 = \"one two Three one two two three\"\n",
    "string1.count('two')"
   ]
  },
  {
   "cell_type": "code",
   "execution_count": 38,
   "id": "e039f846",
   "metadata": {},
   "outputs": [
    {
     "name": "stdout",
     "output_type": "stream",
     "text": [
      "True\n",
      "True\n"
     ]
    }
   ],
   "source": [
    "print(string1.startswith(\"one\"))\n",
    "print(string1.endswith(\"three\"))"
   ]
  },
  {
   "cell_type": "code",
   "execution_count": 53,
   "id": "41e04df2",
   "metadata": {},
   "outputs": [
    {
     "data": {
      "text/plain": [
       "28"
      ]
     },
     "execution_count": 53,
     "metadata": {},
     "output_type": "execute_result"
    }
   ],
   "source": [
    "dane = \"one two three four five six seven\"\n",
    "dane.find(\"seven\") "
   ]
  },
  {
   "cell_type": "code",
   "execution_count": 54,
   "id": "018ad509",
   "metadata": {},
   "outputs": [
    {
     "data": {
      "text/plain": [
       "28"
      ]
     },
     "execution_count": 54,
     "metadata": {},
     "output_type": "execute_result"
    }
   ],
   "source": [
    "dane.index(\"seven\")"
   ]
  },
  {
   "cell_type": "code",
   "execution_count": 78,
   "id": "e39fbc1a",
   "metadata": {},
   "outputs": [
    {
     "name": "stdout",
     "output_type": "stream",
     "text": [
      "False\n",
      "True\n",
      "True\n"
     ]
    }
   ],
   "source": [
    "dane = '1234455664231'\n",
    "\n",
    "print(dane.isalpha())\n",
    "print(dane.isalnum())\n",
    "print(dane.isdecimal())"
   ]
  },
  {
   "cell_type": "code",
   "execution_count": null,
   "id": "7d2c8813",
   "metadata": {},
   "outputs": [],
   "source": []
  }
 ],
 "metadata": {
  "kernelspec": {
   "display_name": "Python 3 (ipykernel)",
   "language": "python",
   "name": "python3"
  },
  "language_info": {
   "codemirror_mode": {
    "name": "ipython",
    "version": 3
   },
   "file_extension": ".py",
   "mimetype": "text/x-python",
   "name": "python",
   "nbconvert_exporter": "python",
   "pygments_lexer": "ipython3",
   "version": "3.9.12"
  }
 },
 "nbformat": 4,
 "nbformat_minor": 5
}
