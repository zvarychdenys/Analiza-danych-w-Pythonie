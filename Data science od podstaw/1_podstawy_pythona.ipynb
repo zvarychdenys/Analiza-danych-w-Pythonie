{
 "cells": [
  {
   "cell_type": "markdown",
   "id": "17271f29",
   "metadata": {},
   "source": [
    "# Podstawy pythona\n",
    "___\n"
   ]
  },
  {
   "cell_type": "code",
   "execution_count": 4,
   "id": "db0025b0",
   "metadata": {},
   "outputs": [
    {
     "data": {
      "text/plain": [
       "5"
      ]
     },
     "execution_count": 4,
     "metadata": {},
     "output_type": "execute_result"
    }
   ],
   "source": [
    "#to ze ciag dalszy znajduje sie w kolejnym wierszu, mozna oznaczy za pomoca ukosnika\n",
    "two_plus_three = 2 + \\\n",
    "                 3\n",
    "\n",
    "two_plus_three"
   ]
  },
  {
   "cell_type": "markdown",
   "id": "a16aa849",
   "metadata": {},
   "source": [
    "##### Moduly:\n",
    "___"
   ]
  },
  {
   "cell_type": "code",
   "execution_count": null,
   "id": "1749bbe8",
   "metadata": {},
   "outputs": [],
   "source": [
    "#nie warto importowac calej zawartosci modulu, \n",
    "#bo spowoduje to nadpisanie zdefiniowanych wczesniej zmiennych\n",
    "match = 10\n",
    "from re import *\n",
    "print(match)"
   ]
  },
  {
   "cell_type": "markdown",
   "id": "42b85fc2",
   "metadata": {},
   "source": [
    "##### Funkcje:\n",
    "___\n",
    "jest blokiem kodu , ktory moze przyjac dowolna liczbe argumentow i wygerenowac na podstawie ich wynik"
   ]
  },
  {
   "cell_type": "code",
   "execution_count": 25,
   "id": "6294325d",
   "metadata": {},
   "outputs": [
    {
     "data": {
      "text/plain": [
       "30"
      ]
     },
     "execution_count": 25,
     "metadata": {},
     "output_type": "execute_result"
    }
   ],
   "source": [
    "def double(x):\n",
    "    \"\"\"Tu moze byc wyjasnienie dzialania funkcji\"\"\"\n",
    "    return x*3\n",
    "\n",
    "double(10)"
   ]
  },
  {
   "cell_type": "code",
   "execution_count": 34,
   "id": "344e7021",
   "metadata": {},
   "outputs": [
    {
     "data": {
      "text/plain": [
       "3"
      ]
     },
     "execution_count": 34,
     "metadata": {},
     "output_type": "execute_result"
    }
   ],
   "source": [
    "#python umozliwia przypisywanie funkcji do zmiennych \n",
    "#i przekazywanie ich do inncyh funkcji w roli argumentow\n",
    "def apply_to_one(f):\n",
    "    return f(1)\n",
    "\n",
    "my_double = double\n",
    "x = apply_to_one(my_double)\n",
    "x"
   ]
  },
  {
   "cell_type": "code",
   "execution_count": 35,
   "id": "3b682741",
   "metadata": {},
   "outputs": [
    {
     "data": {
      "text/plain": [
       "5"
      ]
     },
     "execution_count": 35,
     "metadata": {},
     "output_type": "execute_result"
    }
   ],
   "source": [
    "# python umozliwia tworzenia ktorkich anonimowych funkcji lambda:\n",
    "y = apply_to_one(lambda x: x+4)\n",
    "y"
   ]
  },
  {
   "cell_type": "code",
   "execution_count": 45,
   "id": "57da2652",
   "metadata": {},
   "outputs": [],
   "source": [
    "#gdy jest mozliwosc lepiej lepiej tworzyc funkcje za pomoca def , niz za pomoca lambdy\n",
    "def another_double(x): return 2*x # porawnie\n",
    "another_double1 = lambda x: 2*x # blednie\n"
   ]
  },
  {
   "cell_type": "markdown",
   "id": "9d29e454",
   "metadata": {},
   "source": [
    "#### lanchuny (string):\n",
    "___"
   ]
  },
  {
   "cell_type": "code",
   "execution_count": 47,
   "id": "a6f14f37",
   "metadata": {},
   "outputs": [],
   "source": [
    "#lancuchy ozna podalac w pojedynczych lub podwojnych cudzyslowach\n",
    "single_quoted_string = 'analiza danych'\n",
    "double_quoted_string = \"analiza danych\""
   ]
  },
  {
   "cell_type": "code",
   "execution_count": 56,
   "id": "e8a2d8a6",
   "metadata": {},
   "outputs": [
    {
     "data": {
      "text/plain": [
       "1"
      ]
     },
     "execution_count": 56,
     "metadata": {},
     "output_type": "execute_result"
    }
   ],
   "source": [
    "#znaki specjlalne w lancuchacg umieszcza sie po uskosniku:\n",
    "tab_string = \"\\t\"\n",
    "len(tab_string) #\\t jest jednym znakiem#"
   ]
  },
  {
   "cell_type": "code",
   "execution_count": 61,
   "id": "883c69aa",
   "metadata": {},
   "outputs": [
    {
     "data": {
      "text/plain": [
       "2"
      ]
     },
     "execution_count": 61,
     "metadata": {},
     "output_type": "execute_result"
    }
   ],
   "source": [
    "#aby umiescic w lancuchach znak ukosnia, mozemy utworzyc 'surowy' lanchuch za pomoca r\"\" \n",
    "not_tab_string = r\"\\t\"\n",
    "len(not_tab_string) # za pomoca r\"\\t\" - \\t teraz dwa znaki"
   ]
  },
  {
   "cell_type": "code",
   "execution_count": 68,
   "id": "acc6a05b",
   "metadata": {},
   "outputs": [
    {
     "data": {
      "text/plain": [
       "'To pierwsza linia,\\n                    to druga linia,\\n                    a to trzecia linia.'"
      ]
     },
     "execution_count": 68,
     "metadata": {},
     "output_type": "execute_result"
    }
   ],
   "source": [
    "#wieloliniowe lancuchy\n",
    "multi_line_string = \"\"\"To pierwsza linia,\n",
    "                    to druga linia,\n",
    "                    a to trzecia linia.\"\"\"\n",
    "multi_line_string"
   ]
  },
  {
   "cell_type": "code",
   "execution_count": 82,
   "id": "7cb7f51e",
   "metadata": {},
   "outputs": [
    {
     "name": "stdout",
     "output_type": "stream",
     "text": [
      "Nazywam sie Denys Zvarych\n",
      "Moje imie i nazwisko - Denys Zvarych\n",
      "Imie i nazwisko:  Denys Zvarych\n"
     ]
    }
   ],
   "source": [
    "first_name = 'Denys'\n",
    "last_name = 'Zvarych'\n",
    "\n",
    "#mozliwosc tworzenia lancuchow za pomoca notacji f\n",
    "print(f'Nazywam sie {first_name} {last_name}')\n",
    "\n",
    "#tworzenia lancuchow za pomoca funckji format\n",
    "print(\"Moje imie i nazwisko - {0} {1}\".format(first_name,last_name))\n",
    "\n",
    "#tworzenia lancuchow za pomoca ich dodawania\n",
    "print(\"Imie i nazwisko: \", first_name + \" \" + last_name)"
   ]
  },
  {
   "cell_type": "markdown",
   "id": "25a29cc2",
   "metadata": {},
   "source": [
    "### Wyjatki\n",
    "___\n",
    "do obslugi wyjatkow sluzy polecenia `try` i `except`"
   ]
  },
  {
   "cell_type": "code",
   "execution_count": 85,
   "id": "2fc96435",
   "metadata": {},
   "outputs": [
    {
     "name": "stdout",
     "output_type": "stream",
     "text": [
      "nie mozna dzielic przez zero\n"
     ]
    }
   ],
   "source": [
    "try:\n",
    "    print(0/0)\n",
    "except ZeroDivisionError:\n",
    "    print(\"nie mozna dzielic przez zero\")"
   ]
  },
  {
   "cell_type": "markdown",
   "id": "0d7dc722",
   "metadata": {},
   "source": [
    "# lista  (ang. list)\n",
    "___\n",
    "to po prostu zbior kolejnych elementow \n",
    "\n",
    "**wycinki [i:j]** -  wszystki numery i wlacznie do elementu j , ale bez niego"
   ]
  },
  {
   "cell_type": "code",
   "execution_count": 106,
   "id": "28782251",
   "metadata": {},
   "outputs": [],
   "source": [
    "integer_list = [1,2,3]\n",
    "heterogeneous_list = ['hello', 0.1, 23, True]\n",
    "list_of_lists = [integer_list, heterogeneous_list, []]\n",
    "list_length = len(integer_list) # rowna sie 3\n",
    "list_sum = sum(integer_list) # rowna sie 6"
   ]
  },
  {
   "cell_type": "code",
   "execution_count": 134,
   "id": "2c0c5711",
   "metadata": {},
   "outputs": [
    {
     "data": {
      "text/plain": [
       "[5, 4, 3]"
      ]
     },
     "execution_count": 134,
     "metadata": {},
     "output_type": "execute_result"
    }
   ],
   "source": [
    "#wycinki\n",
    "x = [0, 1, 2, 3, 4, 5, 6, 7, 8, 9]\n",
    "x[0] = -1\n",
    "x[3:]  # [-1, 1, 2]\n",
    "x[1:5] # [3, 4, ..., 9]\n",
    "x[-3:] # [7, 8, 9]\n",
    "x[1:-1] # [1, 2, ..., 8]\n",
    "copy_of_x = x[:] # [-1, 1, 2, ..., 9]\n",
    "\n",
    "#wycinek jeszcze moze przyjac jeden argument , okreslajacy odstep, i moze byc nawet ujemny\n",
    "x[::3] # [-1, 3, 6, 9]\n",
    "x[5:2:-1]  # [5, 4, 3]"
   ]
  },
  {
   "cell_type": "code",
   "execution_count": null,
   "id": "cc0c6881",
   "metadata": {},
   "outputs": [],
   "source": []
  }
 ],
 "metadata": {
  "kernelspec": {
   "display_name": "Python 3 (ipykernel)",
   "language": "python",
   "name": "python3"
  },
  "language_info": {
   "codemirror_mode": {
    "name": "ipython",
    "version": 3
   },
   "file_extension": ".py",
   "mimetype": "text/x-python",
   "name": "python",
   "nbconvert_exporter": "python",
   "pygments_lexer": "ipython3",
   "version": "3.9.12"
  }
 },
 "nbformat": 4,
 "nbformat_minor": 5
}
