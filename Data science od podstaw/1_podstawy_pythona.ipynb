{
 "cells": [
  {
   "cell_type": "markdown",
   "id": "17271f29",
   "metadata": {},
   "source": [
    "# Podstawy pythona\n",
    "___\n"
   ]
  },
  {
   "cell_type": "code",
   "execution_count": 4,
   "id": "db0025b0",
   "metadata": {},
   "outputs": [
    {
     "data": {
      "text/plain": [
       "5"
      ]
     },
     "execution_count": 4,
     "metadata": {},
     "output_type": "execute_result"
    }
   ],
   "source": [
    "#to ze ciag dalszy znajduje sie w kolejnym wierszu, mozna oznaczy za pomoca ukosnika\n",
    "two_plus_three = 2 + \\\n",
    "                 3\n",
    "\n",
    "two_plus_three"
   ]
  },
  {
   "cell_type": "markdown",
   "id": "a16aa849",
   "metadata": {},
   "source": [
    "##### Moduly:\n",
    "___"
   ]
  },
  {
   "cell_type": "code",
   "execution_count": null,
   "id": "1749bbe8",
   "metadata": {},
   "outputs": [],
   "source": [
    "#nie warto importowac calej zawartosci modulu, \n",
    "#bo spowoduje to nadpisanie zdefiniowanych wczesniej zmiennych\n",
    "match = 10\n",
    "from re import *\n",
    "print(match)"
   ]
  },
  {
   "cell_type": "markdown",
   "id": "42b85fc2",
   "metadata": {},
   "source": [
    "##### Funkcje:\n",
    "___\n",
    "jest blokiem kodu , ktory moze przyjac dowolna liczbe argumentow i wygerenowac na podstawie ich wynik"
   ]
  },
  {
   "cell_type": "code",
   "execution_count": 25,
   "id": "6294325d",
   "metadata": {},
   "outputs": [
    {
     "data": {
      "text/plain": [
       "30"
      ]
     },
     "execution_count": 25,
     "metadata": {},
     "output_type": "execute_result"
    }
   ],
   "source": [
    "def double(x):\n",
    "    \"\"\"Tu moze byc wyjasnienie dzialania funkcji\"\"\"\n",
    "    return x*3\n",
    "\n",
    "double(10)"
   ]
  },
  {
   "cell_type": "code",
   "execution_count": 34,
   "id": "344e7021",
   "metadata": {},
   "outputs": [
    {
     "data": {
      "text/plain": [
       "3"
      ]
     },
     "execution_count": 34,
     "metadata": {},
     "output_type": "execute_result"
    }
   ],
   "source": [
    "#python umozliwia przypisywanie funkcji do zmiennych \n",
    "#i przekazywanie ich do inncyh funkcji w roli argumentow\n",
    "def apply_to_one(f):\n",
    "    return f(1)\n",
    "\n",
    "my_double = double\n",
    "x = apply_to_one(my_double)\n",
    "x"
   ]
  },
  {
   "cell_type": "code",
   "execution_count": 35,
   "id": "3b682741",
   "metadata": {},
   "outputs": [
    {
     "data": {
      "text/plain": [
       "5"
      ]
     },
     "execution_count": 35,
     "metadata": {},
     "output_type": "execute_result"
    }
   ],
   "source": [
    "# python umozliwia tworzenia ktorkich anonimowych funkcji lambda:\n",
    "y = apply_to_one(lambda x: x+4)\n",
    "y"
   ]
  },
  {
   "cell_type": "code",
   "execution_count": 45,
   "id": "57da2652",
   "metadata": {},
   "outputs": [],
   "source": [
    "#gdy jest mozliwosc lepiej lepiej tworzyc funkcje za pomoca def , niz za pomoca lambdy\n",
    "def another_double(x): return 2*x # porawnie\n",
    "another_double1 = lambda x: 2*x # blednie\n"
   ]
  },
  {
   "cell_type": "markdown",
   "id": "9d29e454",
   "metadata": {},
   "source": [
    "#### lanchuny (string):\n",
    "___"
   ]
  },
  {
   "cell_type": "code",
   "execution_count": 47,
   "id": "a6f14f37",
   "metadata": {},
   "outputs": [],
   "source": [
    "#lancuchy ozna podalac w pojedynczych lub podwojnych cudzyslowach\n",
    "single_quoted_string = 'analiza danych'\n",
    "double_quoted_string = \"analiza danych\""
   ]
  },
  {
   "cell_type": "code",
   "execution_count": 56,
   "id": "e8a2d8a6",
   "metadata": {},
   "outputs": [
    {
     "data": {
      "text/plain": [
       "1"
      ]
     },
     "execution_count": 56,
     "metadata": {},
     "output_type": "execute_result"
    }
   ],
   "source": [
    "#znaki specjlalne w lancuchacg umieszcza sie po uskosniku:\n",
    "tab_string = \"\\t\"\n",
    "len(tab_string) #\\t jest jednym znakiem#"
   ]
  },
  {
   "cell_type": "code",
   "execution_count": 61,
   "id": "883c69aa",
   "metadata": {},
   "outputs": [
    {
     "data": {
      "text/plain": [
       "2"
      ]
     },
     "execution_count": 61,
     "metadata": {},
     "output_type": "execute_result"
    }
   ],
   "source": [
    "#aby umiescic w lancuchach znak ukosnia, mozemy utworzyc 'surowy' lanchuch za pomoca r\"\" \n",
    "not_tab_string = r\"\\t\"\n",
    "len(not_tab_string) # za pomoca r\"\\t\" - \\t teraz dwa znaki"
   ]
  },
  {
   "cell_type": "code",
   "execution_count": 68,
   "id": "acc6a05b",
   "metadata": {},
   "outputs": [
    {
     "data": {
      "text/plain": [
       "'To pierwsza linia,\\n                    to druga linia,\\n                    a to trzecia linia.'"
      ]
     },
     "execution_count": 68,
     "metadata": {},
     "output_type": "execute_result"
    }
   ],
   "source": [
    "#wieloliniowe lancuchy\n",
    "multi_line_string = \"\"\"To pierwsza linia,\n",
    "                    to druga linia,\n",
    "                    a to trzecia linia.\"\"\"\n",
    "multi_line_string"
   ]
  },
  {
   "cell_type": "code",
   "execution_count": 82,
   "id": "7cb7f51e",
   "metadata": {},
   "outputs": [
    {
     "name": "stdout",
     "output_type": "stream",
     "text": [
      "Nazywam sie Denys Zvarych\n",
      "Moje imie i nazwisko - Denys Zvarych\n",
      "Imie i nazwisko:  Denys Zvarych\n"
     ]
    }
   ],
   "source": [
    "first_name = 'Denys'\n",
    "last_name = 'Zvarych'\n",
    "\n",
    "#mozliwosc tworzenia lancuchow za pomoca notacji f\n",
    "print(f'Nazywam sie {first_name} {last_name}')\n",
    "\n",
    "#tworzenia lancuchow za pomoca funckji format\n",
    "print(\"Moje imie i nazwisko - {0} {1}\".format(first_name,last_name))\n",
    "\n",
    "#tworzenia lancuchow za pomoca ich dodawania\n",
    "print(\"Imie i nazwisko: \", first_name + \" \" + last_name)"
   ]
  },
  {
   "cell_type": "markdown",
   "id": "25a29cc2",
   "metadata": {},
   "source": [
    "### Wyjatki\n",
    "___\n",
    "do obslugi wyjatkow sluzy polecenia `try` i `except`"
   ]
  },
  {
   "cell_type": "code",
   "execution_count": 85,
   "id": "2fc96435",
   "metadata": {},
   "outputs": [
    {
     "name": "stdout",
     "output_type": "stream",
     "text": [
      "nie mozna dzielic przez zero\n"
     ]
    }
   ],
   "source": [
    "try:\n",
    "    print(0/0)\n",
    "except ZeroDivisionError:\n",
    "    print(\"nie mozna dzielic przez zero\")"
   ]
  },
  {
   "cell_type": "markdown",
   "id": "5f4c9540",
   "metadata": {},
   "source": [
    "# TYPY DANYCH PYTHON\n",
    "___\n",
    "___\n",
    "**Typy danych w pythonie**:\n",
    ">* Numbers (liczby) (int,float)\n",
    ">* Strings (lancuchy)\n",
    ">* Lists (listy)\n",
    ">* Dictionaries (slowniki)\n",
    ">* Tuples (krotki)\n",
    ">* Sets (zbiory)\n",
    ">* Boolean (logiczne typy danych)\n",
    "\n",
    "**Te typy danych można z kolei sklasyfikować według kilku cech:**\n",
    "\n",
    "* **mutowalne(ang. mutable)** -  (listy, słowniki i zbiory)\n",
    "\n",
    "* **niemutowalne (ang. immutable)** - (int,float string,boolm,NoneType i krotki, frozenset)\n",
    "\n",
    "* uporządkowane (listy, krotki, ciągi i słowniki)\n",
    "\n",
    "* nieuporządkowane (set)"
   ]
  },
  {
   "cell_type": "markdown",
   "id": "0d7dc722",
   "metadata": {},
   "source": [
    "# Python lista\n",
    "___\n",
    "Listy są strukturą pozwalającą na przechowywanie elementów w sposób uporządkowany. Listy tworzy się za pomocą nawiasów kwadratowych, oddzielając elementy przecinkami\n",
    "\n",
    "W języku angielskim dla określenia listy używa się słów: **array, vector, matrix, list**\n",
    "\n",
    "> Właściwości listy:\n",
    "> * jest **mutowalna** – można dodawać lub usuwać z niej elementy\n",
    "> * może przechowywać różne typy danych np. łańcuchy znaków, krotki, listy, słowniki, funkcje, obiekty plików i dowolne rodzaje liczb\n",
    "> * możliwe jest odnoszenie się do podzbiorów, czy wycinków listy (ang. slice)"
   ]
  },
  {
   "cell_type": "code",
   "execution_count": 106,
   "id": "28782251",
   "metadata": {},
   "outputs": [],
   "source": [
    "integer_list = [1,2,3]\n",
    "heterogeneous_list = ['hello', 0.1, 23, True]\n",
    "list_of_lists = [integer_list, heterogeneous_list, []]\n",
    "list_length = len(integer_list) # rowna sie 3\n",
    "list_sum = sum(integer_list) # rowna sie 6"
   ]
  },
  {
   "cell_type": "markdown",
   "id": "cbc904ba",
   "metadata": {},
   "source": [
    "##### **Wycinki `[i:j]`** -  wszystki numery i wlacznie do elementu j , ale bez niego"
   ]
  },
  {
   "cell_type": "code",
   "execution_count": null,
   "id": "e2e8ae4b",
   "metadata": {},
   "outputs": [],
   "source": [
    "#wycinki\n",
    "x = [0, 1, 2, 3, 4, 5, 6, 7, 8, 9]\n",
    "x[0] = -1\n",
    "x[3:]  # [-1, 1, 2]\n",
    "x[1:5] # [3, 4, ..., 9]\n",
    "x[-3:] # [7, 8, 9]\n",
    "x[1:-1] # [1, 2, ..., 8]\n",
    "copy_of_x = x[:] # [-1, 1, 2, ..., 9]\n",
    "\n",
    "#wycinek jeszcze moze przyjac jeden argument , okreslajacy odstep, i moze byc nawet ujemny\n",
    "x[::3] # [-1, 3, 6, 9]\n",
    "x[5:2:-1]  # [5, 4, 3]"
   ]
  },
  {
   "cell_type": "markdown",
   "id": "86417239",
   "metadata": {},
   "source": [
    "##### Operator `in` sluzy do sprawdzanue przyleznosci do listy"
   ]
  },
  {
   "cell_type": "code",
   "execution_count": 5,
   "id": "2c0c5711",
   "metadata": {},
   "outputs": [
    {
     "data": {
      "text/plain": [
       "False"
      ]
     },
     "execution_count": 5,
     "metadata": {},
     "output_type": "execute_result"
    }
   ],
   "source": [
    "1 in x #True\n",
    "123 in x # False"
   ]
  },
  {
   "cell_type": "markdown",
   "id": "46e04d93",
   "metadata": {},
   "source": [
    "##### wygodny mechamizm rozpakowywania list:"
   ]
  },
  {
   "cell_type": "code",
   "execution_count": 31,
   "id": "714da015",
   "metadata": {},
   "outputs": [
    {
     "name": "stdout",
     "output_type": "stream",
     "text": [
      "x rowna sie: 1\n",
      "y rowna sie: 2\n"
     ]
    }
   ],
   "source": [
    "x,y = [1,2]\n",
    "print(\"x rowna sie: {0}\\ny rowna sie: {1}\".format(x,y))\n",
    "\n",
    "#jezeli nie potrzebuje jakiejs wartosci to moge zastapic ja znakiem podkreslenia:\n",
    "_, y = [2,3] # teraz y === 3, a pierwszy element zostal pominiety"
   ]
  },
  {
   "cell_type": "markdown",
   "id": "bdd708d1",
   "metadata": {},
   "source": [
    "### Typ danych listy ma kilka więcej metod. To wszystkie metody obiektów listy:\n",
    "___"
   ]
  },
  {
   "cell_type": "markdown",
   "id": "2eebfb97",
   "metadata": {},
   "source": [
    "##### Dwie listy mozna ze soba latwo polaczyc, funckja `extend()` sluzy do dodawania do listy elementow z innego zbiory\n"
   ]
  },
  {
   "cell_type": "code",
   "execution_count": 20,
   "id": "827efa37",
   "metadata": {},
   "outputs": [],
   "source": [
    "#w takim razie lista x bedzie modyfikowana\n",
    "x = [1,2,3]\n",
    "x.extend([4,5,6])\n",
    "x # lista ma teraz postac [1,2,3,4,5,6]\n",
    "\n",
    "#w takim razie lista x nie bedzie modyfikowana\n",
    "x = [1,3,4,5]\n",
    "y = x + [4,9,12]"
   ]
  },
  {
   "cell_type": "markdown",
   "id": "615fd7ae",
   "metadata": {},
   "source": [
    "##### dolaczania do listy pojedynczego elementy za pomoca fukncji `append()`"
   ]
  },
  {
   "cell_type": "code",
   "execution_count": 53,
   "id": "26dad66b",
   "metadata": {},
   "outputs": [
    {
     "data": {
      "text/plain": [
       "[1, 2, 3, 4, 5, 6, 7, 8, 8, 21]"
      ]
     },
     "execution_count": 53,
     "metadata": {},
     "output_type": "execute_result"
    }
   ],
   "source": [
    "x = [1,2,3,4,5,6,7,8,8]\n",
    "x.append(21)\n",
    "x"
   ]
  },
  {
   "cell_type": "markdown",
   "id": "275850bc",
   "metadata": {},
   "source": [
    "##### `insert()` wstawia element na podaną pozycję. Pierwszy argument jest indeksem elementu, przed który wstawiamy"
   ]
  },
  {
   "cell_type": "code",
   "execution_count": 54,
   "id": "a6ecd96e",
   "metadata": {},
   "outputs": [
    {
     "data": {
      "text/plain": [
       "[1, 2, 3, 4, 5, 2, 6]"
      ]
     },
     "execution_count": 54,
     "metadata": {},
     "output_type": "execute_result"
    }
   ],
   "source": [
    "x = [1,2,3,4,5,6]\n",
    "x.insert(-1,2) # na pozycje -1, wstawiam 2\n",
    "x"
   ]
  },
  {
   "cell_type": "markdown",
   "id": "d14c049e",
   "metadata": {},
   "source": [
    "##### `remove()` usuwa pierwszy element z listy, którego wartość jest równa x. Rzuca ValueError, jeśli nie ma takiego elementu."
   ]
  },
  {
   "cell_type": "code",
   "execution_count": 51,
   "id": "95f90237",
   "metadata": {},
   "outputs": [
    {
     "data": {
      "text/plain": [
       "[1, 3, 4, 6]"
      ]
     },
     "execution_count": 51,
     "metadata": {},
     "output_type": "execute_result"
    }
   ],
   "source": [
    "x = [1,3,4,4,6]\n",
    "x.remove(4)\n",
    "x"
   ]
  },
  {
   "cell_type": "markdown",
   "id": "ed5230bb",
   "metadata": {},
   "source": [
    "##### Usuwa element z podanej pozycji na liście i zwraca go. Jeśli indeks nie jest podany, a.pop() usuwa i zwraca ostatni element listy."
   ]
  },
  {
   "cell_type": "code",
   "execution_count": 78,
   "id": "a3b5628d",
   "metadata": {},
   "outputs": [
    {
     "data": {
      "text/plain": [
       "[1, 3, 4, 5, 6, 7]"
      ]
     },
     "execution_count": 78,
     "metadata": {},
     "output_type": "execute_result"
    }
   ],
   "source": [
    "x  = [1,2,3,4,5,6,7]\n",
    "x.pop(1) # usuwa 1 element i zwraca go czyli 2. \n",
    "x\n"
   ]
  },
  {
   "cell_type": "markdown",
   "id": "28ad0da7",
   "metadata": {},
   "source": [
    "### usywanie wszystkich elementow z listy `clear()` , usuniecia calej listy `del nazwa`"
   ]
  },
  {
   "cell_type": "code",
   "execution_count": 82,
   "id": "ee040d2f",
   "metadata": {},
   "outputs": [
    {
     "data": {
      "text/plain": [
       "[]"
      ]
     },
     "execution_count": 82,
     "metadata": {},
     "output_type": "execute_result"
    }
   ],
   "source": [
    "x.clear()\n",
    "x"
   ]
  },
  {
   "cell_type": "code",
   "execution_count": 85,
   "id": "173152d2",
   "metadata": {},
   "outputs": [
    {
     "ename": "NameError",
     "evalue": "name 'x' is not defined",
     "output_type": "error",
     "traceback": [
      "\u001b[0;31m---------------------------------------------------------------------------\u001b[0m",
      "\u001b[0;31mNameError\u001b[0m                                 Traceback (most recent call last)",
      "Input \u001b[0;32mIn [85]\u001b[0m, in \u001b[0;36m<cell line: 3>\u001b[0;34m()\u001b[0m\n\u001b[1;32m      1\u001b[0m x \u001b[38;5;241m=\u001b[39m [\u001b[38;5;241m1\u001b[39m,\u001b[38;5;241m2\u001b[39m,\u001b[38;5;241m3\u001b[39m,\u001b[38;5;241m4\u001b[39m,\u001b[38;5;241m5\u001b[39m]\n\u001b[1;32m      2\u001b[0m \u001b[38;5;28;01mdel\u001b[39;00m x\n\u001b[0;32m----> 3\u001b[0m \u001b[43mx\u001b[49m\n",
      "\u001b[0;31mNameError\u001b[0m: name 'x' is not defined"
     ]
    }
   ],
   "source": [
    "x = [1,2,3,4,5]\n",
    "del x\n",
    "x"
   ]
  },
  {
   "cell_type": "markdown",
   "id": "c4bd3ec3",
   "metadata": {},
   "source": [
    "##### `index()` wraca indeks (liczony od zera) pierwszego elementu na liście, którego wartość jest równa x. Rzuca ValueError, jeśli nie ma takiego elementu."
   ]
  },
  {
   "cell_type": "code",
   "execution_count": 99,
   "id": "e2e0af01",
   "metadata": {},
   "outputs": [
    {
     "data": {
      "text/plain": [
       "4"
      ]
     },
     "execution_count": 99,
     "metadata": {},
     "output_type": "execute_result"
    }
   ],
   "source": [
    "x = [0,1,2,3,4,4,5,6,7]\n",
    "x.index(4)"
   ]
  },
  {
   "cell_type": "markdown",
   "id": "efe2c5c2",
   "metadata": {},
   "source": [
    "##### `count()` zwraca liczbę razy, jaką x występuje w liście."
   ]
  },
  {
   "cell_type": "code",
   "execution_count": 108,
   "id": "d187760e",
   "metadata": {},
   "outputs": [
    {
     "data": {
      "text/plain": [
       "3"
      ]
     },
     "execution_count": 108,
     "metadata": {},
     "output_type": "execute_result"
    }
   ],
   "source": [
    "x = [1,2,3,4,3,2,1,2]\n",
    "x.count(2)"
   ]
  },
  {
   "cell_type": "markdown",
   "id": "a93e547b",
   "metadata": {},
   "source": [
    "#####  `sort()` sortuje elementy listy w miejscu, \n",
    "paremetr:\n",
    "* reverse=False"
   ]
  },
  {
   "cell_type": "code",
   "execution_count": 118,
   "id": "e4234bf6",
   "metadata": {},
   "outputs": [
    {
     "data": {
      "text/plain": [
       "[52, 34, 12, 6, 5, 5, 5, 5, 4, 4, 3, 2, 2, 2]"
      ]
     },
     "execution_count": 118,
     "metadata": {},
     "output_type": "execute_result"
    }
   ],
   "source": [
    "x = [3,34,5,2,5,2,52,5,12,5,6,4,2,4]\n",
    "x.sort(reverse=True)\n",
    "x"
   ]
  },
  {
   "cell_type": "markdown",
   "id": "a3d36728",
   "metadata": {},
   "source": [
    "##### `reverse()` Odwraca elementy listy w miejscu."
   ]
  },
  {
   "cell_type": "code",
   "execution_count": 131,
   "id": "b4b7d6f2",
   "metadata": {},
   "outputs": [
    {
     "data": {
      "text/plain": [
       "[9, 8, 7, 6, 5, 4, 3, 2, 1, 0]"
      ]
     },
     "execution_count": 131,
     "metadata": {},
     "output_type": "execute_result"
    }
   ],
   "source": [
    "x = [0, 1, 2, 3, 4, 5, 6, 7, 8, 9]\n",
    "x.reverse()\n",
    "x"
   ]
  },
  {
   "cell_type": "markdown",
   "id": "13e006fa",
   "metadata": {},
   "source": [
    "##### `copy()` Zwraca płytką kopię listy. Ekwiwalent a[:]."
   ]
  },
  {
   "cell_type": "code",
   "execution_count": 137,
   "id": "79b0a9b3",
   "metadata": {},
   "outputs": [
    {
     "name": "stdout",
     "output_type": "stream",
     "text": [
      "140536323788288\n",
      "140536323491648\n"
     ]
    }
   ],
   "source": [
    "x = [1,2,3,4,5]\n",
    "y = x.copy()\n",
    "y\n",
    "print(id(x))\n",
    "print(id(y))"
   ]
  },
  {
   "cell_type": "code",
   "execution_count": 142,
   "id": "baf659f4",
   "metadata": {},
   "outputs": [
    {
     "name": "stdout",
     "output_type": "stream",
     "text": [
      "140536323788288\n",
      "140536323491008\n"
     ]
    }
   ],
   "source": [
    "y = x[:]\n",
    "y \n",
    "print(id(x))\n",
    "print(id(y))"
   ]
  },
  {
   "cell_type": "code",
   "execution_count": null,
   "id": "aead5eba",
   "metadata": {},
   "outputs": [],
   "source": []
  }
 ],
 "metadata": {
  "kernelspec": {
   "display_name": "Python 3 (ipykernel)",
   "language": "python",
   "name": "python3"
  },
  "language_info": {
   "codemirror_mode": {
    "name": "ipython",
    "version": 3
   },
   "file_extension": ".py",
   "mimetype": "text/x-python",
   "name": "python",
   "nbconvert_exporter": "python",
   "pygments_lexer": "ipython3",
   "version": "3.9.12"
  }
 },
 "nbformat": 4,
 "nbformat_minor": 5
}
