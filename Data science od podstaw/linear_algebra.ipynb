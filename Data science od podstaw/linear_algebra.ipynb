{
 "cells": [
  {
   "cell_type": "markdown",
   "id": "d43f1ea6",
   "metadata": {},
   "source": [
    "# Algebra liniowa \n",
    "___\n"
   ]
  },
  {
   "cell_type": "markdown",
   "id": "b0a275e7",
   "metadata": {},
   "source": [
    "**Wektory** sa punktami znajdujacymi sie w przestrzeni o skonczonej liczbe wymiarow"
   ]
  },
  {
   "cell_type": "code",
   "execution_count": 1,
   "id": "6574805a",
   "metadata": {},
   "outputs": [
    {
     "data": {
      "text/plain": [
       "typing.List[float]"
      ]
     },
     "execution_count": 1,
     "metadata": {},
     "output_type": "execute_result"
    }
   ],
   "source": [
    "from typing import List\n",
    "\n",
    "Vector = List[float]\n",
    "\n",
    "wzrost_waga_wiek = [170,70,40]\n",
    "oceny = [95,80,75,65]"
   ]
  },
  {
   "cell_type": "markdown",
   "id": "9b03d4bf",
   "metadata": {},
   "source": [
    "Dodawanie wektorow mozna z latwoscia zaimplementowac za pomoca funckji `zip` "
   ]
  },
  {
   "cell_type": "code",
   "execution_count": 20,
   "id": "9601f066",
   "metadata": {},
   "outputs": [
    {
     "data": {
      "text/plain": [
       "[5, 7, 9]"
      ]
     },
     "execution_count": 20,
     "metadata": {},
     "output_type": "execute_result"
    }
   ],
   "source": [
    "def add(v : Vector, w : Vector) -> Vector:\n",
    "    \"\"\"dodawanie wektorow\"\"\"\n",
    "    # wektory musza miec taka sama dlugosc!\n",
    "    assert len(v) == len(w), \"nie rowna dlugosc wektorow\"\n",
    "    return [v_i + w_i for v_i, w_i in zip(v,w)]\n",
    "\n",
    "add([1,2,3], [4,5,6])"
   ]
  },
  {
   "cell_type": "markdown",
   "id": "6ce5d466",
   "metadata": {},
   "source": [
    "W celu odjecia wektorow wystarczy odjac do sibie ich elementy"
   ]
  },
  {
   "cell_type": "code",
   "execution_count": 21,
   "id": "03b08c31",
   "metadata": {},
   "outputs": [
    {
     "data": {
      "text/plain": [
       "[4, 1, 6]"
      ]
     },
     "execution_count": 21,
     "metadata": {},
     "output_type": "execute_result"
    }
   ],
   "source": [
    "def subtract(v : Vector, w : Vector) -> Vector:\n",
    "    \"\"\"odejmowanie wektorow\"\"\"\n",
    "    assert len(v) == len(w), \"wektory musza miec te sama dlugosc!\"\n",
    "    return [v_i - w_i for v_i, w_i in zip(v,w)]\n",
    "\n",
    "subtract([4,5,8], [0,4,2])"
   ]
  },
  {
   "cell_type": "code",
   "execution_count": 33,
   "id": "13142be0",
   "metadata": {},
   "outputs": [
    {
     "data": {
      "text/plain": [
       "[16, 20]"
      ]
     },
     "execution_count": 33,
     "metadata": {},
     "output_type": "execute_result"
    }
   ],
   "source": [
    "def vector_sum(vectors : List[Vector]) -> Vector:\n",
    "    \"\"\"Sumuje liste wektorow\"\"\"\n",
    "    \n",
    "    #sprawdzam czy lista nie jest pusta\n",
    "    assert vectors, 'brak wektorow!'\n",
    "\n",
    "    #sprawdzam czy wszystkie wektory maja te same dlugosc \n",
    "    num_elements = len(vectors[0])\n",
    "    assert all(len(v) == num_elements for v in vectors), \"rozne dlugosci wektorow!\"\n",
    "    \n",
    "    return [sum(vector[i] for vector in vectors) for i in range(num_elements)]\n",
    "\n",
    "vector_sum([[1,2],[3,4],[5,6],[7,8]])"
   ]
  },
  {
   "cell_type": "markdown",
   "id": "cce0f72a",
   "metadata": {},
   "source": [
    "Mnozenie wektora przez skalar"
   ]
  },
  {
   "cell_type": "code",
   "execution_count": 38,
   "id": "39fd22e9",
   "metadata": {},
   "outputs": [
    {
     "data": {
      "text/plain": [
       "[6, 10]"
      ]
     },
     "execution_count": 38,
     "metadata": {},
     "output_type": "execute_result"
    }
   ],
   "source": [
    "def scalar_multiply(c : float, v : Vector) -> Vector:\n",
    "    \"mnozy kazdy elementy przez stala c\"\n",
    "    return [c * v_i for v_i in v]\n",
    "\n",
    "scalar_multiply(2,[3,5])"
   ]
  },
  {
   "cell_type": "markdown",
   "id": "2b70c84e",
   "metadata": {},
   "source": [
    "Obliczam srednia wektorow"
   ]
  },
  {
   "cell_type": "code",
   "execution_count": 40,
   "id": "67793461",
   "metadata": {},
   "outputs": [
    {
     "data": {
      "text/plain": [
       "[2.5, 3.5, 4.5]"
      ]
     },
     "execution_count": 40,
     "metadata": {},
     "output_type": "execute_result"
    }
   ],
   "source": [
    "def vector_mean(vectors : List[Vector]) -> Vector:\n",
    "    n = len(vectors)\n",
    "    return scalar_multiply(1/n, vector_sum(vectors))\n",
    "\n",
    "vector_mean([[1,2,3],[4,5,6]])"
   ]
  },
  {
   "cell_type": "markdown",
   "id": "a6e866b4",
   "metadata": {},
   "source": [
    "##### Obliczam iloczyn skalarny\n",
    "Jezeli dlugosc wektora wynosi 1 , to iloczyn skalarny okresla jak daleko wektor `v` ciagnie sie w kierunku `w`"
   ]
  },
  {
   "cell_type": "code",
   "execution_count": 48,
   "id": "466b3b30",
   "metadata": {},
   "outputs": [
    {
     "data": {
      "text/plain": [
       "32"
      ]
     },
     "execution_count": 48,
     "metadata": {},
     "output_type": "execute_result"
    }
   ],
   "source": [
    "def dot(v : Vector, w : Vector) -> float:\n",
    "    \"obliczam iloczyn skalarny dwoch wektorow o tych samych wymiarach\"\n",
    "    \n",
    "    assert len(v) == len(w), \"wektory musza miec te sama dlugosc\"\n",
    "    return sum([(v_i*w_i) for v_i, w_i in zip(v,w)])\n",
    "\n",
    "dot([1,2,3],[4,5,6]) # 1*4 + 2*5 + 3*6 == 32 "
   ]
  },
  {
   "cell_type": "markdown",
   "id": "630c7389",
   "metadata": {},
   "source": [
    "Suma kwadratow wektora:"
   ]
  },
  {
   "cell_type": "code",
   "execution_count": 52,
   "id": "b250406d",
   "metadata": {},
   "outputs": [
    {
     "data": {
      "text/plain": [
       "14"
      ]
     },
     "execution_count": 52,
     "metadata": {},
     "output_type": "execute_result"
    }
   ],
   "source": [
    "def sum_of_squares(v: Vector) -> float:\n",
    "    \"\"\"zwraca v_i * v_i + ... + v_n * v_n \"\"\"\n",
    "    return dot(v,v) \n",
    "\n",
    "sum_of_squares([1,2,3]) # 1*1 + 2*2 + 3+3"
   ]
  },
  {
   "cell_type": "markdown",
   "id": "55f1a92b",
   "metadata": {},
   "source": [
    "Obliczenia modulu wektora(jego dlugosci)"
   ]
  },
  {
   "cell_type": "code",
   "execution_count": 56,
   "id": "dfd4c865",
   "metadata": {},
   "outputs": [
    {
     "data": {
      "text/plain": [
       "5.0"
      ]
     },
     "execution_count": 56,
     "metadata": {},
     "output_type": "execute_result"
    }
   ],
   "source": [
    "import math\n",
    "\n",
    "def magnitude(v: Vector) -> float:\n",
    "    return math.sqrt(sum_of_squares(v))\n",
    "\n",
    "magnitude([3,4]) # 3*3 + 4*4 = 9 + 16 = 25 , pierwiastek z 25 == 5!"
   ]
  },
  {
   "cell_type": "markdown",
   "id": "1ea8036f",
   "metadata": {},
   "source": [
    "Distance miedzy dwoma wektorami"
   ]
  },
  {
   "cell_type": "code",
   "execution_count": 59,
   "id": "e33ca3a7",
   "metadata": {},
   "outputs": [
    {
     "data": {
      "text/plain": [
       "5.196152422706632"
      ]
     },
     "execution_count": 59,
     "metadata": {},
     "output_type": "execute_result"
    }
   ],
   "source": [
    "def distance(v: Vector, w : Vector) -> float:\n",
    "    return magnitude(subtract(v,w))\n",
    "\n",
    "distance([1,2,3], [4,5,6])"
   ]
  },
  {
   "cell_type": "code",
   "execution_count": null,
   "id": "cc7673bb",
   "metadata": {},
   "outputs": [],
   "source": []
  }
 ],
 "metadata": {
  "kernelspec": {
   "display_name": "Python 3 (ipykernel)",
   "language": "python",
   "name": "python3"
  },
  "language_info": {
   "codemirror_mode": {
    "name": "ipython",
    "version": 3
   },
   "file_extension": ".py",
   "mimetype": "text/x-python",
   "name": "python",
   "nbconvert_exporter": "python",
   "pygments_lexer": "ipython3",
   "version": "3.9.12"
  }
 },
 "nbformat": 4,
 "nbformat_minor": 5
}
