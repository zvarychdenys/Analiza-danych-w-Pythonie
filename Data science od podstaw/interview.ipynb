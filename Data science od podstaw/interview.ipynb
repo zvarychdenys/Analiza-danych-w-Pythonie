{
 "cells": [
  {
   "cell_type": "markdown",
   "id": "4edcbfac",
   "metadata": {},
   "source": [
    "# Rozmowa kwalifikacyjna w IT\n",
    "____"
   ]
  },
  {
   "cell_type": "markdown",
   "id": "6002cf3c",
   "metadata": {},
   "source": [
    "### 1) Jakie sa typy danych w Pythonie?\n",
    "\n",
    "**Typy danych w pythonie**:\n",
    ">* Numbers (liczby) (int,float)\n",
    ">* Strings (lancuchy)\n",
    ">* Lists (listy)\n",
    ">* Dictionaries (slowniki)\n",
    ">* Tuples (krotki)\n",
    ">* Sets (zbiory)\n",
    ">* Boolean (logiczne typy danych)\n",
    "\n",
    "**Te typy danych można z kolei sklasyfikować według kilku cech:**\n",
    "\n",
    "* **mutowalne(ang. mutable)** -  (listy, słowniki i zbiory)\n",
    "\n",
    "* **niemutowalne (ang. immutable)** - (int,float string,bool,NoneType i krotki, frozenset)\n",
    "\n",
    "* uporządkowane (listy, krotki, ciągi i słowniki)\n",
    "\n",
    "* nieuporządkowane (set)"
   ]
  },
  {
   "cell_type": "code",
   "execution_count": 9,
   "id": "4f436f25",
   "metadata": {},
   "outputs": [
    {
     "name": "stdout",
     "output_type": "stream",
     "text": [
      "lancuchu sa niemutowalne w Pythonie!\n"
     ]
    }
   ],
   "source": [
    "some_string = '123435'\n",
    "try:\n",
    "    some_string[4] = '9'\n",
    "except TypeError:\n",
    "    print(\"lancuchu sa niemutowalne w Pythonie!\")"
   ]
  },
  {
   "cell_type": "markdown",
   "id": "60d9f3c4",
   "metadata": {},
   "source": [
    "### 2) Roznica miedzy `==` i `is`\n",
    " * `=` to operator porównania wartości zmiennych ,sprawdza czy wartosci zmiennych sa rowne i zwraca True lub False\n",
    " * `is` natomiast sprawdza, czy dwie zmienne wskazują w to samo miejsce w pamięci, czyli innymi słowy czy te dwie zmienne są takie same."
   ]
  },
  {
   "cell_type": "code",
   "execution_count": 14,
   "id": "f55ba8ce",
   "metadata": {},
   "outputs": [
    {
     "name": "stdout",
     "output_type": "stream",
     "text": [
      "True\n",
      "False\n"
     ]
    }
   ],
   "source": [
    "a = [1,2,3]\n",
    "b = [1,2,3]\n",
    "\n",
    "print(a == b)\n",
    "print(a is b)"
   ]
  },
  {
   "cell_type": "code",
   "execution_count": 19,
   "id": "e2debb6e",
   "metadata": {},
   "outputs": [
    {
     "name": "stdout",
     "output_type": "stream",
     "text": [
      "True\n",
      "True\n"
     ]
    }
   ],
   "source": [
    "list1 = [1,2,3,4,5]\n",
    "list2 = list1\n",
    "\n",
    "print(list1 == list2)\n",
    "print(list1 is list2)"
   ]
  },
  {
   "cell_type": "markdown",
   "id": "4c1a815b",
   "metadata": {},
   "source": [
    "### 3) Jak w Pythonie przekazywane są argumenty do funkcji (zmienne i niezmienne)\n",
    "\n",
    "W przypadku niezmiennych typów danych funkcje w Pythonie działają tak, jakby ich argumenty przekazywane były przez wartość, natomiast w przypadku typów zmiennych na ogół jak przez referencję."
   ]
  },
  {
   "cell_type": "code",
   "execution_count": 43,
   "id": "006fc5e2",
   "metadata": {},
   "outputs": [
    {
     "name": "stdout",
     "output_type": "stream",
     "text": [
      "Wartość przed wykonaniem funkcji:  10\n",
      "Wartość wewnątrz funkcji:  11\n",
      "Wartość po wykonaniu funkcji:  10\n"
     ]
    }
   ],
   "source": [
    "def add_1(number):\n",
    "    number = number + 1\n",
    "    print(\"Wartość wewnątrz funkcji: \", number)\n",
    "    return number\n",
    "\n",
    "liczba = 10\n",
    "print(\"Wartość przed wykonaniem funkcji: \", liczba)\n",
    "add_1(liczba)\n",
    "print(\"Wartość po wykonaniu funkcji: \", liczba)"
   ]
  },
  {
   "cell_type": "code",
   "execution_count": 45,
   "id": "065d27e6",
   "metadata": {},
   "outputs": [],
   "source": [
    "# Sytuacja będzie wyglądać trochę inaczej dla funkcji, której argumentem jest lista:"
   ]
  },
  {
   "cell_type": "code",
   "execution_count": 46,
   "id": "dc00111b",
   "metadata": {},
   "outputs": [
    {
     "name": "stdout",
     "output_type": "stream",
     "text": [
      "Wartość przed wykonaniem funkcji:  [10, 20, 30]\n",
      "Wartość wewnątrz funkcji:  [10, 20, 30, [1, 2, 3, 4]]\n",
      "Wartość po wykonaniu funkcji:  [10, 20, 30, [1, 2, 3, 4]]\n"
     ]
    }
   ],
   "source": [
    "def changeme(mylist):\n",
    "    mylist.append([1,2,3,4])\n",
    "    print(\"Wartość wewnątrz funkcji: \", mylist)\n",
    "\n",
    "lista = [10,20,30]\n",
    "print (\"Wartość przed wykonaniem funkcji: \", lista)\n",
    "changeme(lista)\n",
    "print (\"Wartość po wykonaniu funkcji: \", lista)"
   ]
  },
  {
   "cell_type": "markdown",
   "id": "4a95f7d4",
   "metadata": {},
   "source": [
    "### 4) Co to *args, **kwargs?\n",
    "\n",
    "* `*arg`  - za pomocą *args przekazujemy do funkcji dowolną liczbę argumentów pozycyjnych __(tuple)__\n",
    "* `*kwargs` za pomoca **kwargs przekazujemy do funkjci dowolna liczbe argumentow w którym umieszczamy pary klucz-wartość, czyli zmienną słownikową __(dictionary)__."
   ]
  },
  {
   "cell_type": "markdown",
   "id": "d33c65fe",
   "metadata": {},
   "source": [
    "### 5) Co to sa annotacje typow i dla czego sa potrzebne?\n",
    "Są to wskazówki do jakiegoś argumentu funkcji, aby na przykład inny programista, który bedzie czytal kod innego programisty, zrozumiał, jaki typ danego argumentu powinien zostać przyjęty do funkcji. \n",
    "\n",
    "**Ale ważne jest to, że jeśli zamiast jednego typu przekażę inny typ do funkcji, która nie jest oczekiwany, program nie zgłosi błędu.**"
   ]
  },
  {
   "cell_type": "markdown",
   "id": "439dff30",
   "metadata": {},
   "source": [
    " ### 6) Co to lambda funckja ? w jakich przypadkach jest uzywana?\n",
    " \n",
    " *lambda* - krotka anonimowa funkcja , ona nie ma imienia, moze przyjac dowolna liczbe argumentow,"
   ]
  },
  {
   "cell_type": "markdown",
   "id": "c75283d0",
   "metadata": {},
   "source": [
    "### 7) co jest ternarny opertator? \n",
    "Ternarny operator to jest zwykly `if` w jedyn wierz dla wiekszej czytelnosci kodu:"
   ]
  },
  {
   "cell_type": "code",
   "execution_count": 51,
   "id": "5867832e",
   "metadata": {},
   "outputs": [
    {
     "data": {
      "text/plain": [
       "1"
      ]
     },
     "execution_count": 51,
     "metadata": {},
     "output_type": "execute_result"
    }
   ],
   "source": [
    "age = 5\n",
    "\n",
    "result = 1 if age > 0 else 0\n",
    "result"
   ]
  },
  {
   "cell_type": "markdown",
   "id": "84113b3a",
   "metadata": {},
   "source": [
    "### 8) Kopiowanie w Pytnonie , jakie sa roznice miedzy nimi\n",
    "w Pythonie sa dwa rodzaje kopiowania:\n",
    "Wbudowany moduł copy – import copy\n",
    "* `copy.copy()` – płytkie kopiowanie, lub za pomoca `slice[:]`\n",
    "* `copy.deepcopy()` – głębokie kopiowanie, kiedy mamy zagnieżdżone sekwencje (naprzyklad lista list)"
   ]
  },
  {
   "cell_type": "code",
   "execution_count": 60,
   "id": "a6ba6c40",
   "metadata": {},
   "outputs": [
    {
     "name": "stdout",
     "output_type": "stream",
     "text": [
      "False\n",
      "True\n",
      "False\n"
     ]
    }
   ],
   "source": [
    "import copy\n",
    "\n",
    "list1 = [1,3,4]\n",
    "\n",
    "# False , tak jak funkcja copy.copy stworzyla nowa komorke w pamiecji \n",
    "print(list1 is copy.copy(list1)) \n",
    "\n",
    "#True , tak jak funkcja copy dla zewnetrznych elementow nie robi kopiowanie\n",
    "print(list1[0] is copy.copy(list1)[0]) \n",
    "\n",
    "#False, dla kazdego elementu listy bedzie stworzona nowa komorke w pamieci\n",
    "print(list[0] is copy.deepcopy(list1)[0])"
   ]
  },
  {
   "cell_type": "markdown",
   "id": "d5e3b102",
   "metadata": {},
   "source": [
    "# big o notation"
   ]
  },
  {
   "cell_type": "code",
   "execution_count": null,
   "id": "fbc16bd0",
   "metadata": {},
   "outputs": [],
   "source": []
  }
 ],
 "metadata": {
  "kernelspec": {
   "display_name": "Python 3 (ipykernel)",
   "language": "python",
   "name": "python3"
  },
  "language_info": {
   "codemirror_mode": {
    "name": "ipython",
    "version": 3
   },
   "file_extension": ".py",
   "mimetype": "text/x-python",
   "name": "python",
   "nbconvert_exporter": "python",
   "pygments_lexer": "ipython3",
   "version": "3.9.12"
  }
 },
 "nbformat": 4,
 "nbformat_minor": 5
}
