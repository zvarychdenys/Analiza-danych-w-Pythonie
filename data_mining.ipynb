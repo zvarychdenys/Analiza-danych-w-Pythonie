{
 "cells": [
  {
   "cell_type": "markdown",
   "id": "913db804",
   "metadata": {},
   "source": [
    "# Pozyskiwanie , przetwarzanie i przechowywanie danych\n",
    "___"
   ]
  },
  {
   "cell_type": "markdown",
   "id": "e7c9d507",
   "metadata": {},
   "source": [
    "### Odczyt i zapis plikow CSV za pomoca NumPy\n",
    "___\n",
    "* `genfromtxt()` - pozwala na odczytywanie danych\n",
    "> **Atrybuty:**\n",
    "> * `fname` - (*przyjmuje lancuch znakow*); nazwa pliku lub sziezka do pliku\n",
    "> * `delimiter` - (*przyjmuje lancuch znakow*); wartosc rozdzilajace lancuch znakow\n",
    "> * `skip_header` - (*przyjmuje liczbe calkowita*); parametr okreslajacy liczbe wierszy, ktorze chcesz pominac na poczatki pliku\n",
    "\n",
    "* `savetxt()` - pozwala zapisac dane do pliku"
   ]
  },
  {
   "cell_type": "markdown",
   "id": "6a22ee0e",
   "metadata": {},
   "source": [
    "##### Oczyt pliku za pomoca funkcji `genfromtxt ()`"
   ]
  },
  {
   "cell_type": "code",
   "execution_count": 16,
   "id": "7cbd9a7b",
   "metadata": {},
   "outputs": [
    {
     "name": "stdout",
     "output_type": "stream",
     "text": [
      "[[14. 32. 33.]\n",
      " [24. 45. 26.]\n",
      " [27. 38. 39.]]\n"
     ]
    }
   ],
   "source": [
    "#importuje funkjce genfromtxt\n",
    "from numpy import genfromtxt\n",
    "\n",
    "#odczytuje plik csv\n",
    "product_data = genfromtxt('data/csv/demo.csv', delimiter = ',')\n",
    "print(product_data)"
   ]
  },
  {
   "cell_type": "markdown",
   "id": "0fe9400b",
   "metadata": {},
   "source": [
    "##### Zapis pliku za pomoca funkcji `savetxt()`"
   ]
  },
  {
   "cell_type": "code",
   "execution_count": 15,
   "id": "8181a848",
   "metadata": {},
   "outputs": [],
   "source": [
    "import numpy as np\n",
    "\n",
    "#tworze przykladowe dane\n",
    "sample_array = np.array([ [3,4,5], [6,7,8,], [9,10,11] ])\n",
    "\n",
    "#zapisuje dane\n",
    "np.savetxt(\"data/csv/my_first_demo.csv\",sample_array, delimiter= ',')"
   ]
  },
  {
   "cell_type": "markdown",
   "id": "2b65cce7",
   "metadata": {},
   "source": [
    "### Odczyt i zapis plikow CSV za pomoca Pandas\n",
    "___\n",
    "* `read_csv()`- sluzy do odczyty plikow csv\n",
    "> **Atrybuty:**\n",
    "> * `filepath_or_buffer` - sciezka odczytywanego pliku lub jego adres URL\n",
    "> * `sep` - wyznacza sepataror w lancuchu znakow. Domyslnym jest ','\n",
    "> * `header` - sluzy do rozpoznawania nazw kolumn. Domyslna wartosc infer\n",
    "> * `names` - moge tu wprowadzic liste nazw kolumn. Domyslna wartosc None\n",
    "* `to_csv()`- sluzy do zapisu plika csv\n",
    "> **Atrybuty:**\n",
    "> * `path_or_buf` - sciezka pliku lub lokacje dok ktroteg plik bedzie eksportowany\n",
    "> * `sep` - separator plikow wejscowych\n",
    "> * `header` - pozwala umieszczac nazwy kolumn. Domyslna wartosc True\n",
    "> * `index` - zapisuje indeks do pliku. Domyslna wartosc True"
   ]
  },
  {
   "cell_type": "markdown",
   "id": "67f5d767",
   "metadata": {},
   "source": [
    "##### Oczyt pliku za pomoca funkcji `pd.read_csv ()`"
   ]
  },
  {
   "cell_type": "code",
   "execution_count": 36,
   "id": "98002571",
   "metadata": {},
   "outputs": [
    {
     "data": {
      "text/html": [
       "<div>\n",
       "<style scoped>\n",
       "    .dataframe tbody tr th:only-of-type {\n",
       "        vertical-align: middle;\n",
       "    }\n",
       "\n",
       "    .dataframe tbody tr th {\n",
       "        vertical-align: top;\n",
       "    }\n",
       "\n",
       "    .dataframe thead th {\n",
       "        text-align: right;\n",
       "    }\n",
       "</style>\n",
       "<table border=\"1\" class=\"dataframe\">\n",
       "  <thead>\n",
       "    <tr style=\"text-align: right;\">\n",
       "      <th></th>\n",
       "      <th>0</th>\n",
       "      <th>1</th>\n",
       "      <th>2</th>\n",
       "    </tr>\n",
       "  </thead>\n",
       "  <tbody>\n",
       "    <tr>\n",
       "      <th>0</th>\n",
       "      <td>14</td>\n",
       "      <td>32</td>\n",
       "      <td>33</td>\n",
       "    </tr>\n",
       "    <tr>\n",
       "      <th>1</th>\n",
       "      <td>24</td>\n",
       "      <td>45</td>\n",
       "      <td>26</td>\n",
       "    </tr>\n",
       "    <tr>\n",
       "      <th>2</th>\n",
       "      <td>27</td>\n",
       "      <td>38</td>\n",
       "      <td>39</td>\n",
       "    </tr>\n",
       "  </tbody>\n",
       "</table>\n",
       "</div>"
      ],
      "text/plain": [
       "    0   1   2\n",
       "0  14  32  33\n",
       "1  24  45  26\n",
       "2  27  38  39"
      ]
     },
     "execution_count": 36,
     "metadata": {},
     "output_type": "execute_result"
    }
   ],
   "source": [
    "import pandas as pd\n",
    "\n",
    "sample_df = pd.read_csv('data/csv/demo.csv', sep = ',', header = None)\n",
    "sample_df.head()"
   ]
  },
  {
   "cell_type": "markdown",
   "id": "08fc6d0f",
   "metadata": {},
   "source": [
    "##### Zapis pliku za pomoca funkcji  `to_csv()`"
   ]
  },
  {
   "cell_type": "code",
   "execution_count": 26,
   "id": "088b1991",
   "metadata": {},
   "outputs": [],
   "source": [
    "# Zapisuje obiekt DataFrame w pliku csv\n",
    "sample_df.to_csv('data/csv/demo_sample_df.csv')"
   ]
  },
  {
   "cell_type": "markdown",
   "id": "a75591ec",
   "metadata": {},
   "source": [
    "### Odczyt i zapis plikow arkusz kalkulacyjnego Excel\n",
    "____\n",
    "* `pd.read_exce()` - sluzy do otrzytania odczytania Excela \n",
    "* `df.to_excel()`- sluzy do zapisywanie pliku do Excela\n",
    "> Atrybut:\n",
    "> `sheet_name()`- nazwa akrusza"
   ]
  },
  {
   "cell_type": "markdown",
   "id": "6ba3a5e0",
   "metadata": {},
   "source": [
    " ##### Oczyt pliku za pomoca funkcji `pd.read_excel()`"
   ]
  },
  {
   "cell_type": "code",
   "execution_count": 33,
   "id": "26951a0a",
   "metadata": {},
   "outputs": [
    {
     "data": {
      "text/html": [
       "<div>\n",
       "<style scoped>\n",
       "    .dataframe tbody tr th:only-of-type {\n",
       "        vertical-align: middle;\n",
       "    }\n",
       "\n",
       "    .dataframe tbody tr th {\n",
       "        vertical-align: top;\n",
       "    }\n",
       "\n",
       "    .dataframe thead th {\n",
       "        text-align: right;\n",
       "    }\n",
       "</style>\n",
       "<table border=\"1\" class=\"dataframe\">\n",
       "  <thead>\n",
       "    <tr style=\"text-align: right;\">\n",
       "      <th></th>\n",
       "      <th>name</th>\n",
       "      <th>performance_score</th>\n",
       "    </tr>\n",
       "  </thead>\n",
       "  <tbody>\n",
       "    <tr>\n",
       "      <th>0</th>\n",
       "      <td>Allen Smith</td>\n",
       "      <td>723</td>\n",
       "    </tr>\n",
       "    <tr>\n",
       "      <th>1</th>\n",
       "      <td>S Kumar</td>\n",
       "      <td>520</td>\n",
       "    </tr>\n",
       "    <tr>\n",
       "      <th>2</th>\n",
       "      <td>Jack Morgan</td>\n",
       "      <td>674</td>\n",
       "    </tr>\n",
       "    <tr>\n",
       "      <th>3</th>\n",
       "      <td>Ying Chin</td>\n",
       "      <td>556</td>\n",
       "    </tr>\n",
       "    <tr>\n",
       "      <th>4</th>\n",
       "      <td>Dheeraj Patel</td>\n",
       "      <td>711</td>\n",
       "    </tr>\n",
       "  </tbody>\n",
       "</table>\n",
       "</div>"
      ],
      "text/plain": [
       "            name  performance_score\n",
       "0    Allen Smith                723\n",
       "1        S Kumar                520\n",
       "2    Jack Morgan                674\n",
       "3      Ying Chin                556\n",
       "4  Dheeraj Patel                711"
      ]
     },
     "execution_count": 33,
     "metadata": {},
     "output_type": "execute_result"
    }
   ],
   "source": [
    "import pandas as pd\n",
    "\n",
    "df = pd.read_excel('data/excel/employee.xlsx', sheet_name = 'performance')\n",
    "df.head()"
   ]
  },
  {
   "cell_type": "markdown",
   "id": "30260b44",
   "metadata": {},
   "source": [
    "##### Zapis pliku za pomoca funkcji  `to_excel()`"
   ]
  },
  {
   "cell_type": "code",
   "execution_count": 37,
   "id": "2cd4e218",
   "metadata": {},
   "outputs": [],
   "source": [
    "df.to_excel('data/excel/employee_performance.xlsx')"
   ]
  },
  {
   "cell_type": "markdown",
   "id": "bb238507",
   "metadata": {},
   "source": [
    "##### Mozemy takze zapisac wieksza liczbe obiektow DataFrame w jednym pliku Excela (kazda ramka danych w osobobym akruszu) za pomoca funkcji `with pd.ExcelWriter(\"file\") as writer:`"
   ]
  },
  {
   "cell_type": "code",
   "execution_count": 50,
   "id": "4e01abf4",
   "metadata": {},
   "outputs": [],
   "source": [
    "emp_df = pd.read_excel('data/excel/employee.xlsx', sheet_name = 'employee_details')\n",
    "emp_df.head()\n",
    "\n",
    "with pd.ExcelWriter('data/excel/new_employee_details.xlsx') as writer:\n",
    "    emp_df.to_excel(writer,sheet_name = 'employee')\n",
    "    df.to_excel(writer, sheet_name = 'performance')"
   ]
  },
  {
   "cell_type": "markdown",
   "id": "0d70f3e5",
   "metadata": {},
   "source": [
    "### Odczyt i zapis plikow JSON\n",
    "___\n",
    "**JSON(ang. JavaScript Object Notation)** - stanowi format wymiany danych pomiedzy aplikacjami siecowymi a serwerami.\n",
    "\n",
    "* `pd_read_json()`- sluzy do otczytania plikow w formacie json\n",
    "* `to_json()` - sluzy do zapisywania plikow w formacie json"
   ]
  },
  {
   "cell_type": "markdown",
   "id": "c028f96b",
   "metadata": {},
   "source": [
    " ##### Oczyt pliku za pomoca funkcji `pd.read_json()`"
   ]
  },
  {
   "cell_type": "code",
   "execution_count": 15,
   "id": "6b7599ad",
   "metadata": {},
   "outputs": [
    {
     "data": {
      "text/html": [
       "<div>\n",
       "<style scoped>\n",
       "    .dataframe tbody tr th:only-of-type {\n",
       "        vertical-align: middle;\n",
       "    }\n",
       "\n",
       "    .dataframe tbody tr th {\n",
       "        vertical-align: top;\n",
       "    }\n",
       "\n",
       "    .dataframe thead th {\n",
       "        text-align: right;\n",
       "    }\n",
       "</style>\n",
       "<table border=\"1\" class=\"dataframe\">\n",
       "  <thead>\n",
       "    <tr style=\"text-align: right;\">\n",
       "      <th></th>\n",
       "      <th>name</th>\n",
       "      <th>age</th>\n",
       "      <th>income</th>\n",
       "      <th>gender</th>\n",
       "      <th>department</th>\n",
       "      <th>grade</th>\n",
       "    </tr>\n",
       "  </thead>\n",
       "  <tbody>\n",
       "    <tr>\n",
       "      <th>0</th>\n",
       "      <td>Allen Smith</td>\n",
       "      <td>45.0</td>\n",
       "      <td>NaN</td>\n",
       "      <td>None</td>\n",
       "      <td>Operations</td>\n",
       "      <td>G3</td>\n",
       "    </tr>\n",
       "    <tr>\n",
       "      <th>1</th>\n",
       "      <td>S Kumar</td>\n",
       "      <td>NaN</td>\n",
       "      <td>16000.0</td>\n",
       "      <td>F</td>\n",
       "      <td>Finance</td>\n",
       "      <td>G0</td>\n",
       "    </tr>\n",
       "    <tr>\n",
       "      <th>2</th>\n",
       "      <td>Jack Morgan</td>\n",
       "      <td>32.0</td>\n",
       "      <td>35000.0</td>\n",
       "      <td>M</td>\n",
       "      <td>Finance</td>\n",
       "      <td>G2</td>\n",
       "    </tr>\n",
       "    <tr>\n",
       "      <th>3</th>\n",
       "      <td>Ying Chin</td>\n",
       "      <td>45.0</td>\n",
       "      <td>65000.0</td>\n",
       "      <td>F</td>\n",
       "      <td>Sales</td>\n",
       "      <td>G3</td>\n",
       "    </tr>\n",
       "    <tr>\n",
       "      <th>4</th>\n",
       "      <td>Dheeraj Patel</td>\n",
       "      <td>30.0</td>\n",
       "      <td>42000.0</td>\n",
       "      <td>F</td>\n",
       "      <td>Operations</td>\n",
       "      <td>G2</td>\n",
       "    </tr>\n",
       "  </tbody>\n",
       "</table>\n",
       "</div>"
      ],
      "text/plain": [
       "            name   age   income gender  department grade\n",
       "0    Allen Smith  45.0      NaN   None  Operations    G3\n",
       "1        S Kumar   NaN  16000.0      F     Finance    G0\n",
       "2    Jack Morgan  32.0  35000.0      M     Finance    G2\n",
       "3      Ying Chin  45.0  65000.0      F       Sales    G3\n",
       "4  Dheeraj Patel  30.0  42000.0      F  Operations    G2"
      ]
     },
     "execution_count": 15,
     "metadata": {},
     "output_type": "execute_result"
    }
   ],
   "source": [
    "import pandas as pd\n",
    "\n",
    "df = pd.read_json(\"data/json/employee.json\")\n",
    "df.head()"
   ]
  },
  {
   "cell_type": "markdown",
   "id": "769324b4",
   "metadata": {},
   "source": [
    "##### Zapis pliku za pomoca funkcji  `to_json()`"
   ]
  },
  {
   "cell_type": "code",
   "execution_count": 13,
   "id": "61ba1cd5",
   "metadata": {},
   "outputs": [],
   "source": [
    "# Zapisuje file w formacie json , jako obiekt DataFrame\n",
    "df.to_json(\"data/json/employee_demo.json\", orient= \"columns\")"
   ]
  },
  {
   "cell_type": "markdown",
   "id": "fd75950c",
   "metadata": {},
   "source": [
    "### Odczyt i zapis plikow HDF5\n",
    "___\n",
    "Skrot *HDF* oznacza **hierarchiczny format danych**. Cechuje ten format duza przepustowosc wejscia/wyjscia, mozliwosc przechowywania heterogenicznych danych.\n",
    "* `pd.read_hdf()` - odczyt plikow hdf5\n",
    "* `to_hdf()`- zapis plikow hdf5"
   ]
  },
  {
   "cell_type": "markdown",
   "id": "4731ef6d",
   "metadata": {},
   "source": [
    "##### Zapis pliku hdf5 \n",
    "* `'table'`- sluzy do wyznaczania formatu tabelarycznego. Format tem moze byc wolnejszy ale gwarantuje wieksze mozliwosc np. wyszukiwanie i wybieranie. \n",
    "* `append = True` - umozliwia dolaczenia wprowadzonych danych juz do istniejacego pliku"
   ]
  },
  {
   "cell_type": "code",
   "execution_count": 17,
   "id": "273e55c4",
   "metadata": {},
   "outputs": [],
   "source": [
    "#Zapisuje obiekt DataFrame w pliku hdf5\n",
    "df.to_hdf(\"data/hdf5/employee.h5\", 'table', append = True)"
   ]
  },
  {
   "cell_type": "markdown",
   "id": "81cea974",
   "metadata": {},
   "source": [
    "##### Odczyt pliku hdf5"
   ]
  },
  {
   "cell_type": "code",
   "execution_count": 22,
   "id": "fbc45807",
   "metadata": {},
   "outputs": [
    {
     "data": {
      "text/html": [
       "<div>\n",
       "<style scoped>\n",
       "    .dataframe tbody tr th:only-of-type {\n",
       "        vertical-align: middle;\n",
       "    }\n",
       "\n",
       "    .dataframe tbody tr th {\n",
       "        vertical-align: top;\n",
       "    }\n",
       "\n",
       "    .dataframe thead th {\n",
       "        text-align: right;\n",
       "    }\n",
       "</style>\n",
       "<table border=\"1\" class=\"dataframe\">\n",
       "  <thead>\n",
       "    <tr style=\"text-align: right;\">\n",
       "      <th></th>\n",
       "      <th>name</th>\n",
       "      <th>age</th>\n",
       "      <th>income</th>\n",
       "      <th>gender</th>\n",
       "      <th>department</th>\n",
       "      <th>grade</th>\n",
       "    </tr>\n",
       "  </thead>\n",
       "  <tbody>\n",
       "    <tr>\n",
       "      <th>0</th>\n",
       "      <td>Allen Smith</td>\n",
       "      <td>45.0</td>\n",
       "      <td>NaN</td>\n",
       "      <td>NaN</td>\n",
       "      <td>Operations</td>\n",
       "      <td>G3</td>\n",
       "    </tr>\n",
       "    <tr>\n",
       "      <th>1</th>\n",
       "      <td>S Kumar</td>\n",
       "      <td>NaN</td>\n",
       "      <td>16000.0</td>\n",
       "      <td>F</td>\n",
       "      <td>Finance</td>\n",
       "      <td>G0</td>\n",
       "    </tr>\n",
       "    <tr>\n",
       "      <th>2</th>\n",
       "      <td>Jack Morgan</td>\n",
       "      <td>32.0</td>\n",
       "      <td>35000.0</td>\n",
       "      <td>M</td>\n",
       "      <td>Finance</td>\n",
       "      <td>G2</td>\n",
       "    </tr>\n",
       "    <tr>\n",
       "      <th>3</th>\n",
       "      <td>Ying Chin</td>\n",
       "      <td>45.0</td>\n",
       "      <td>65000.0</td>\n",
       "      <td>F</td>\n",
       "      <td>Sales</td>\n",
       "      <td>G3</td>\n",
       "    </tr>\n",
       "    <tr>\n",
       "      <th>4</th>\n",
       "      <td>Dheeraj Patel</td>\n",
       "      <td>30.0</td>\n",
       "      <td>42000.0</td>\n",
       "      <td>F</td>\n",
       "      <td>Operations</td>\n",
       "      <td>G2</td>\n",
       "    </tr>\n",
       "  </tbody>\n",
       "</table>\n",
       "</div>"
      ],
      "text/plain": [
       "            name   age   income gender  department grade\n",
       "0    Allen Smith  45.0      NaN    NaN  Operations    G3\n",
       "1        S Kumar   NaN  16000.0      F     Finance    G0\n",
       "2    Jack Morgan  32.0  35000.0      M     Finance    G2\n",
       "3      Ying Chin  45.0  65000.0      F       Sales    G3\n",
       "4  Dheeraj Patel  30.0  42000.0      F  Operations    G2"
      ]
     },
     "execution_count": 22,
     "metadata": {},
     "output_type": "execute_result"
    }
   ],
   "source": [
    "df = pd.read_hdf(\"data/hdf5/employee.h5\", 'table')\n",
    "df.head()"
   ]
  },
  {
   "cell_type": "markdown",
   "id": "0fcd3316",
   "metadata": {},
   "source": [
    "### Odczyt i zapis danych z table HTML-a\n",
    "___\n",
    "* `read_html()` - odczytuje table HTML z pliku lub adresu URL i zwraca tabele HTML-a w formie listy obiektow DataFrame"
   ]
  },
  {
   "cell_type": "code",
   "execution_count": 30,
   "id": "e7ee1c76",
   "metadata": {},
   "outputs": [
    {
     "name": "stdout",
     "output_type": "stream",
     "text": [
      "Liczba ramek:  {8}\n"
     ]
    },
    {
     "data": {
      "text/html": [
       "<div>\n",
       "<style scoped>\n",
       "    .dataframe tbody tr th:only-of-type {\n",
       "        vertical-align: middle;\n",
       "    }\n",
       "\n",
       "    .dataframe tbody tr th {\n",
       "        vertical-align: top;\n",
       "    }\n",
       "\n",
       "    .dataframe thead th {\n",
       "        text-align: right;\n",
       "    }\n",
       "</style>\n",
       "<table border=\"1\" class=\"dataframe\">\n",
       "  <thead>\n",
       "    <tr style=\"text-align: right;\">\n",
       "      <th></th>\n",
       "      <th>Flag</th>\n",
       "      <th>English short name</th>\n",
       "      <th>English long name</th>\n",
       "      <th>Domestic short name(s)</th>\n",
       "      <th>Capital</th>\n",
       "      <th>Currency</th>\n",
       "      <th>Population</th>\n",
       "    </tr>\n",
       "  </thead>\n",
       "  <tbody>\n",
       "    <tr>\n",
       "      <th>0</th>\n",
       "      <td>NaN</td>\n",
       "      <td>Antigua and Barbuda[n 1]</td>\n",
       "      <td>Antigua and Barbuda</td>\n",
       "      <td>English: Antigua and Barbuda</td>\n",
       "      <td>St. John's</td>\n",
       "      <td>East Caribbean dollar</td>\n",
       "      <td>97118</td>\n",
       "    </tr>\n",
       "    <tr>\n",
       "      <th>1</th>\n",
       "      <td>NaN</td>\n",
       "      <td>Bahamas, The[n 1]</td>\n",
       "      <td>Commonwealth of The Bahamas</td>\n",
       "      <td>English: Bahamas</td>\n",
       "      <td>Nassau</td>\n",
       "      <td>Bahamian dollar</td>\n",
       "      <td>389482</td>\n",
       "    </tr>\n",
       "    <tr>\n",
       "      <th>2</th>\n",
       "      <td>NaN</td>\n",
       "      <td>Barbados[n 1]</td>\n",
       "      <td>Barbados</td>\n",
       "      <td>English: Barbados</td>\n",
       "      <td>Bridgetown</td>\n",
       "      <td>Barbadian dollar</td>\n",
       "      <td>287025</td>\n",
       "    </tr>\n",
       "    <tr>\n",
       "      <th>3</th>\n",
       "      <td>NaN</td>\n",
       "      <td>Belize[n 1][n 2]</td>\n",
       "      <td>Belize</td>\n",
       "      <td>English: Belize</td>\n",
       "      <td>Belmopan</td>\n",
       "      <td>Belize dollar</td>\n",
       "      <td>390353</td>\n",
       "    </tr>\n",
       "    <tr>\n",
       "      <th>4</th>\n",
       "      <td>NaN</td>\n",
       "      <td>Canada[n 3]</td>\n",
       "      <td>Canada</td>\n",
       "      <td>English: CanadaFrench: Canada</td>\n",
       "      <td>Ottawa</td>\n",
       "      <td>Canadian dollar</td>\n",
       "      <td>35151728</td>\n",
       "    </tr>\n",
       "  </tbody>\n",
       "</table>\n",
       "</div>"
      ],
      "text/plain": [
       "   Flag        English short name            English long name  \\\n",
       "0   NaN  Antigua and Barbuda[n 1]          Antigua and Barbuda   \n",
       "1   NaN         Bahamas, The[n 1]  Commonwealth of The Bahamas   \n",
       "2   NaN             Barbados[n 1]                     Barbados   \n",
       "3   NaN          Belize[n 1][n 2]                       Belize   \n",
       "4   NaN               Canada[n 3]                       Canada   \n",
       "\n",
       "          Domestic short name(s)     Capital               Currency  \\\n",
       "0   English: Antigua and Barbuda  St. John's  East Caribbean dollar   \n",
       "1               English: Bahamas      Nassau        Bahamian dollar   \n",
       "2              English: Barbados  Bridgetown       Barbadian dollar   \n",
       "3                English: Belize    Belmopan          Belize dollar   \n",
       "4  English: CanadaFrench: Canada      Ottawa        Canadian dollar   \n",
       "\n",
       "   Population  \n",
       "0       97118  \n",
       "1      389482  \n",
       "2      287025  \n",
       "3      390353  \n",
       "4    35151728  "
      ]
     },
     "execution_count": 30,
     "metadata": {},
     "output_type": "execute_result"
    }
   ],
   "source": [
    "table_url = 'https://en.wikipedia.org/wiki/List_of_sovereign_states_and_dependent_territories_in_North_America'\n",
    "dr_list = pd.read_html(table_url)\n",
    "\n",
    "#Wypisuje ile wogole jest tablic na danej stonie internetowej\n",
    "print(f\"Liczba ramek: \",{len(dr_list)})\n",
    "\n",
    "#wypisuje pierwsza tablice\n",
    "dr_list[0].head()"
   ]
  },
  {
   "cell_type": "code",
   "execution_count": 32,
   "id": "5b4a92dc",
   "metadata": {},
   "outputs": [],
   "source": [
    "##### Zapis obiektu DataFrame w formacie html\n",
    "dr_list[1].to_html('data/html/country.html')"
   ]
  },
  {
   "cell_type": "markdown",
   "id": "1e344a94",
   "metadata": {},
   "source": [
    "### Opis i zapis plikow Parquent\n",
    "___\n",
    "format pliku Parquent umozliwia kolumnowa serializajce obiektow DataFrame, pozwala na wyjadne odczytywanie i zapisywanie ramek danych.\n",
    "* `pd.read_parquent()` i silinik `pyarrow`- sluzy do odczytywania pliku parquent\n",
    "* `df.to_parquent()` i silinik `pyarrow`- sluzy do zapisywanie pliku parquent"
   ]
  },
  {
   "cell_type": "markdown",
   "id": "eaf478e6",
   "metadata": {},
   "source": [
    "#####  Odczyt pliku parquent za pomoca funkcji `pd.read_parquent()` i silnika `pyarrow`"
   ]
  },
  {
   "cell_type": "code",
   "execution_count": 1,
   "id": "121e3703",
   "metadata": {},
   "outputs": [
    {
     "data": {
      "text/html": [
       "<div>\n",
       "<style scoped>\n",
       "    .dataframe tbody tr th:only-of-type {\n",
       "        vertical-align: middle;\n",
       "    }\n",
       "\n",
       "    .dataframe tbody tr th {\n",
       "        vertical-align: top;\n",
       "    }\n",
       "\n",
       "    .dataframe thead th {\n",
       "        text-align: right;\n",
       "    }\n",
       "</style>\n",
       "<table border=\"1\" class=\"dataframe\">\n",
       "  <thead>\n",
       "    <tr style=\"text-align: right;\">\n",
       "      <th></th>\n",
       "      <th>name</th>\n",
       "      <th>age</th>\n",
       "      <th>income</th>\n",
       "      <th>gender</th>\n",
       "      <th>department</th>\n",
       "      <th>grade</th>\n",
       "    </tr>\n",
       "  </thead>\n",
       "  <tbody>\n",
       "    <tr>\n",
       "      <th>0</th>\n",
       "      <td>Allen Smith</td>\n",
       "      <td>45.0</td>\n",
       "      <td>NaN</td>\n",
       "      <td>None</td>\n",
       "      <td>Operations</td>\n",
       "      <td>G3</td>\n",
       "    </tr>\n",
       "    <tr>\n",
       "      <th>1</th>\n",
       "      <td>S Kumar</td>\n",
       "      <td>NaN</td>\n",
       "      <td>16000.0</td>\n",
       "      <td>F</td>\n",
       "      <td>Finance</td>\n",
       "      <td>G0</td>\n",
       "    </tr>\n",
       "    <tr>\n",
       "      <th>2</th>\n",
       "      <td>Jack Morgan</td>\n",
       "      <td>32.0</td>\n",
       "      <td>35000.0</td>\n",
       "      <td>M</td>\n",
       "      <td>Finance</td>\n",
       "      <td>G2</td>\n",
       "    </tr>\n",
       "    <tr>\n",
       "      <th>3</th>\n",
       "      <td>Ying Chin</td>\n",
       "      <td>45.0</td>\n",
       "      <td>65000.0</td>\n",
       "      <td>F</td>\n",
       "      <td>Sales</td>\n",
       "      <td>G3</td>\n",
       "    </tr>\n",
       "    <tr>\n",
       "      <th>4</th>\n",
       "      <td>Dheeraj Patel</td>\n",
       "      <td>30.0</td>\n",
       "      <td>42000.0</td>\n",
       "      <td>F</td>\n",
       "      <td>Operations</td>\n",
       "      <td>G2</td>\n",
       "    </tr>\n",
       "  </tbody>\n",
       "</table>\n",
       "</div>"
      ],
      "text/plain": [
       "            name   age   income gender  department grade\n",
       "0    Allen Smith  45.0      NaN   None  Operations    G3\n",
       "1        S Kumar   NaN  16000.0      F     Finance    G0\n",
       "2    Jack Morgan  32.0  35000.0      M     Finance    G2\n",
       "3      Ying Chin  45.0  65000.0      F       Sales    G3\n",
       "4  Dheeraj Patel  30.0  42000.0      F  Operations    G2"
      ]
     },
     "execution_count": 1,
     "metadata": {},
     "output_type": "execute_result"
    }
   ],
   "source": [
    "import pandas as pd\n",
    "\n",
    "data = pd.read_parquet(\"data/employee.parquet\", engine = \"pyarrow\")\n",
    "data.head()"
   ]
  },
  {
   "cell_type": "markdown",
   "id": "e435e2f2",
   "metadata": {},
   "source": [
    "##### Zapis pliku parquent za pomoca funkcji pd.read_parquent() i silnika pyarrow"
   ]
  },
  {
   "cell_type": "code",
   "execution_count": 2,
   "id": "cdf02783",
   "metadata": {},
   "outputs": [],
   "source": [
    "data.to_parquet(\"data/employee.parquet\", engine = 'pyarrow')"
   ]
  },
  {
   "cell_type": "markdown",
   "id": "17183368",
   "metadata": {},
   "source": [
    "### Odczyt i zapis plikow w formacie pickle\n",
    "___\n",
    "Biblioteka pandas zawiera dwie funkjci dla formaty pickle:\n",
    "* `pd.read_pickle` - odczyt pliku w formacie pickle\n",
    "* `to_pickle` - zapis pliku w formacie pickle"
   ]
  },
  {
   "cell_type": "markdown",
   "id": "e592158c",
   "metadata": {},
   "source": [
    "##### Odczyt pliku pickle"
   ]
  },
  {
   "cell_type": "code",
   "execution_count": 7,
   "id": "14158c06",
   "metadata": {},
   "outputs": [
    {
     "data": {
      "text/html": [
       "<div>\n",
       "<style scoped>\n",
       "    .dataframe tbody tr th:only-of-type {\n",
       "        vertical-align: middle;\n",
       "    }\n",
       "\n",
       "    .dataframe tbody tr th {\n",
       "        vertical-align: top;\n",
       "    }\n",
       "\n",
       "    .dataframe thead th {\n",
       "        text-align: right;\n",
       "    }\n",
       "</style>\n",
       "<table border=\"1\" class=\"dataframe\">\n",
       "  <thead>\n",
       "    <tr style=\"text-align: right;\">\n",
       "      <th></th>\n",
       "      <th>0</th>\n",
       "      <th>1</th>\n",
       "      <th>2</th>\n",
       "    </tr>\n",
       "  </thead>\n",
       "  <tbody>\n",
       "    <tr>\n",
       "      <th>0</th>\n",
       "      <td>14</td>\n",
       "      <td>32</td>\n",
       "      <td>33</td>\n",
       "    </tr>\n",
       "    <tr>\n",
       "      <th>1</th>\n",
       "      <td>24</td>\n",
       "      <td>45</td>\n",
       "      <td>26</td>\n",
       "    </tr>\n",
       "    <tr>\n",
       "      <th>2</th>\n",
       "      <td>27</td>\n",
       "      <td>38</td>\n",
       "      <td>39</td>\n",
       "    </tr>\n",
       "  </tbody>\n",
       "</table>\n",
       "</div>"
      ],
      "text/plain": [
       "    0   1   2\n",
       "0  14  32  33\n",
       "1  24  45  26\n",
       "2  27  38  39"
      ]
     },
     "execution_count": 7,
     "metadata": {},
     "output_type": "execute_result"
    }
   ],
   "source": [
    "import pandas as pd\n",
    "\n",
    "df = pd.read_pickle(\"data/pickle/demo_obj.pkl\")\n",
    "df.head()"
   ]
  },
  {
   "cell_type": "markdown",
   "id": "f2e87c5b",
   "metadata": {},
   "source": [
    "##### Zapis pliku pickle"
   ]
  },
  {
   "cell_type": "code",
   "execution_count": 9,
   "id": "50358707",
   "metadata": {},
   "outputs": [],
   "source": [
    "df.to_pickle(\"data/pickle/demo_obj.pkl\")"
   ]
  },
  {
   "cell_type": "markdown",
   "id": "57a4bb4e",
   "metadata": {},
   "source": [
    "#### Latwty dostep do danych za pomoca modulu sqlite3\n",
    "___\n",
    "SQLite jest otwartym silnikiem bazodanowym. jest to najpopularniejszy typ bazy danych. Dzieki modulu `sqlite3` moge przechowywac baze danych w pliku lub w pamieci RAM. Mam takze mozliwosc zapisywania danych w dowolnej bazie danych wykorzystujacej jezyk SQL, bez koniecznosci uzywania osobnego serwera aplikacji bazodanowej. "
   ]
  },
  {
   "cell_type": "code",
   "execution_count": 35,
   "id": "794ce6e6",
   "metadata": {},
   "outputs": [
    {
     "data": {
      "text/plain": [
       "<sqlite3.Cursor at 0x7f99b481e8f0>"
      ]
     },
     "execution_count": 35,
     "metadata": {},
     "output_type": "execute_result"
    }
   ],
   "source": [
    "#imporuje modul \n",
    "import sqlite3\n",
    "\n",
    "#tworze polaczenia z baza danych pracownikow. Jezeli baza danych nie istnieje, to zostanie utworzona.\n",
    "conn = sqlite3.connect(\"data/employeee.db\")\n",
    "\n",
    "#tworzy kursor\n",
    "cur = conn.cursor()\n",
    "\n",
    "#realizuje kwerende SQL i tworze tabele bazodanowo:\n",
    "cur.execute(\"create table emp(eid int, salary int)\")"
   ]
  },
  {
   "cell_type": "code",
   "execution_count": 36,
   "id": "7a725b84",
   "metadata": {},
   "outputs": [
    {
     "data": {
      "text/plain": [
       "<sqlite3.Cursor at 0x7f99b481e8f0>"
      ]
     },
     "execution_count": 36,
     "metadata": {},
     "output_type": "execute_result"
    }
   ],
   "source": [
    "#realizuje kwerende SQL i zapisuje dane w bazie danych:\n",
    "cur.execute(\"insert into emp values(104, 57001)\")"
   ]
  },
  {
   "cell_type": "code",
   "execution_count": 37,
   "id": "0798093b",
   "metadata": {},
   "outputs": [],
   "source": [
    "# wprzeprowadzam transakcje\n",
    "conn.commit()"
   ]
  },
  {
   "cell_type": "code",
   "execution_count": 38,
   "id": "fd8e8537",
   "metadata": {},
   "outputs": [
    {
     "data": {
      "text/plain": [
       "<sqlite3.Cursor at 0x7f99b481e8f0>"
      ]
     },
     "execution_count": 38,
     "metadata": {},
     "output_type": "execute_result"
    }
   ],
   "source": [
    "# Realizuje kwerende SQL i odczytyje dane:\n",
    "cur.execute(\"select * from emp\")"
   ]
  },
  {
   "cell_type": "code",
   "execution_count": 39,
   "id": "7ff62bff",
   "metadata": {},
   "outputs": [
    {
     "name": "stdout",
     "output_type": "stream",
     "text": [
      "[(104, 57001)]\n"
     ]
    }
   ],
   "source": [
    "# Pobiera rekordy\n",
    "print(cur.fetchall())"
   ]
  },
  {
   "cell_type": "code",
   "execution_count": 40,
   "id": "bb64b209",
   "metadata": {},
   "outputs": [],
   "source": [
    "#Zamyka polacznia bazodanowe\n",
    "conn.close()"
   ]
  },
  {
   "cell_type": "markdown",
   "id": "41e3ef46",
   "metadata": {},
   "source": [
    "\n",
    "> * 1. tworzy polaczenia z baza danych , za pomoca funkjci `sqlite3.connect('nazwa.db\")``, jezeli taka baza nie istnieje to nia tworze \n",
    " > * 2. dalej musze otworzyc obiekt **Cursor** za pomoca funkcji `cursor()` \n",
    " > * 3. za pomoca metody `execute()`realizuje kwerendy SQL-a\n",
    " > * 4. za pomoca metody `commit()` zatwiedzam dabe w bazie danych\n",
    " > * 5. za pomoca metody `tetchall()`  pobieram kwerende\n",
    " > * 6. zamykam polacznenia za pomoca `close()`\n"
   ]
  },
  {
   "cell_type": "markdown",
   "id": "26688e83",
   "metadata": {},
   "source": [
    "### Odczyt i zapis danych w bazie MySQL\n",
    "___\n",
    "klasa `mysql-python`, `mysqlconnector`, `pymysql` - udostepniaja mozliwosc dostepu do danych Pythona z poziomu MySQL-a"
   ]
  },
  {
   "cell_type": "code",
   "execution_count": 23,
   "id": "c928fc1a",
   "metadata": {},
   "outputs": [
    {
     "ename": "OperationalError",
     "evalue": "(2003, \"Can't connect to MySQL server on 'localhost' ([Errno 61] Connection refused)\")",
     "output_type": "error",
     "traceback": [
      "\u001b[0;31m---------------------------------------------------------------------------\u001b[0m",
      "\u001b[0;31mConnectionRefusedError\u001b[0m                    Traceback (most recent call last)",
      "File \u001b[0;32m/opt/anaconda3/lib/python3.9/site-packages/pymysql/connections.py:613\u001b[0m, in \u001b[0;36mConnection.connect\u001b[0;34m(self, sock)\u001b[0m\n\u001b[1;32m    612\u001b[0m \u001b[38;5;28;01mtry\u001b[39;00m:\n\u001b[0;32m--> 613\u001b[0m     sock \u001b[38;5;241m=\u001b[39m \u001b[43msocket\u001b[49m\u001b[38;5;241;43m.\u001b[39;49m\u001b[43mcreate_connection\u001b[49m\u001b[43m(\u001b[49m\n\u001b[1;32m    614\u001b[0m \u001b[43m        \u001b[49m\u001b[43m(\u001b[49m\u001b[38;5;28;43mself\u001b[39;49m\u001b[38;5;241;43m.\u001b[39;49m\u001b[43mhost\u001b[49m\u001b[43m,\u001b[49m\u001b[43m \u001b[49m\u001b[38;5;28;43mself\u001b[39;49m\u001b[38;5;241;43m.\u001b[39;49m\u001b[43mport\u001b[49m\u001b[43m)\u001b[49m\u001b[43m,\u001b[49m\u001b[43m \u001b[49m\u001b[38;5;28;43mself\u001b[39;49m\u001b[38;5;241;43m.\u001b[39;49m\u001b[43mconnect_timeout\u001b[49m\u001b[43m,\u001b[49m\u001b[43m \u001b[49m\u001b[38;5;241;43m*\u001b[39;49m\u001b[38;5;241;43m*\u001b[39;49m\u001b[43mkwargs\u001b[49m\n\u001b[1;32m    615\u001b[0m \u001b[43m    \u001b[49m\u001b[43m)\u001b[49m\n\u001b[1;32m    616\u001b[0m     \u001b[38;5;28;01mbreak\u001b[39;00m\n",
      "File \u001b[0;32m/opt/anaconda3/lib/python3.9/socket.py:844\u001b[0m, in \u001b[0;36mcreate_connection\u001b[0;34m(address, timeout, source_address)\u001b[0m\n\u001b[1;32m    843\u001b[0m \u001b[38;5;28;01mtry\u001b[39;00m:\n\u001b[0;32m--> 844\u001b[0m     \u001b[38;5;28;01mraise\u001b[39;00m err\n\u001b[1;32m    845\u001b[0m \u001b[38;5;28;01mfinally\u001b[39;00m:\n\u001b[1;32m    846\u001b[0m     \u001b[38;5;66;03m# Break explicitly a reference cycle\u001b[39;00m\n",
      "File \u001b[0;32m/opt/anaconda3/lib/python3.9/socket.py:832\u001b[0m, in \u001b[0;36mcreate_connection\u001b[0;34m(address, timeout, source_address)\u001b[0m\n\u001b[1;32m    831\u001b[0m     sock\u001b[38;5;241m.\u001b[39mbind(source_address)\n\u001b[0;32m--> 832\u001b[0m \u001b[43msock\u001b[49m\u001b[38;5;241;43m.\u001b[39;49m\u001b[43mconnect\u001b[49m\u001b[43m(\u001b[49m\u001b[43msa\u001b[49m\u001b[43m)\u001b[49m\n\u001b[1;32m    833\u001b[0m \u001b[38;5;66;03m# Break explicitly a reference cycle\u001b[39;00m\n",
      "\u001b[0;31mConnectionRefusedError\u001b[0m: [Errno 61] Connection refused",
      "\nDuring handling of the above exception, another exception occurred:\n",
      "\u001b[0;31mOperationalError\u001b[0m                          Traceback (most recent call last)",
      "Input \u001b[0;32mIn [23]\u001b[0m, in \u001b[0;36m<cell line: 3>\u001b[0;34m()\u001b[0m\n\u001b[1;32m      1\u001b[0m \u001b[38;5;28;01mimport\u001b[39;00m \u001b[38;5;21;01mpymysql\u001b[39;00m \n\u001b[0;32m----> 3\u001b[0m connection \u001b[38;5;241m=\u001b[39m \u001b[43mpymysql\u001b[49m\u001b[38;5;241;43m.\u001b[39;49m\u001b[43mconnect\u001b[49m\u001b[43m(\u001b[49m\n\u001b[1;32m      4\u001b[0m \u001b[43m    \u001b[49m\u001b[43mhost\u001b[49m\u001b[43m \u001b[49m\u001b[38;5;241;43m=\u001b[39;49m\u001b[43m \u001b[49m\u001b[38;5;124;43m'\u001b[39;49m\u001b[38;5;124;43mlocalhost\u001b[39;49m\u001b[38;5;124;43m'\u001b[39;49m\u001b[43m,\u001b[49m\n\u001b[1;32m      5\u001b[0m \u001b[43m    \u001b[49m\u001b[43muser\u001b[49m\u001b[43m \u001b[49m\u001b[38;5;241;43m=\u001b[39;49m\u001b[43m \u001b[49m\u001b[38;5;124;43m'\u001b[39;49m\u001b[38;5;124;43mroot\u001b[39;49m\u001b[38;5;124;43m'\u001b[39;49m\u001b[43m,\u001b[49m\n\u001b[1;32m      6\u001b[0m \u001b[43m    \u001b[49m\u001b[43mpassword\u001b[49m\u001b[43m \u001b[49m\u001b[38;5;241;43m=\u001b[39;49m\u001b[43m \u001b[49m\u001b[38;5;124;43m'\u001b[39;49m\u001b[38;5;124;43mroot\u001b[39;49m\u001b[38;5;124;43m'\u001b[39;49m\u001b[43m,\u001b[49m\n\u001b[1;32m      7\u001b[0m \u001b[43m    \u001b[49m\u001b[43mdb\u001b[49m\u001b[43m \u001b[49m\u001b[38;5;241;43m=\u001b[39;49m\u001b[43m \u001b[49m\u001b[38;5;124;43m'\u001b[39;49m\u001b[38;5;124;43memp\u001b[39;49m\u001b[38;5;124;43m'\u001b[39;49m\u001b[43m,\u001b[49m\n\u001b[1;32m      8\u001b[0m \u001b[43m    \u001b[49m\u001b[43mcursorclass\u001b[49m\u001b[43m \u001b[49m\u001b[38;5;241;43m=\u001b[39;49m\u001b[43m \u001b[49m\u001b[43mpymysql\u001b[49m\u001b[38;5;241;43m.\u001b[39;49m\u001b[43mcursors\u001b[49m\u001b[38;5;241;43m.\u001b[39;49m\u001b[43mDictCursor\u001b[49m\n\u001b[1;32m      9\u001b[0m \u001b[43m)\u001b[49m\n",
      "File \u001b[0;32m/opt/anaconda3/lib/python3.9/site-packages/pymysql/connections.py:353\u001b[0m, in \u001b[0;36mConnection.__init__\u001b[0;34m(self, user, password, host, database, unix_socket, port, charset, sql_mode, read_default_file, conv, use_unicode, client_flag, cursorclass, init_command, connect_timeout, read_default_group, autocommit, local_infile, max_allowed_packet, defer_connect, auth_plugin_map, read_timeout, write_timeout, bind_address, binary_prefix, program_name, server_public_key, ssl, ssl_ca, ssl_cert, ssl_disabled, ssl_key, ssl_verify_cert, ssl_verify_identity, compress, named_pipe, passwd, db)\u001b[0m\n\u001b[1;32m    351\u001b[0m     \u001b[38;5;28mself\u001b[39m\u001b[38;5;241m.\u001b[39m_sock \u001b[38;5;241m=\u001b[39m \u001b[38;5;28;01mNone\u001b[39;00m\n\u001b[1;32m    352\u001b[0m \u001b[38;5;28;01melse\u001b[39;00m:\n\u001b[0;32m--> 353\u001b[0m     \u001b[38;5;28;43mself\u001b[39;49m\u001b[38;5;241;43m.\u001b[39;49m\u001b[43mconnect\u001b[49m\u001b[43m(\u001b[49m\u001b[43m)\u001b[49m\n",
      "File \u001b[0;32m/opt/anaconda3/lib/python3.9/site-packages/pymysql/connections.py:664\u001b[0m, in \u001b[0;36mConnection.connect\u001b[0;34m(self, sock)\u001b[0m\n\u001b[1;32m    662\u001b[0m     \u001b[38;5;28;01mif\u001b[39;00m DEBUG:\n\u001b[1;32m    663\u001b[0m         \u001b[38;5;28mprint\u001b[39m(exc\u001b[38;5;241m.\u001b[39mtraceback)\n\u001b[0;32m--> 664\u001b[0m     \u001b[38;5;28;01mraise\u001b[39;00m exc\n\u001b[1;32m    666\u001b[0m \u001b[38;5;66;03m# If e is neither DatabaseError or IOError, It's a bug.\u001b[39;00m\n\u001b[1;32m    667\u001b[0m \u001b[38;5;66;03m# But raising AssertionError hides original error.\u001b[39;00m\n\u001b[1;32m    668\u001b[0m \u001b[38;5;66;03m# So just reraise it.\u001b[39;00m\n\u001b[1;32m    669\u001b[0m \u001b[38;5;28;01mraise\u001b[39;00m\n",
      "\u001b[0;31mOperationalError\u001b[0m: (2003, \"Can't connect to MySQL server on 'localhost' ([Errno 61] Connection refused)\")"
     ]
    }
   ],
   "source": [
    "import pymysql \n",
    "\n",
    "connection = pymysql.connect(\n",
    "    host = 'localhost',\n",
    "    user = 'root',\n",
    "    password = 'root',\n",
    "    db = 'emp',\n",
    "    cursorclass = pymysql.cursors.DictCursor\n",
    ")"
   ]
  },
  {
   "cell_type": "markdown",
   "id": "875d14a2",
   "metadata": {},
   "source": [
    "# "
   ]
  }
 ],
 "metadata": {
  "kernelspec": {
   "display_name": "Python 3 (ipykernel)",
   "language": "python",
   "name": "python3"
  },
  "language_info": {
   "codemirror_mode": {
    "name": "ipython",
    "version": 3
   },
   "file_extension": ".py",
   "mimetype": "text/x-python",
   "name": "python",
   "nbconvert_exporter": "python",
   "pygments_lexer": "ipython3",
   "version": "3.9.12"
  }
 },
 "nbformat": 4,
 "nbformat_minor": 5
}
