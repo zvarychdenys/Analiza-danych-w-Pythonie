{
 "cells": [
  {
   "cell_type": "markdown",
   "id": "913db804",
   "metadata": {},
   "source": [
    "# Pozyskiwanie , przetwarzanie i przechowywanie danych\n",
    "___"
   ]
  },
  {
   "cell_type": "markdown",
   "id": "e7c9d507",
   "metadata": {},
   "source": [
    "### Odczyt i zapis plikow CSV za pomoca NumPy\n",
    "___\n",
    "* `genfromtxt()` - pozwala na odczytywanie danych\n",
    "> **Atrybuty:**\n",
    "> * `fname` - (*przyjmuje lancuch znakow*); nazwa pliku lub sziezka do pliku\n",
    "> * `delimiter` - (*przyjmuje lancuch znakow*); wartosc rozdzilajace lancuch znakow\n",
    "> * `skip_header` - (*przyjmuje liczbe calkowita*); parametr okreslajacy liczbe wierszy, ktorze chcesz pominac na poczatki pliku\n",
    "\n",
    "* `savetxt()` - pozwala zapisac dane do pliku"
   ]
  },
  {
   "cell_type": "markdown",
   "id": "6a22ee0e",
   "metadata": {},
   "source": [
    "##### Oczyt pliku za pomoca funkcji `genfromtxt ()`"
   ]
  },
  {
   "cell_type": "code",
   "execution_count": 16,
   "id": "7cbd9a7b",
   "metadata": {},
   "outputs": [
    {
     "name": "stdout",
     "output_type": "stream",
     "text": [
      "[[14. 32. 33.]\n",
      " [24. 45. 26.]\n",
      " [27. 38. 39.]]\n"
     ]
    }
   ],
   "source": [
    "#importuje funkjce genfromtxt\n",
    "from numpy import genfromtxt\n",
    "\n",
    "#odczytuje plik csv\n",
    "product_data = genfromtxt('data/csv/demo.csv', delimiter = ',')\n",
    "print(product_data)"
   ]
  },
  {
   "cell_type": "markdown",
   "id": "0fe9400b",
   "metadata": {},
   "source": [
    "##### Zapis pliku za pomoca funkcji `savetxt()`"
   ]
  },
  {
   "cell_type": "code",
   "execution_count": 15,
   "id": "8181a848",
   "metadata": {},
   "outputs": [],
   "source": [
    "import numpy as np\n",
    "\n",
    "#tworze przykladowe dane\n",
    "sample_array = np.array([ [3,4,5], [6,7,8,], [9,10,11] ])\n",
    "\n",
    "#zapisuje dane\n",
    "np.savetxt(\"data/csv/my_first_demo.csv\",sample_array, delimiter= ',')"
   ]
  },
  {
   "cell_type": "markdown",
   "id": "2b65cce7",
   "metadata": {},
   "source": [
    "### Odczyt i zapis plikow CSV za pomoca Pandas\n",
    "___\n",
    "* `read_csv()`- sluzy do odczyty plikow csv\n",
    "> **Atrybuty:**\n",
    "> * `filepath_or_buffer` - sciezka odczytywanego pliku lub jego adres URL\n",
    "> * `sep` - wyznacza sepataror w lancuchu znakow. Domyslnym jest ','\n",
    "> * `header` - sluzy do rozpoznawania nazw kolumn. Domyslna wartosc infer\n",
    "> * `names` - moge tu wprowadzic liste nazw kolumn. Domyslna wartosc None\n",
    "* `to_csv()`- sluzy do zapisu plika csv\n",
    "> **Atrybuty:**\n",
    "> * `path_or_buf` - sciezka pliku lub lokacje dok ktroteg plik bedzie eksportowany\n",
    "> * `sep` - separator plikow wejscowych\n",
    "> * `header` - pozwala umieszczac nazwy kolumn. Domyslna wartosc True\n",
    "> * `index` - zapisuje indeks do pliku. Domyslna wartosc True"
   ]
  },
  {
   "cell_type": "markdown",
   "id": "67f5d767",
   "metadata": {},
   "source": [
    "##### Oczyt pliku za pomoca funkcji `pd.read_csv ()`"
   ]
  },
  {
   "cell_type": "code",
   "execution_count": 36,
   "id": "98002571",
   "metadata": {},
   "outputs": [
    {
     "data": {
      "text/html": [
       "<div>\n",
       "<style scoped>\n",
       "    .dataframe tbody tr th:only-of-type {\n",
       "        vertical-align: middle;\n",
       "    }\n",
       "\n",
       "    .dataframe tbody tr th {\n",
       "        vertical-align: top;\n",
       "    }\n",
       "\n",
       "    .dataframe thead th {\n",
       "        text-align: right;\n",
       "    }\n",
       "</style>\n",
       "<table border=\"1\" class=\"dataframe\">\n",
       "  <thead>\n",
       "    <tr style=\"text-align: right;\">\n",
       "      <th></th>\n",
       "      <th>0</th>\n",
       "      <th>1</th>\n",
       "      <th>2</th>\n",
       "    </tr>\n",
       "  </thead>\n",
       "  <tbody>\n",
       "    <tr>\n",
       "      <th>0</th>\n",
       "      <td>14</td>\n",
       "      <td>32</td>\n",
       "      <td>33</td>\n",
       "    </tr>\n",
       "    <tr>\n",
       "      <th>1</th>\n",
       "      <td>24</td>\n",
       "      <td>45</td>\n",
       "      <td>26</td>\n",
       "    </tr>\n",
       "    <tr>\n",
       "      <th>2</th>\n",
       "      <td>27</td>\n",
       "      <td>38</td>\n",
       "      <td>39</td>\n",
       "    </tr>\n",
       "  </tbody>\n",
       "</table>\n",
       "</div>"
      ],
      "text/plain": [
       "    0   1   2\n",
       "0  14  32  33\n",
       "1  24  45  26\n",
       "2  27  38  39"
      ]
     },
     "execution_count": 36,
     "metadata": {},
     "output_type": "execute_result"
    }
   ],
   "source": [
    "import pandas as pd\n",
    "\n",
    "sample_df = pd.read_csv('data/csv/demo.csv', sep = ',', header = None)\n",
    "sample_df.head()"
   ]
  },
  {
   "cell_type": "markdown",
   "id": "08fc6d0f",
   "metadata": {},
   "source": [
    "##### Zapis pliku za pomoca funkcji  `to_csv()`"
   ]
  },
  {
   "cell_type": "code",
   "execution_count": 26,
   "id": "088b1991",
   "metadata": {},
   "outputs": [],
   "source": [
    "# Zapisuje obiekt DataFrame w pliku csv\n",
    "sample_df.to_csv('data/csv/demo_sample_df.csv')"
   ]
  },
  {
   "cell_type": "markdown",
   "id": "a75591ec",
   "metadata": {},
   "source": [
    "### Odczyt i zapis plikow arkusz kalkulacyjnego Excel\n",
    "____\n",
    "* `pd.read_exce()` - sluzy do otrzytania odczytania Excela \n",
    "* `df.to_excel()`- sluzy do zapisywanie pliku do Excela\n",
    "> Atrybut:\n",
    "> `sheet_name()`- nazwa akrusza"
   ]
  },
  {
   "cell_type": "markdown",
   "id": "6ba3a5e0",
   "metadata": {},
   "source": [
    " ##### Oczyt pliku za pomoca funkcji `pd.read_excel()`"
   ]
  },
  {
   "cell_type": "code",
   "execution_count": 33,
   "id": "26951a0a",
   "metadata": {},
   "outputs": [
    {
     "data": {
      "text/html": [
       "<div>\n",
       "<style scoped>\n",
       "    .dataframe tbody tr th:only-of-type {\n",
       "        vertical-align: middle;\n",
       "    }\n",
       "\n",
       "    .dataframe tbody tr th {\n",
       "        vertical-align: top;\n",
       "    }\n",
       "\n",
       "    .dataframe thead th {\n",
       "        text-align: right;\n",
       "    }\n",
       "</style>\n",
       "<table border=\"1\" class=\"dataframe\">\n",
       "  <thead>\n",
       "    <tr style=\"text-align: right;\">\n",
       "      <th></th>\n",
       "      <th>name</th>\n",
       "      <th>performance_score</th>\n",
       "    </tr>\n",
       "  </thead>\n",
       "  <tbody>\n",
       "    <tr>\n",
       "      <th>0</th>\n",
       "      <td>Allen Smith</td>\n",
       "      <td>723</td>\n",
       "    </tr>\n",
       "    <tr>\n",
       "      <th>1</th>\n",
       "      <td>S Kumar</td>\n",
       "      <td>520</td>\n",
       "    </tr>\n",
       "    <tr>\n",
       "      <th>2</th>\n",
       "      <td>Jack Morgan</td>\n",
       "      <td>674</td>\n",
       "    </tr>\n",
       "    <tr>\n",
       "      <th>3</th>\n",
       "      <td>Ying Chin</td>\n",
       "      <td>556</td>\n",
       "    </tr>\n",
       "    <tr>\n",
       "      <th>4</th>\n",
       "      <td>Dheeraj Patel</td>\n",
       "      <td>711</td>\n",
       "    </tr>\n",
       "  </tbody>\n",
       "</table>\n",
       "</div>"
      ],
      "text/plain": [
       "            name  performance_score\n",
       "0    Allen Smith                723\n",
       "1        S Kumar                520\n",
       "2    Jack Morgan                674\n",
       "3      Ying Chin                556\n",
       "4  Dheeraj Patel                711"
      ]
     },
     "execution_count": 33,
     "metadata": {},
     "output_type": "execute_result"
    }
   ],
   "source": [
    "import pandas as pd\n",
    "\n",
    "df = pd.read_excel('data/excel/employee.xlsx', sheet_name = 'performance')\n",
    "df.head()"
   ]
  },
  {
   "cell_type": "markdown",
   "id": "30260b44",
   "metadata": {},
   "source": [
    "##### Zapis pliku za pomoca funkcji  `to_excel()`"
   ]
  },
  {
   "cell_type": "code",
   "execution_count": 37,
   "id": "2cd4e218",
   "metadata": {},
   "outputs": [],
   "source": [
    "df.to_excel('data/excel/employee_performance.xlsx')"
   ]
  },
  {
   "cell_type": "markdown",
   "id": "bb238507",
   "metadata": {},
   "source": [
    "##### Mozemy takze zapisac wieksza liczbe obiektow DataFrame w jednym pliku Excela (kazda ramka danych w osobobym akruszu) za pomoca funkcji `with pd.ExcelWriter(\"file\") as writer:`"
   ]
  },
  {
   "cell_type": "code",
   "execution_count": 50,
   "id": "4e01abf4",
   "metadata": {},
   "outputs": [],
   "source": [
    "emp_df = pd.read_excel('data/excel/employee.xlsx', sheet_name = 'employee_details')\n",
    "emp_df.head()\n",
    "\n",
    "with pd.ExcelWriter('data/excel/new_employee_details.xlsx') as writer:\n",
    "    emp_df.to_excel(writer,sheet_name = 'employee')\n",
    "    df.to_excel(writer, sheet_name = 'performance')"
   ]
  },
  {
   "cell_type": "code",
   "execution_count": null,
   "id": "4539a3ea",
   "metadata": {},
   "outputs": [],
   "source": []
  }
 ],
 "metadata": {
  "kernelspec": {
   "display_name": "Python 3 (ipykernel)",
   "language": "python",
   "name": "python3"
  },
  "language_info": {
   "codemirror_mode": {
    "name": "ipython",
    "version": 3
   },
   "file_extension": ".py",
   "mimetype": "text/x-python",
   "name": "python",
   "nbconvert_exporter": "python",
   "pygments_lexer": "ipython3",
   "version": "3.9.12"
  }
 },
 "nbformat": 4,
 "nbformat_minor": 5
}
