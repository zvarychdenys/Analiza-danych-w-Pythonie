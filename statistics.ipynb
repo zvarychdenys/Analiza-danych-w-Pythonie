{
 "cells": [
  {
   "cell_type": "markdown",
   "id": "650662d2",
   "metadata": {},
   "source": [
    "\n",
    "# Statystyka"
   ]
  },
  {
   "cell_type": "markdown",
   "id": "f1b3bdaf",
   "metadata": {},
   "source": [
    "#### Typy atrybutow :\n",
    "\n",
    "* **atrybuty nominalne** - moze byc symbol lub nazwa elementow(nazwa prodkuktow,nazwa marki,kod pocztkowy, stan cywilny)\n",
    "\n",
    "* **atrybuty porzadkowe** - wartosci wyznaczajace jakas kolejnosc lub ranking ale wielkosc tej wartosci nie jest znana( bardzo zadowolony, zadowolony, neutralny , niezadowolony i etc.) \n",
    "\n",
    "* **atrybuty numeryczne** - mierzone sa w dwoch skalach : przedzialowej i ilorazowej.\n",
    "\n",
    "W przedzialowej skali jednotki w rownych odstepach, mozna wyznaczy roznice miedzy wartosciami, naprzyklad w stopien Celsjusza. 'Prawidlowe zero istnieje'\n",
    "W ilorazowej skali jednotki w roznych odstepach, wzrost, waga, stopien Kelwina, bo nie ma zdefiniowane zero absolutne\n",
    "\n",
    "\n",
    "   \n",
    "\n",
    "* **atrybuty dyskretne i ciagle** - zmienna dyskretna przyjmuje wartosci calkowite , a zmienna ciagla wartosci rzeczywiste"
   ]
  },
  {
   "cell_type": "markdown",
   "id": "c875a39d",
   "metadata": {},
   "source": [
    "# Srednia arytmetyczna\n",
    "`mean()`- wyznacza srednia arytmetyczna w obserwacji"
   ]
  },
  {
   "cell_type": "code",
   "execution_count": 50,
   "id": "00d65906",
   "metadata": {},
   "outputs": [],
   "source": [
    "import pandas as pd\n",
    "import numpy as np"
   ]
  },
  {
   "cell_type": "code",
   "execution_count": 37,
   "id": "ef671c7e",
   "metadata": {},
   "outputs": [],
   "source": [
    "sample_data = { 'imie' : ['Jonh','Anna','Steve','Ben','Oksi'],\n",
    "               'plec' : ['M','K','M','M','K'],\n",
    "               'ocena_komunikatywnosci' : [40,45,23,39,39],\n",
    "               'ocena_matematyki': [38,41,42,48,32]\n",
    "}"
   ]
  },
  {
   "cell_type": "code",
   "execution_count": 38,
   "id": "6309a054",
   "metadata": {},
   "outputs": [
    {
     "data": {
      "text/plain": [
       "37.2"
      ]
     },
     "execution_count": 38,
     "metadata": {},
     "output_type": "execute_result"
    }
   ],
   "source": [
    "data = pd.DataFrame(sample_data)\n",
    "data['ocena_komunikatywnosci'].mean() "
   ]
  },
  {
   "cell_type": "markdown",
   "id": "a84b0414",
   "metadata": {},
   "source": [
    "# Dominanta - jaka wartosc wystepuje najczesciej\n",
    "`mode()`- wyznacza dominante w obserwacji"
   ]
  },
  {
   "cell_type": "code",
   "execution_count": 22,
   "id": "75014087",
   "metadata": {},
   "outputs": [
    {
     "data": {
      "text/plain": [
       "0    39\n",
       "Name: ocena_komunikatywnosci, dtype: int64"
      ]
     },
     "execution_count": 22,
     "metadata": {},
     "output_type": "execute_result"
    }
   ],
   "source": [
    "data['ocena_komunikatywnosci'].mode()"
   ]
  },
  {
   "cell_type": "markdown",
   "id": "1dc0d294",
   "metadata": {},
   "source": [
    "# Mediana - wyznacza puknt srokowy(wartosc srodkowa), jest nazywana takze jak **50 percentylem\n",
    "\n",
    "`median()` - wyznaczna mediana danej obserwacji"
   ]
  },
  {
   "cell_type": "code",
   "execution_count": 24,
   "id": "4a5fb4a0",
   "metadata": {},
   "outputs": [
    {
     "data": {
      "text/plain": [
       "39.0"
      ]
     },
     "execution_count": 24,
     "metadata": {},
     "output_type": "execute_result"
    }
   ],
   "source": [
    "data['ocena_komunikatywnosci'].median()"
   ]
  },
  {
   "cell_type": "markdown",
   "id": "e919c105",
   "metadata": {},
   "source": [
    "# Pomiar dyspersij\n",
    "Najczesciej spotykanymi miarami dyspersji sa : **zakres, rostep cwiartkowy, wariacja , odch. standardowe**\n",
    "\n",
    "    `describe()`- zwraca liczebnosc, srednia, std, Q1, mediane(Q2), Q3, min ,max"
   ]
  },
  {
   "cell_type": "code",
   "execution_count": 27,
   "id": "47570141",
   "metadata": {},
   "outputs": [
    {
     "data": {
      "text/plain": [
       "21"
      ]
     },
     "execution_count": 27,
     "metadata": {},
     "output_type": "execute_result"
    }
   ],
   "source": [
    "#zakres - roznica miedzy wartosca minimalna a maksymalna\n",
    "zakres = data['ocena_komunikatywnosci'].max() - data['ocena_komunikatywnosci'].min()\n",
    "zakres"
   ]
  },
  {
   "cell_type": "code",
   "execution_count": 35,
   "id": "c6281e75",
   "metadata": {},
   "outputs": [
    {
     "data": {
      "text/plain": [
       "1.0"
      ]
     },
     "execution_count": 35,
     "metadata": {},
     "output_type": "execute_result"
    }
   ],
   "source": [
    "#rozstep cwiartkowy (ang. IQR) - roznica miedzy pierszym a trzecim kwartylem.\n",
    "q1 = data['ocena_komunikatywnosci'].quantile(.25) # pierwszy kwartyl\n",
    "q3 = data['ocena_komunikatywnosci'].quantile(.75) # trzeci kwartyl\n",
    "iqr = q3 - q1\n",
    "iqr"
   ]
  },
  {
   "cell_type": "code",
   "execution_count": 39,
   "id": "9bb40a44",
   "metadata": {},
   "outputs": [
    {
     "data": {
      "text/plain": [
       "69.2"
      ]
     },
     "execution_count": 39,
     "metadata": {},
     "output_type": "execute_result"
    }
   ],
   "source": [
    " #wariacja - mierzy odchylenie od sredniej.\n",
    "data['ocena_komunikatywnosci'].var()"
   ]
  },
  {
   "cell_type": "code",
   "execution_count": 40,
   "id": "c802c05d",
   "metadata": {},
   "outputs": [
    {
     "data": {
      "text/plain": [
       "8.318653737234168"
      ]
     },
     "execution_count": 40,
     "metadata": {},
     "output_type": "execute_result"
    }
   ],
   "source": [
    "#Odchylenie standardowe - jest pierwiastek kwadratowym z wariacji\n",
    "data['ocena_komunikatywnosci'].std()"
   ]
  },
  {
   "cell_type": "markdown",
   "id": "04062d27",
   "metadata": {},
   "source": [
    "# Skosnosc i kurtoza \n",
    "`skew()`- wyznacza skosnosc.\n",
    "\n",
    "Skosnosc mierzy symetrie rozkladu, okresla stopien odchylenia od rozkladu normalnego, przyjmuje warosci dodatnie, ujemne i zero. Wartosc 0 oznacza idealny kszalt rozkladu. Moze byc w prawo , w lewo, lub zerowa.\n",
    "\n",
    "\n",
    "\n",
    "`kurtosis()`- wyznacza kurtoze.\n",
    "\n",
    "Kurtoza mierzy ogonowosc(grubosc ogona) w stosunku do rozkladu normalnego.\n",
    "Duza wartosc kurtozy oznacza gruboogonowosc , czyli obecnosc wiekszej liczby elementow odstajacych w obserwacjach."
   ]
  },
  {
   "cell_type": "code",
   "execution_count": 41,
   "id": "ea91567f",
   "metadata": {},
   "outputs": [
    {
     "data": {
      "text/plain": [
       "-1.704679180800373"
      ]
     },
     "execution_count": 41,
     "metadata": {},
     "output_type": "execute_result"
    }
   ],
   "source": [
    "data['ocena_komunikatywnosci'].skew #skosnosc"
   ]
  },
  {
   "cell_type": "code",
   "execution_count": 42,
   "id": "8e53b1ac",
   "metadata": {},
   "outputs": [
    {
     "data": {
      "text/plain": [
       "3.6010641852384015"
      ]
     },
     "execution_count": 42,
     "metadata": {},
     "output_type": "execute_result"
    }
   ],
   "source": [
    "data['ocena_komunikatywnosci'].kurtosis()"
   ]
  },
  {
   "cell_type": "markdown",
   "id": "f8663c07",
   "metadata": {},
   "source": [
    "# Wspolczynniki koleracji i kowariancji - pomaga przy okresleniu relacjii miedzy zmiennymi\n",
    "\n",
    " **Kowariacnja** mierzy zwiazek pomiedzy para zmiennych. Zakres jest od -niesko. do +nieskon.\n",
    " \n",
    " \n",
    " **Koleracja** wyznacza rodzaj relacji miedzy zmiennymi. Zakres jest od -1 do +1.\"\n",
    " \n",
    " # ------------------------------------------------------------------\n",
    " **Wartosc ujemna reprezentuje zmiejszenie wartosci jednej zmiennej w wyniku zwiekszenie wartosci drugiej zmiennej**\n",
    "\n",
    "**Wartosc dodatnia reprezentuje zwiekszenie wartosci jednej zmiennej w wyniku zwiekszenie wartosci drugiej zmiennej**\n",
    "\n",
    "**Wartosc 0 wskazuje na brak korelacji miedzy zmiennymi**\n",
    " \n",
    " "
   ]
  },
  {
   "cell_type": "code",
   "execution_count": 44,
   "id": "c27a3ede",
   "metadata": {},
   "outputs": [
    {
     "data": {
      "text/html": [
       "<div>\n",
       "<style scoped>\n",
       "    .dataframe tbody tr th:only-of-type {\n",
       "        vertical-align: middle;\n",
       "    }\n",
       "\n",
       "    .dataframe tbody tr th {\n",
       "        vertical-align: top;\n",
       "    }\n",
       "\n",
       "    .dataframe thead th {\n",
       "        text-align: right;\n",
       "    }\n",
       "</style>\n",
       "<table border=\"1\" class=\"dataframe\">\n",
       "  <thead>\n",
       "    <tr style=\"text-align: right;\">\n",
       "      <th></th>\n",
       "      <th>ocena_komunikatywnosci</th>\n",
       "      <th>ocena_matematyki</th>\n",
       "    </tr>\n",
       "  </thead>\n",
       "  <tbody>\n",
       "    <tr>\n",
       "      <th>ocena_komunikatywnosci</th>\n",
       "      <td>69.20</td>\n",
       "      <td>-6.55</td>\n",
       "    </tr>\n",
       "    <tr>\n",
       "      <th>ocena_matematyki</th>\n",
       "      <td>-6.55</td>\n",
       "      <td>34.20</td>\n",
       "    </tr>\n",
       "  </tbody>\n",
       "</table>\n",
       "</div>"
      ],
      "text/plain": [
       "                        ocena_komunikatywnosci  ocena_matematyki\n",
       "ocena_komunikatywnosci                   69.20             -6.55\n",
       "ocena_matematyki                         -6.55             34.20"
      ]
     },
     "execution_count": 44,
     "metadata": {},
     "output_type": "execute_result"
    }
   ],
   "source": [
    "#Zwiazek miedzy ocena_komynikat. a ocena_matem. za pomoca kowariacji\n",
    "data.cov()"
   ]
  },
  {
   "cell_type": "code",
   "execution_count": 48,
   "id": "a801ee16",
   "metadata": {},
   "outputs": [
    {
     "data": {
      "text/html": [
       "<div>\n",
       "<style scoped>\n",
       "    .dataframe tbody tr th:only-of-type {\n",
       "        vertical-align: middle;\n",
       "    }\n",
       "\n",
       "    .dataframe tbody tr th {\n",
       "        vertical-align: top;\n",
       "    }\n",
       "\n",
       "    .dataframe thead th {\n",
       "        text-align: right;\n",
       "    }\n",
       "</style>\n",
       "<table border=\"1\" class=\"dataframe\">\n",
       "  <thead>\n",
       "    <tr style=\"text-align: right;\">\n",
       "      <th></th>\n",
       "      <th>ocena_komunikatywnosci</th>\n",
       "      <th>ocena_matematyki</th>\n",
       "    </tr>\n",
       "  </thead>\n",
       "  <tbody>\n",
       "    <tr>\n",
       "      <th>ocena_komunikatywnosci</th>\n",
       "      <td>1.00000</td>\n",
       "      <td>-0.13464</td>\n",
       "    </tr>\n",
       "    <tr>\n",
       "      <th>ocena_matematyki</th>\n",
       "      <td>-0.13464</td>\n",
       "      <td>1.00000</td>\n",
       "    </tr>\n",
       "  </tbody>\n",
       "</table>\n",
       "</div>"
      ],
      "text/plain": [
       "                        ocena_komunikatywnosci  ocena_matematyki\n",
       "ocena_komunikatywnosci                 1.00000          -0.13464\n",
       "ocena_matematyki                      -0.13464           1.00000"
      ]
     },
     "execution_count": 48,
     "metadata": {},
     "output_type": "execute_result"
    }
   ],
   "source": [
    "data.corr(method='pearson') # Korelacja metoda Pearsona."
   ]
  },
  {
   "cell_type": "markdown",
   "id": "eece5ea2",
   "metadata": {},
   "source": [
    "# Przeprowadzenie testow patametrycznych \n",
    "\n",
    "\n",
    "\n",
    "**Test t dla jednej proby** `ttest_1samp(data,srednia)`jest testem parametryczym, sprawdza czy istnieje istotna roznica miedzy srednimi dwoch badanym grup.\n",
    "\n",
    "**Test t dla dwoch NIEZALEZNYCH prob** `ttest_ind(data1,data2)` sluzy do porownania istotnej roznicy miedzy dwiema niezaleznymi grupami \n",
    "\n",
    "**Test t dla dwoch ZALEZNYCH prob** `ttest_rel(data1,data2)`\n",
    "\n",
    "**ANOVA** `f_oneway(data1,data2,data3)` test t dla 3 i wiecej liczby prob."
   ]
  },
  {
   "cell_type": "markdown",
   "id": "2d9397d1",
   "metadata": {},
   "source": [
    "#### Porownuje srednia wage jednej grupy uczniow"
   ]
  },
  {
   "cell_type": "code",
   "execution_count": 79,
   "id": "3268d620",
   "metadata": {},
   "outputs": [
    {
     "name": "stdout",
     "output_type": "stream",
     "text": [
      "Srednia : 68.5\n",
      "Wartosc p: 0.9474179223793633\n",
      "Wartosc testu t : 0.0716114874039433\n",
      "Hipoteza przyjeta\n",
      "Hipoteza zostawa przyjeta z 95-procentowym przedzialem ufnosci, co oznacza ze srednia waga tych uczniow wynosi rzeczywiscie 68 kg\n"
     ]
    }
   ],
   "source": [
    "# Biore 10 uczniow i sprawdza czy ich srednia waga jest wieksza do 68 kg za pomoca testy t\n",
    "\n",
    "# importuje test t dla jednej proby\n",
    "from scipy.stats import ttest_1samp \n",
    "\n",
    "#Obliczam srednia arytmetyczna\n",
    "data = np.array([63,75,84,52])\n",
    "mean_value = data.mean()\n",
    "print(f'Srednia : {mean_value}')\n",
    "\n",
    "#Przepwadzam test t dla jednej proby\n",
    "t_test_value , p_value = ttest_1samp(data,68)\n",
    "print(f'Wartosc p: {p_value}')\n",
    "print(f'Wartosc testu t : {t_test_value}')\n",
    "\n",
    "#0,05 stanowi poziom istotnosci (parament alfa)\n",
    "if p_value < 0.05:\n",
    "    print('Hipoteza odrzucona')\n",
    "else:\n",
    "    print('Hipoteza przyjeta')\n",
    "\n",
    "print('Hipoteza zostawa przyjeta z 95-procentowym przedzialem ufnosci, co oznacza ze srednia waga tych uczniow wynosi rzeczywiscie 68 kg')\n"
   ]
  },
  {
   "cell_type": "markdown",
   "id": "f0b95e4f",
   "metadata": {},
   "source": [
    "#### Porownuje srednia wage dwoch niezaleznych grup uczniow"
   ]
  },
  {
   "cell_type": "code",
   "execution_count": 88,
   "id": "4fe90385",
   "metadata": {},
   "outputs": [
    {
     "name": "stdout",
     "output_type": "stream",
     "text": [
      "Wartosc t_test_value: 2.6835879913819185\n",
      "Wartosc p_value: 0.015170931362451255\n",
      "Hipoteza odrzucona\n",
      "Srednie prob nie sa jednakowe\n"
     ]
    }
   ],
   "source": [
    "# importuje test t dla dwoch prob\n",
    "from scipy.stats import ttest_ind\n",
    "\n",
    "#tablice Numpy sa niezalezne miedzy soba\n",
    "data1 = np.array([63,75,84,58,52,96,63,55,76,83])\n",
    "data2 = np.array([53,43,31,113,33,57,27,23,24,43])\n",
    "\n",
    "#Porownuje dwie proby\n",
    "t_test_value, p_value = ttest_ind(data1,data2)\n",
    "print(f'Wartosc t_test_value: {t_test_value}')\n",
    "print(f'Wartosc p_value: {p_value}')\n",
    "\n",
    "if p_value < 0.05:\n",
    "    print('Hipoteza odrzucona') \n",
    "else:\n",
    "    print('Hipoteza przyjeta')\n",
    "\n",
    "print('Srednie prob nie sa jednakowe')"
   ]
  },
  {
   "cell_type": "markdown",
   "id": "18f4c1d8",
   "metadata": {},
   "source": [
    "#### Porownuje srednia wage dwoch ZALEZNYCH grup uczniow "
   ]
  },
  {
   "cell_type": "code",
   "execution_count": 95,
   "id": "db35ffe9",
   "metadata": {},
   "outputs": [
    {
     "name": "stdout",
     "output_type": "stream",
     "text": [
      "Wartosc t_test_value: 3.0144725134611785\n",
      "Wartosc p_value: 0.014609573133676012\n",
      "Hipoteza odrzucona\n"
     ]
    }
   ],
   "source": [
    "# importuje test t dla dwoch prob\n",
    "from scipy.stats import ttest_rel\n",
    "\n",
    "# pierwsza tablca waga uczniow przed kuracja , druga tablca waga uczniow po kuracji.\n",
    "data1 = np.array([63,75,84,58,52,96,63,55,76,83])\n",
    "data2 = np.array([53,43,67,59,33,57,65,58,64,72])\n",
    "\n",
    "#Porownuje dwie proby\n",
    "t_test_value, p_value = ttest_rel(data1,data2)\n",
    "print(f'Wartosc t_test_value: {t_test_value}')\n",
    "print(f'Wartosc p_value: {p_value}')\n",
    "\n",
    "if p_value < 0.05:\n",
    "    print('Hipoteza odrzucona') \n",
    "else:\n",
    "    print('Hipoteza przyjeta')\n"
   ]
  },
  {
   "cell_type": "markdown",
   "id": "705b65d8",
   "metadata": {},
   "source": [
    "#### Porownuje wynik trzech grup za pomoca testu ANOVA\n",
    "\n",
    "firma chce porownac produktywnosc grup pracownikow w mumbai , chicago , londynie na podstawie oceny skutecznosci."
   ]
  },
  {
   "cell_type": "code",
   "execution_count": 104,
   "id": "a01b1f21",
   "metadata": {},
   "outputs": [
    {
     "name": "stdout",
     "output_type": "stream",
     "text": [
      "Wartosc p:  0.27667556390705783\n",
      "ANOVA:  1.3480446381965452\n",
      "Hipoteza przyjeta\n",
      "Hipoterza przyjete to znaczy te nie ma roznicy w srednim wyniku sktutecznosci w danym miastach\n"
     ]
    }
   ],
   "source": [
    "from scipy.stats import f_oneway\n",
    "\n",
    "#Wyniki skutecznosci w Mumbai\n",
    "mumbai=[0.14730927, 0.59168541, 0.85677052, 0.27315387, 0.78591207,0.52426114, 0.05007655, 0.64405363, 0.9825853 , 0.62667439]\n",
    "\n",
    "#Wyniki skutecznosci w Chicago\n",
    "chicago=[0.99140754, 0.76960782, 0.51370154, 0.85041028, 0.19485391,0.25269917, 0.19925735, 0.80048387, 0.98381235, 0.5864963 ]\n",
    "\n",
    "#Wyniki skutecznosci w Londynie\n",
    "london=[0.40382226, 0.51613408, 0.39374473, 0.0689976 , 0.28035865,0.56326686, 0.66735357, 0.06786065, 0.21013306, 0.86503358]\n",
    "\n",
    "stat, p_value = f_oneway(mumbai,chicago,london)\n",
    "print(f'Wartosc p:  {p_value}')\n",
    "print(f'ANOVA:  {stat}')\n",
    "\n",
    "if p_value < 0.05:\n",
    "    print('Hipoteza odrzucona') \n",
    "else:\n",
    "    print('Hipoteza przyjeta')\n",
    "    \n",
    "print(\"Hipoterza przyjete to znaczy te nie ma roznicy w srednim wyniku sktutecznosci w danym miastach\")\n"
   ]
  },
  {
   "cell_type": "code",
   "execution_count": null,
   "id": "7ac2364e",
   "metadata": {},
   "outputs": [],
   "source": []
  },
  {
   "cell_type": "code",
   "execution_count": null,
   "id": "3c877ec0",
   "metadata": {},
   "outputs": [],
   "source": []
  },
  {
   "cell_type": "code",
   "execution_count": null,
   "id": "5fc4b397",
   "metadata": {},
   "outputs": [],
   "source": []
  }
 ],
 "metadata": {
  "kernelspec": {
   "display_name": "Python 3 (ipykernel)",
   "language": "python",
   "name": "python3"
  },
  "language_info": {
   "codemirror_mode": {
    "name": "ipython",
    "version": 3
   },
   "file_extension": ".py",
   "mimetype": "text/x-python",
   "name": "python",
   "nbconvert_exporter": "python",
   "pygments_lexer": "ipython3",
   "version": "3.9.12"
  }
 },
 "nbformat": 4,
 "nbformat_minor": 5
}
