{
 "cells": [
  {
   "cell_type": "markdown",
   "id": "7efbf484",
   "metadata": {},
   "source": [
    "# Algebra liniowa\n",
    "----\n"
   ]
  },
  {
   "cell_type": "markdown",
   "id": "23155487",
   "metadata": {},
   "source": [
    "* `np.polyfit(x,y,stopien)` - funkcja generujaca wielomiany metoda najmnieszych kwadratow\n",
    "*`np.polyval(wspolczyniki wielomianowe, tablice punktow)` - funckja obliczajaca wielomian dla zadanych wartosci\n",
    "* `np.linspace(wart poczatkowa,wart koncowa, liczba odstepow miedzy wart)` - funkcja generujaca sekwencje wartosci o roznych odstepach."
   ]
  },
  {
   "cell_type": "code",
   "execution_count": 2,
   "id": "f087ce72",
   "metadata": {},
   "outputs": [],
   "source": [
    "import numpy as np\n",
    "import matplotlib.pyplot as plt # importuje mathplotlib''"
   ]
  },
  {
   "cell_type": "code",
   "execution_count": 59,
   "id": "e69bd13d",
   "metadata": {},
   "outputs": [
    {
     "name": "stdout",
     "output_type": "stream",
     "text": [
      "Wektor 1: [0.58503404 0.41589285 0.13852804 0.51696427 0.53638158 0.65869095\n",
      " 0.33346734 0.68839374 0.46201843 0.68035113]\n",
      " Wektor 2: [0.240819   0.52710862 0.90672841 0.61234336 0.55886633 0.71242591\n",
      " 0.50620963 0.64690992 0.35949027 0.10101854]\n"
     ]
    }
   ],
   "source": [
    "#gerentuje dwa losowe wektory\n",
    "wek1 = np.random.rand(10)\n",
    "wek2 = np.random.rand(10)\n",
    "print(f'Wektor 1: {wek1}\\n Wektor 2: {wek2}')"
   ]
  },
  {
   "cell_type": "code",
   "execution_count": 62,
   "id": "3794e626",
   "metadata": {},
   "outputs": [
    {
     "data": {
      "image/png": "[encoded data removed]",
      "text/plain": [
       "<Figure size 432x288 with 1 Axes>"
      ]
     },
     "metadata": {
      "needs_background": "light"
     },
     "output_type": "display_data"
    }
   ],
   "source": [
    "#tworze sequence, wartosci rozdzielone rowymi odstepami\n",
    "sequence = np.linspace(wek1.min(),wek1.max(), num = len(wek1) * 10)\n",
    "\n",
    "#dopasowuje dane do wielomianu\n",
    "coefs = np.polyfit(wek1,wek2,3) # zwraca liczbe wspolczynikow wielomianowych\n",
    "\n",
    "#obliczam wielomian dla danej sekwencji\n",
    "polynomial_sequence = np.polyval(coefs,sequence) #zwraca wynikowe wartosci wielomianow\n",
    "polynomial_sequence\n",
    "\n",
    "plt.plot(sequence,polynomial_sequence)\n",
    "plt.show()"
   ]
  },
  {
   "cell_type": "markdown",
   "id": "ec417a84",
   "metadata": {},
   "source": [
    "# Wyznacznik macierzy\n",
    "----\n",
    "\n",
    "jest to wartosc skalarna dla macierzy kwadratowej. **moze byc obliczalny wylacznie dla macierzy kwadratowej.\n",
    "\n",
    "`np.linalg.det()` - oblicza wyznacznik danej macierzy kwadratowej."
   ]
  },
  {
   "cell_type": "code",
   "execution_count": 75,
   "id": "946c1b98",
   "metadata": {},
   "outputs": [
    {
     "name": "stdout",
     "output_type": "stream",
     "text": [
      "Wyznacznik :\n",
      " -5.999999999999998\n"
     ]
    }
   ],
   "source": [
    "mat = np.mat([[2,4],[5,7]])\n",
    "mat\n",
    "print(\"Wyznacznik :\\n\", np.linalg.det(mat))"
   ]
  },
  {
   "cell_type": "markdown",
   "id": "e44454b9",
   "metadata": {},
   "source": [
    "# Rzad macierzy\n",
    "----\n",
    "w podpakiecie **numpy.linalg** jest dostepna funkjca `matrix_rank()` dal obliczenie rzedu macierzy"
   ]
  },
  {
   "cell_type": "code",
   "execution_count": 81,
   "id": "7a061015",
   "metadata": {},
   "outputs": [
    {
     "name": "stdout",
     "output_type": "stream",
     "text": [
      "Rzad maciery:  2\n"
     ]
    }
   ],
   "source": [
    "import numpy as np\n",
    "from numpy.linalg import matrix_rank\n",
    "\n",
    "mat = np.mat([[5,3,1],[5,3,1],[1,0,5]])\n",
    "print(\"Rzad maciery: \", matrix_rank(mat))"
   ]
  },
  {
   "cell_type": "markdown",
   "id": "b1f122eb",
   "metadata": {},
   "source": [
    "# Macierz odwrotna w bibliotece NumPy\n",
    "----\n",
    "Macierz odwortna : `AAˆ-1 = I`, czyli iloczyn macierzy kwadratowej na macierz odwrotna daje w rezultacie macierz jednostkowa.\n",
    "\n",
    "podpakiet **numpy.linalg** zawiera funkcje `inv()` realizujaca inwersje macierzy"
   ]
  },
  {
   "cell_type": "code",
   "execution_count": 88,
   "id": "f8ce717f",
   "metadata": {},
   "outputs": [
    {
     "name": "stdout",
     "output_type": "stream",
     "text": [
      "Macierz wejsciowa:\n",
      " [[2 4]\n",
      " [5 7]]\n",
      "Macierze odwrotna:\n",
      " [[-1.16666667  0.66666667]\n",
      " [ 0.83333333 -0.33333333]]\n"
     ]
    }
   ],
   "source": [
    "from numpy.linalg import inv\n",
    "# Tworze macierz za pomoca funckji mp.mat()\n",
    "mat = np.mat([[2,4],[5,7]])\n",
    "print(\"Macierz wejsciowa:\\n\", mat)\n",
    "inverse = inv(mat)\n",
    "print(\"Macierze odwrotna:\\n\",inverse)"
   ]
  },
  {
   "cell_type": "markdown",
   "id": "3b87bc11",
   "metadata": {},
   "source": [
    "# Rozwiazywanie rownan liniowych za pomoca NumPy\n",
    "----\n",
    "`np.linalg.solve()`- sluzy do rozwiazywanie rownan lioniowcyh w postaci `Ax = B`\n",
    "\n",
    "`np.dot()`- olicze iloczyn skalarny dwoch tablic zawierajacyh wartosci float\n",
    "\n",
    "Macierz : \n",
    "\n",
    "`x + y = 200`\n",
    "\n",
    "`3x + 2y = 450`"
   ]
  },
  {
   "cell_type": "code",
   "execution_count": 105,
   "id": "d49a40c8",
   "metadata": {},
   "outputs": [
    {
     "name": "stdout",
     "output_type": "stream",
     "text": [
      "Macierz A: \n",
      " [[1 1]\n",
      " [3 2]]\n",
      "Wektor B: \n",
      " [200 450]\n",
      "Wynik:  [ 50. 150.]\n",
      "Spawdzam wynik:  [[200. 450.]]\n"
     ]
    }
   ],
   "source": [
    "#Tworze macierz A i wektor B\n",
    "A = np.mat([[1,1],[3,2]])\n",
    "print(\"Macierz A: \\n\", A)\n",
    "B = np.array([200,450])\n",
    "print(\"Wektor B: \\n\", B)\n",
    "\n",
    "#Rozwiazuje rownanie liniowe za pomoca funckji np.linalg.solve()\n",
    "solution = np.linalg.solve(A,B)\n",
    "print(\"Wynik: \", solution)\n",
    "\n",
    "#Spawdzam rownanie za ponoca funckji dot()\n",
    "answer = np.dot(A,solution)\n",
    "print(\"Spawdzam wynik: \", answer)\n"
   ]
  },
  {
   "cell_type": "markdown",
   "id": "bebde30e",
   "metadata": {},
   "source": [
    "# Rozklad macierzy za pomoca SVD \n",
    "----\n",
    "rozklad macierzy polega na rozdzielaniu jej na elementy skladowe\n",
    "istnieje dosc duzo roznych metodow rozkladu macierzy np:\n",
    "* LU (lower - upper)\n",
    "* QR (orthogonal - upper triangular)\n",
    "* SVD (singular value docomposition)\n",
    "\n",
    "\n",
    "podpakiet **numpy.linalg** zawiera funkcje `svd()` dla realizacji rozkldu macierzy\n",
    "\n",
    "rownanie: `A = UEVˆT`, A - macierz lewa o rozmiarze m *x* n, U - macierz prawa o rozmiarze m *x* n, E(Sigma) - macierz diagonalna o rozmiarze n *x* n, VˆT  - macierz transponowana macierzy V."
   ]
  },
  {
   "cell_type": "markdown",
   "id": "a53dd2db",
   "metadata": {},
   "source": [
    "#### W danym przykladzie rozlozylem macierz A na trzy skladowe : **lewa macierz osobliwa(U), macierz diagonalna(E), macierz prawa osobliwa(VˆT)**"
   ]
  },
  {
   "cell_type": "code",
   "execution_count": 116,
   "id": "d68f32a7",
   "metadata": {},
   "outputs": [
    {
     "name": "stdout",
     "output_type": "stream",
     "text": [
      "Macierz lewa :\n",
      " [[-0.70097269 -0.06420281 -0.7102924 ]\n",
      " [-0.6748668  -0.26235919  0.68972636]\n",
      " [-0.23063411  0.9628321   0.14057828]]\n",
      "Macierz diagonalna :\n",
      " [8.42757145 4.89599358 0.07270729]\n",
      "Macierz prawa :\n",
      " [[-0.84363943 -0.48976369 -0.2200092 ]\n",
      " [-0.13684207 -0.20009952  0.97017237]\n",
      " [ 0.51917893 -0.84858218 -0.10179157]]\n"
     ]
    }
   ],
   "source": [
    "# importuje funkcje svd()\n",
    "from numpy.linalg import svd\n",
    "\n",
    "#tworze macierz\n",
    "mat = np.array([[5,3,1],[5,3,0],[1,0,5]])\n",
    "U,Sigma,V_transpose = svd(mat)\n",
    "print(f'Macierz lewa :\\n {U}')\n",
    "print(f'Macierz diagonalna :\\n {Sigma}')\n",
    "print(f'Macierz prawa :\\n {V_transpose}')"
   ]
  },
  {
   "cell_type": "markdown",
   "id": "ab3dddd8",
   "metadata": {},
   "source": [
    "# Wartosci wlasne i wektory wlasne w Numpy\n",
    "----\n",
    "\n",
    "wlasne to rozwiazanie rownania : Ax = $\\Lambda$x, A - jest macierza kwadratowa, x - wektor wlasny , $\\Lambda$ - reprezentuje wartosci wlasne\n",
    "\n",
    "Podpakiet **numpy.linalg** zawiera dwie funkcje:\n",
    "* `eig()` - zwraca krotke wektorow wlasnych\n",
    "* `eigvals()` - zwraca wartosci wlasne"
   ]
  },
  {
   "cell_type": "code",
   "execution_count": 126,
   "id": "dbd74ddb",
   "metadata": {},
   "outputs": [
    {
     "name": "stdout",
     "output_type": "stream",
     "text": [
      "Macierz :\n",
      " [[2 4]\n",
      " [5 7]]\n",
      "Wartosci wlasne:, [-0.62347538  9.62347538]\n",
      "Wektory wlasne:, [[-0.83619408 -0.46462222]\n",
      " [ 0.54843365 -0.885509  ]]\n"
     ]
    }
   ],
   "source": [
    "mat = np.mat([[2,4],[5,7]])\n",
    "print('Macierz :\\n', mat)\n",
    "\n",
    "#Obliczam wartosci wlasne i wektory wlasne\n",
    "eigenvalues, eigenvectors = np.linalg.eig(mat)\n",
    "print(f'Wartosci wlasne:, {eigenvalues}')\n",
    "print(f'Wektory wlasne:, {eigenvectors}')\n",
    "\n",
    "#Obliczam TYLKO wartosci wlasne:\n",
    "eigenvalues = np.linalg.eigvals(mat)"
   ]
  },
  {
   "cell_type": "markdown",
   "id": "24c84434",
   "metadata": {},
   "source": [
    "# Generowanie liczb losowych\n",
    "----\n",
    "`np.random()` - wygeneruje macierz liczb losowych o wyznaczonym rozmiarze"
   ]
  },
  {
   "cell_type": "code",
   "execution_count": 130,
   "id": "0a8faa5e",
   "metadata": {},
   "outputs": [
    {
     "data": {
      "text/plain": [
       "array([[0.47483617, 0.16845776, 0.89162403],\n",
       "       [0.02345519, 0.88291457, 0.32758952],\n",
       "       [0.14079345, 0.99070848, 0.47797348]])"
      ]
     },
     "execution_count": 130,
     "metadata": {},
     "output_type": "execute_result"
    }
   ],
   "source": [
    "#Tworze tablice wypelniona wartosciami losowymi\n",
    "random_mat = np.random.random((3,3))\n",
    "random_mat"
   ]
  },
  {
   "cell_type": "markdown",
   "id": "5e2cddfa",
   "metadata": {},
   "source": [
    "# Rozklad dwumianowy\n",
    "----\n",
    "\n",
    "podpakiet **numpy_random** zawiera funkjce `binomial()` generujaca proby zgodnie z rozkladem dwumianowym dka okreslonych paremetrow\n",
    "\n",
    ">ZADANIE :\n",
    "**Gra w ktorej mozna stawic zaklady na dziewiec monet. Wygrywasz jezeli wypadnie co najmniej 5 orlow. Napisze kod , symujacy 1000 rzutow moneta za pomoca funkcji `binomal()`**"
   ]
  },
  {
   "cell_type": "code",
   "execution_count": 168,
   "id": "e91d4d7d",
   "metadata": {},
   "outputs": [
    {
     "data": {
      "text/plain": [
       "[<matplotlib.lines.Line2D at 0x7fec1580c8e0>]"
      ]
     },
     "execution_count": 168,
     "metadata": {},
     "output_type": "execute_result"
    },
    {
     "data": {
      "image/png": "[encoded data removed]",
      "text/plain": [
       "<Figure size 432x288 with 1 Axes>"
      ]
     },
     "metadata": {
      "needs_background": "light"
     },
     "output_type": "display_data"
    }
   ],
   "source": [
    "import numpy as np\n",
    "import matplotlib.pyplot as plt\n",
    "\n",
    "#Tworze wektow NumPy o rozmiarze 5000 wypelniony zerami\n",
    "cash_balance = np.zeros(5000)\n",
    "cash_balance[0] = 1000 # poczatkujace saldo\n",
    "\n",
    "#Generuje liczby losowe za pomoca rozkladu dwumianowego\n",
    "samples = np.random.binomial(9,0.5,size = len(cash_balance))\n",
    "\n",
    "#Aktualizuje saldo\n",
    "for i in range(1,len(cash_balance)):\n",
    "    if samples[i] < 5:\n",
    "        cash_balance[i] = cash_balance[i-1] - 1\n",
    "    else:\n",
    "        cash_balance[i] = cash_balance[i-1] + 1\n",
    "\n",
    "plt.plot(np.arange(len(cash_balance)),cash_balance)"
   ]
  },
  {
   "cell_type": "markdown",
   "id": "a17e33ae",
   "metadata": {},
   "source": [
    "# Rozklad normalny \n",
    "----\n",
    "podpakiet **numpy_random** zawiera funkjce `normal()` generujaca proby zgodnie z rozkladem normalnym dka okreslonych paremetrow\n"
   ]
  },
  {
   "cell_type": "code",
   "execution_count": 197,
   "id": "601f980c",
   "metadata": {},
   "outputs": [
    {
     "data": {
      "text/plain": [
       "22502.15075206574"
      ]
     },
     "execution_count": 197,
     "metadata": {},
     "output_type": "execute_result"
    }
   ],
   "source": [
    "sample_size = 22500\n",
    "\n",
    "#Generuje probe skadajaca sie z wartosci losowych wylosowanych z rozkladu normalnego\n",
    "sample = np.random.normal(sample_size)\n",
    "sample"
   ]
  },
  {
   "cell_type": "code",
   "execution_count": null,
   "id": "7663b1ea",
   "metadata": {},
   "outputs": [],
   "source": []
  },
  {
   "cell_type": "code",
   "execution_count": null,
   "id": "9eb518db",
   "metadata": {},
   "outputs": [],
   "source": []
  }
 ],
 "metadata": {
  "kernelspec": {
   "display_name": "Python 3 (ipykernel)",
   "language": "python",
   "name": "python3"
  },
  "language_info": {
   "codemirror_mode": {
    "name": "ipython",
    "version": 3
   },
   "file_extension": ".py",
   "mimetype": "text/x-python",
   "name": "python",
   "nbconvert_exporter": "python",
   "pygments_lexer": "ipython3",
   "version": "3.9.12"
  }
 },
 "nbformat": 4,
 "nbformat_minor": 5
}
