{
 "cells": [
  {
   "cell_type": "code",
   "execution_count": 1,
   "id": "663f3a63",
   "metadata": {},
   "outputs": [],
   "source": [
    "import numpy as np"
   ]
  },
  {
   "cell_type": "code",
   "execution_count": 8,
   "id": "8b7b3ee4",
   "metadata": {},
   "outputs": [
    {
     "data": {
      "text/plain": [
       "array([1., 2., 3., 4., 5.])"
      ]
     },
     "execution_count": 8,
     "metadata": {},
     "output_type": "execute_result"
    }
   ],
   "source": [
    "# Tworzenie tablicy \n",
    "a = np.array([1,2,3,4,5], dtype = float) # wszystkie elementy tablicy takiego samego typu danych, \"dtype\" - wyznaczna typ tablicy \n",
    "a"
   ]
  },
  {
   "cell_type": "code",
   "execution_count": 14,
   "id": "23181a21",
   "metadata": {},
   "outputs": [
    {
     "data": {
      "text/plain": [
       "array([10, 20, 30, 40, 50, 60, 70, 80, 90])"
      ]
     },
     "execution_count": 14,
     "metadata": {},
     "output_type": "execute_result"
    }
   ],
   "source": [
    "# Tworzenie tablicy za pomoca funckji arange(), funkcja otrzymuje trzy argumenty start, stop, step (SSS)\n",
    "a = np.arange(10,100,10) # defolt start = 0 , step = 1\n",
    "a"
   ]
  },
  {
   "cell_type": "code",
   "execution_count": 16,
   "id": "405559b6",
   "metadata": {},
   "outputs": [
    {
     "data": {
      "text/plain": [
       "array([0., 0., 0., 0., 0.])"
      ]
     },
     "execution_count": 16,
     "metadata": {},
     "output_type": "execute_result"
    }
   ],
   "source": [
    "# Funkcja zeros() - tworzy wypelniona zerami tablice o okreslonych wartosciach\n",
    "a = np.zeros(5)\n",
    "a"
   ]
  },
  {
   "cell_type": "code",
   "execution_count": 18,
   "id": "1b41a6c8",
   "metadata": {},
   "outputs": [
    {
     "data": {
      "text/plain": [
       "array([1., 1., 1., 1., 1.])"
      ]
     },
     "execution_count": 18,
     "metadata": {},
     "output_type": "execute_result"
    }
   ],
   "source": [
    "# Funkcja ones () - tworzy wypelniona jedynkami tablice o okreslonych wartosciach\n",
    "a = np.ones(5)\n",
    "a"
   ]
  },
  {
   "cell_type": "code",
   "execution_count": 30,
   "id": "65016568",
   "metadata": {},
   "outputs": [
    {
     "data": {
      "text/plain": [
       "array([[4, 4, 4],\n",
       "       [4, 4, 4]])"
      ]
     },
     "execution_count": 30,
     "metadata": {},
     "output_type": "execute_result"
    }
   ],
   "source": [
    "# Funkcja full() - tworzy wypelniona zerami tablice o okreslonych wartosciach\n",
    "a = np.full((2,3),4) \n",
    "a"
   ]
  },
  {
   "cell_type": "code",
   "execution_count": 33,
   "id": "ca277733",
   "metadata": {},
   "outputs": [
    {
     "data": {
      "text/plain": [
       "array([[1., 0., 0.],\n",
       "       [0., 1., 0.],\n",
       "       [0., 0., 1.]])"
      ]
     },
     "execution_count": 33,
     "metadata": {},
     "output_type": "execute_result"
    }
   ],
   "source": [
    "# Funkcja eye() - tworzy macierz jednostkowa\n",
    "a = np.eye(3)"
   ]
  },
  {
   "cell_type": "code",
   "execution_count": 35,
   "id": "91105476",
   "metadata": {},
   "outputs": [
    {
     "data": {
      "text/plain": [
       "array([[0.07668848, 0.81853431, 0.35156761],\n",
       "       [0.11007516, 0.02171855, 0.88520961]])"
      ]
     },
     "execution_count": 35,
     "metadata": {},
     "output_type": "execute_result"
    }
   ],
   "source": [
    "# Funkcja random.random() - tworzy macierz wypelniona losowymi wartosciami\n",
    "a = np.random.random((2,3))\n",
    "a"
   ]
  },
  {
   "cell_type": "code",
   "execution_count": 50,
   "id": "4827b3cb",
   "metadata": {},
   "outputs": [
    {
     "data": {
      "text/plain": [
       "(5,)"
      ]
     },
     "execution_count": 50,
     "metadata": {},
     "output_type": "execute_result"
    }
   ],
   "source": [
    "wek = np.array([1, 2, 3, 4, 5])\n",
    "wek.shape # zwraca wymiary wygerowangego wektora\n"
   ]
  },
  {
   "cell_type": "markdown",
   "id": "5a514865",
   "metadata": {},
   "source": [
    "# Kody znakowe typow danych\n",
    "    staloprzecinkowy  - i\n",
    "    bezznakowy staloprzecinkowy - u\n",
    "    logiczny - b\n",
    "    liczby zespolone - D\n",
    "    lancuch znakow - S\n",
    "    zmiennoprzecinkowe pojedynczej precyzji - f\n",
    "    zmiennoprzecinkowe podwojnej precycji - d "
   ]
  },
  {
   "cell_type": "code",
   "execution_count": 73,
   "id": "43f39830",
   "metadata": {},
   "outputs": [
    {
     "data": {
      "text/plain": [
       "array([1.+0.j, 2.+0.j, 3.+0.j, 4.+0.j, 5.+0.j, 6.+0.j, 7.+0.j, 8.+0.j,\n",
       "       9.+0.j])"
      ]
     },
     "execution_count": 73,
     "metadata": {},
     "output_type": "execute_result"
    }
   ],
   "source": [
    "# Przyklad uzycia :\n",
    "a = np.arange(1,10, dtype = \"f\") # tworzy tablice Numpy z zmiennoprzecinkowymi liczbani\n",
    "b = np.arange(1,10, dtype = \"D\") # tworzy tablcie Numpy z liczbami zespolonymi\n",
    "a\n",
    "b"
   ]
  },
  {
   "cell_type": "markdown",
   "id": "1c6e62ea",
   "metadata": {},
   "source": [
    "# Manipulowanie wymiarami tablic"
   ]
  },
  {
   "cell_type": "code",
   "execution_count": 83,
   "id": "714c26a0",
   "metadata": {
    "scrolled": true
   },
   "outputs": [
    {
     "data": {
      "text/plain": [
       "array([[ 1,  2,  3,  4],\n",
       "       [ 5,  6,  7,  8],\n",
       "       [ 9, 10, 11, 12]])"
      ]
     },
     "execution_count": 83,
     "metadata": {},
     "output_type": "execute_result"
    }
   ],
   "source": [
    "# Funkcja reshape() zmienia wymiary tablic\n",
    "\n",
    "arr = np.arange(1,13) \n",
    "new_arr = arr.reshape(3,4)\n",
    "new_arr"
   ]
  },
  {
   "cell_type": "code",
   "execution_count": 93,
   "id": "c0fd24a3",
   "metadata": {},
   "outputs": [
    {
     "data": {
      "text/plain": [
       "array([ 0,  1,  2,  3,  4,  5,  6,  7,  8,  9, 10, 11, 12, 13, 14])"
      ]
     },
     "execution_count": 93,
     "metadata": {},
     "output_type": "execute_result"
    }
   ],
   "source": [
    "# Funkcja flatten i revel () - przeksztalca macierz n-wymierarowa w macierz jednowymiarowa\n",
    "# Fukcja ravel - tez jak i flatten () - przeksztalca macierz n-wymierarowa w macierz jednowymiarowa, \n",
    "# ale jest szybciej od funkcji flatten () tak jak , zwraca odniesienie do pierwotnej tablicy a nie zwraca rzecywista tablice\n",
    "# jak to robi flatten()\n",
    "\n",
    "\n",
    "arr = np.arange(15).reshape(3,5)\n",
    "arr.flatten()\n",
    "arr.ravel()"
   ]
  },
  {
   "cell_type": "code",
   "execution_count": null,
   "id": "4d148513",
   "metadata": {},
   "outputs": [],
   "source": []
  },
  {
   "cell_type": "code",
   "execution_count": null,
   "id": "43aa1d04",
   "metadata": {},
   "outputs": [],
   "source": []
  },
  {
   "cell_type": "code",
   "execution_count": null,
   "id": "77cafa7b",
   "metadata": {},
   "outputs": [],
   "source": []
  },
  {
   "cell_type": "code",
   "execution_count": null,
   "id": "2d2056cd",
   "metadata": {},
   "outputs": [],
   "source": []
  },
  {
   "cell_type": "code",
   "execution_count": null,
   "id": "ad8d9957",
   "metadata": {},
   "outputs": [],
   "source": []
  },
  {
   "cell_type": "code",
   "execution_count": null,
   "id": "4d4f27a7",
   "metadata": {},
   "outputs": [],
   "source": []
  },
  {
   "cell_type": "code",
   "execution_count": null,
   "id": "331a9cbd",
   "metadata": {},
   "outputs": [],
   "source": []
  }
 ],
 "metadata": {
  "kernelspec": {
   "display_name": "Python 3",
   "language": "python",
   "name": "python3"
  },
  "language_info": {
   "codemirror_mode": {
    "name": "ipython",
    "version": 3
   },
   "file_extension": ".py",
   "mimetype": "text/x-python",
   "name": "python",
   "nbconvert_exporter": "python",
   "pygments_lexer": "ipython3",
   "version": "3.8.8"
  }
 },
 "nbformat": 4,
 "nbformat_minor": 5
}
