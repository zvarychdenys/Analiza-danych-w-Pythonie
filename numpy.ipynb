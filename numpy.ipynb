{
 "cells": [
  {
   "cell_type": "code",
   "execution_count": 1,
   "id": "83ad383e",
   "metadata": {},
   "outputs": [],
   "source": [
    "import numpy as np"
   ]
  },
  {
   "cell_type": "code",
   "execution_count": 8,
   "id": "8b7b3ee4",
   "metadata": {},
   "outputs": [
    {
     "data": {
      "text/plain": [
       "array([1., 2., 3., 4., 5.])"
      ]
     },
     "execution_count": 8,
     "metadata": {},
     "output_type": "execute_result"
    }
   ],
   "source": [
    "# Tworzenie tablicy \n",
    "a = np.array([1,2,3,4,5], dtype = float) # wszystkie elementy tablicy takiego samego typu danych, \"dtype\" - wyznaczna typ tablicy \n",
    "a"
   ]
  },
  {
   "cell_type": "code",
   "execution_count": 14,
   "id": "23181a21",
   "metadata": {},
   "outputs": [
    {
     "data": {
      "text/plain": [
       "array([10, 20, 30, 40, 50, 60, 70, 80, 90])"
      ]
     },
     "execution_count": 14,
     "metadata": {},
     "output_type": "execute_result"
    }
   ],
   "source": [
    "# Tworzenie tablicy za pomoca funckji arange(), funkcja otrzymuje trzy argumenty start, stop, step (SSS)\n",
    "a = np.arange(10,100,10) # defolt start = 0 , step = 1\n",
    "a"
   ]
  },
  {
   "cell_type": "code",
   "execution_count": 16,
   "id": "405559b6",
   "metadata": {},
   "outputs": [
    {
     "data": {
      "text/plain": [
       "array([0., 0., 0., 0., 0.])"
      ]
     },
     "execution_count": 16,
     "metadata": {},
     "output_type": "execute_result"
    }
   ],
   "source": [
    "# Funkcja zeros() - tworzy wypelniona zerami tablice o okreslonych wartosciach\n",
    "a = np.zeros(5)\n",
    "a"
   ]
  },
  {
   "cell_type": "code",
   "execution_count": 18,
   "id": "1b41a6c8",
   "metadata": {},
   "outputs": [
    {
     "data": {
      "text/plain": [
       "array([1., 1., 1., 1., 1.])"
      ]
     },
     "execution_count": 18,
     "metadata": {},
     "output_type": "execute_result"
    }
   ],
   "source": [
    "# Funkcja ones () - tworzy wypelniona jedynkami tablice o okreslonych wartosciach\n",
    "a = np.ones(5)\n",
    "a"
   ]
  },
  {
   "cell_type": "code",
   "execution_count": 30,
   "id": "65016568",
   "metadata": {},
   "outputs": [
    {
     "data": {
      "text/plain": [
       "array([[4, 4, 4],\n",
       "       [4, 4, 4]])"
      ]
     },
     "execution_count": 30,
     "metadata": {},
     "output_type": "execute_result"
    }
   ],
   "source": [
    "# Funkcja full() - tworzy wypelniona zerami tablice o okreslonych wartosciach\n",
    "a = np.full((2,3),4) \n",
    "a"
   ]
  },
  {
   "cell_type": "code",
   "execution_count": 33,
   "id": "ca277733",
   "metadata": {},
   "outputs": [
    {
     "data": {
      "text/plain": [
       "array([[1., 0., 0.],\n",
       "       [0., 1., 0.],\n",
       "       [0., 0., 1.]])"
      ]
     },
     "execution_count": 33,
     "metadata": {},
     "output_type": "execute_result"
    }
   ],
   "source": [
    "# Funkcja eye() - tworzy macierz jednostkowa\n",
    "a = np.eye(3)"
   ]
  },
  {
   "cell_type": "code",
   "execution_count": 35,
   "id": "91105476",
   "metadata": {},
   "outputs": [
    {
     "data": {
      "text/plain": [
       "array([[0.07668848, 0.81853431, 0.35156761],\n",
       "       [0.11007516, 0.02171855, 0.88520961]])"
      ]
     },
     "execution_count": 35,
     "metadata": {},
     "output_type": "execute_result"
    }
   ],
   "source": [
    "# Funkcja random.random() - tworzy macierz wypelniona losowymi wartosciami\n",
    "a = np.random.random((2,3))\n",
    "a"
   ]
  },
  {
   "cell_type": "code",
   "execution_count": 50,
   "id": "4827b3cb",
   "metadata": {},
   "outputs": [
    {
     "data": {
      "text/plain": [
       "(5,)"
      ]
     },
     "execution_count": 50,
     "metadata": {},
     "output_type": "execute_result"
    }
   ],
   "source": [
    "wek = np.array([1, 2, 3, 4, 5])\n",
    "wek.shape # zwraca wymiary wygerowangego wektora\n"
   ]
  },
  {
   "cell_type": "markdown",
   "id": "5a514865",
   "metadata": {},
   "source": [
    "# Kody znakowe typow danych\n",
    "    staloprzecinkowy  - i\n",
    "    bezznakowy staloprzecinkowy - u\n",
    "    logiczny - b\n",
    "    liczby zespolone - D\n",
    "    lancuch znakow - S\n",
    "    zmiennoprzecinkowe pojedynczej precyzji - f\n",
    "    zmiennoprzecinkowe podwojnej precycji - d "
   ]
  },
  {
   "cell_type": "code",
   "execution_count": 73,
   "id": "43f39830",
   "metadata": {},
   "outputs": [
    {
     "data": {
      "text/plain": [
       "array([1.+0.j, 2.+0.j, 3.+0.j, 4.+0.j, 5.+0.j, 6.+0.j, 7.+0.j, 8.+0.j,\n",
       "       9.+0.j])"
      ]
     },
     "execution_count": 73,
     "metadata": {},
     "output_type": "execute_result"
    }
   ],
   "source": [
    "# Przyklad uzycia :\n",
    "a = np.arange(1,10, dtype = \"f\") # tworzy tablice Numpy z zmiennoprzecinkowymi liczbani\n",
    "b = np.arange(1,10, dtype = \"D\") # tworzy tablcie Numpy z liczbami zespolonymi\n",
    "a\n",
    "b"
   ]
  },
  {
   "cell_type": "markdown",
   "id": "1c6e62ea",
   "metadata": {},
   "source": [
    "# Manipulowanie wymiarami tablic"
   ]
  },
  {
   "cell_type": "code",
   "execution_count": 83,
   "id": "714c26a0",
   "metadata": {
    "scrolled": true
   },
   "outputs": [
    {
     "data": {
      "text/plain": [
       "array([[ 1,  2,  3,  4],\n",
       "       [ 5,  6,  7,  8],\n",
       "       [ 9, 10, 11, 12]])"
      ]
     },
     "execution_count": 83,
     "metadata": {},
     "output_type": "execute_result"
    }
   ],
   "source": [
    "# Funkcja reshape() zmienia wymiary tablic\n",
    "\n",
    "arr = np.arange(1,13) \n",
    "new_arr = arr.reshape(3,4)\n",
    "new_arr"
   ]
  },
  {
   "cell_type": "code",
   "execution_count": 2,
   "id": "c0fd24a3",
   "metadata": {},
   "outputs": [
    {
     "data": {
      "text/plain": [
       "array([ 0,  1,  2,  3,  4,  5,  6,  7,  8,  9, 10, 11, 12, 13, 14])"
      ]
     },
     "execution_count": 2,
     "metadata": {},
     "output_type": "execute_result"
    }
   ],
   "source": [
    "# Funkcja flatten i revel () - przeksztalca macierz n-wymierarowa w macierz jednowymiarowa\n",
    "# Fukcja ravel - tez jak i flatten () - przeksztalca macierz n-wymierarowa w macierz jednowymiarowa, \n",
    "# ale jest szybciej od funkcji flatten () tak jak , zwraca odniesienie do pierwotnej tablicy a nie zwraca rzecywista tablice\n",
    "# jak to robi flatten()\n",
    "\n",
    "\n",
    "arr = np.arange(15).reshape(3,5)\n",
    "arr.flatten()\n",
    "arr.ravel()"
   ]
  },
  {
   "cell_type": "code",
   "execution_count": 13,
   "id": "43aa1d04",
   "metadata": {},
   "outputs": [
    {
     "data": {
      "text/plain": [
       "array([[ 1,  5,  9],\n",
       "       [ 2,  6, 10],\n",
       "       [ 3,  7, 11],\n",
       "       [ 4,  8, 12]])"
      ]
     },
     "execution_count": 13,
     "metadata": {},
     "output_type": "execute_result"
    }
   ],
   "source": [
    "# Funkcja transpose(), metoda .T - transponuje daną macierze czyli zamienia rzędy macierzy z kolumnami\n",
    "arr = np.arange(1,13).reshape(3,4)\n",
    "arr\n",
    "arr.T\n",
    "arr.transpose()"
   ]
  },
  {
   "cell_type": "code",
   "execution_count": 37,
   "id": "77cafa7b",
   "metadata": {},
   "outputs": [
    {
     "data": {
      "text/plain": [
       "array([[ 1,  2,  3,  4,  5,  6],\n",
       "       [ 7,  8,  9, 10, 11, 12]])"
      ]
     },
     "execution_count": 37,
     "metadata": {},
     "output_type": "execute_result"
    }
   ],
   "source": [
    "# Funckja resize() - zmienia rozmiar tablicy Numpy\n",
    "arr.reshape(2,6)\n",
    "arr"
   ]
  },
  {
   "cell_type": "markdown",
   "id": "74a60296",
   "metadata": {},
   "source": [
    "# Łączenie tablic Numpy\n",
    " \n",
    " ##### Biblioteka numpy umożliwia łączenie tablic wzdłuż wybranej osi. Mozemy je właczyć :\n",
    "     \n",
    "    1. w poziomie - np.hstack((arr1,arr2)), np.concatenate((arr1,arr2),axis = 1)\n",
    "    2. w pionie  -  np.vstack((arr1,arr2)), np.concatenate((arr1,arr2),axis = 0)\n",
    "    3. po kolumnach ( czyli jak z n k-wymiarowych wektorow zrobic tablice) - np.column_stack((arr1,arr2))\n",
    "    4. po rzędach - np.row_stack((arr1,arr2))\n",
    "    5. w głąb  - np.dstack((arr1,arr2))\n",
    "  "
   ]
  },
  {
   "cell_type": "code",
   "execution_count": 43,
   "id": "79a72d39",
   "metadata": {},
   "outputs": [
    {
     "data": {
      "text/plain": [
       "array([[ 1,  2,  3,  2,  4,  6],\n",
       "       [ 4,  5,  6,  8, 10, 12],\n",
       "       [ 7,  8,  9, 14, 16, 18]])"
      ]
     },
     "execution_count": 43,
     "metadata": {},
     "output_type": "execute_result"
    }
   ],
   "source": [
    "# Łączenie w poziomie \n",
    "arr1 = np.arange(1,10).reshape(3,3)\n",
    "arr2 = arr1* 2\n",
    "arr3 = np.hstack((arr1,arr2)) \n",
    "arr4 = np.concatenate((arr1,arr2), axis = 1)\n",
    "arr4"
   ]
  },
  {
   "cell_type": "code",
   "execution_count": 41,
   "id": "4d4f27a7",
   "metadata": {},
   "outputs": [
    {
     "data": {
      "text/plain": [
       "array([[ 1,  2,  3,  2,  4,  6],\n",
       "       [ 4,  5,  6,  8, 10, 12],\n",
       "       [ 7,  8,  9, 14, 16, 18]])"
      ]
     },
     "execution_count": 41,
     "metadata": {},
     "output_type": "execute_result"
    }
   ],
   "source": [
    "#Łączenie w pionie\n",
    "arr3 = np.vstack((arr1,arr2)) \n",
    "arr4 = np.concatenate((arr1,arr2), axis = 1)\n",
    "arr4"
   ]
  },
  {
   "cell_type": "code",
   "execution_count": 45,
   "id": "331a9cbd",
   "metadata": {
    "scrolled": true
   },
   "outputs": [
    {
     "data": {
      "text/plain": [
       "array([[[ 1,  2],\n",
       "        [ 2,  4],\n",
       "        [ 3,  6]],\n",
       "\n",
       "       [[ 4,  8],\n",
       "        [ 5, 10],\n",
       "        [ 6, 12]],\n",
       "\n",
       "       [[ 7, 14],\n",
       "        [ 8, 16],\n",
       "        [ 9, 18]]])"
      ]
     },
     "execution_count": 45,
     "metadata": {},
     "output_type": "execute_result"
    }
   ],
   "source": [
    "#Łączenie w głąb\n",
    "arr3 = np.dstack((arr1,arr2))\n",
    "arr3"
   ]
  },
  {
   "cell_type": "code",
   "execution_count": 50,
   "id": "05478619",
   "metadata": {},
   "outputs": [
    {
     "data": {
      "text/plain": [
       "array([[1, 2],\n",
       "       [2, 4],\n",
       "       [3, 6],\n",
       "       [4, 8]])"
      ]
     },
     "execution_count": 50,
     "metadata": {},
     "output_type": "execute_result"
    }
   ],
   "source": [
    "#Łączenie po kolumhach\n",
    "arr1 = np.arange(1,5)\n",
    "arr2 = arr1 * 2\n",
    "arr3 = np.column_stack((arr1,arr2))\n",
    "arr3"
   ]
  },
  {
   "cell_type": "code",
   "execution_count": 53,
   "id": "89506412",
   "metadata": {},
   "outputs": [
    {
     "data": {
      "text/plain": [
       "array([[ 1,  2,  3,  4],\n",
       "       [ 2,  4,  6,  8],\n",
       "       [ 4,  8, 12, 16]])"
      ]
     },
     "execution_count": 53,
     "metadata": {},
     "output_type": "execute_result"
    }
   ],
   "source": [
    "#Łączenie po rzędach\n",
    "arr4 = arr1 * 4\n",
    "arr3  = np.row_stack((arr1,arr2,arr4))\n",
    "arr3"
   ]
  },
  {
   "cell_type": "markdown",
   "id": "1244c0d4",
   "metadata": {},
   "source": [
    "# Rozdzielanie tablic Numpy\n",
    "  \n",
    "  * podział w poziomie - **hsplit(arr, liczba na ile podtablic dzielimy tablice)**\n",
    "  * podział w pionie  - **vsplit(arr, liczba na ile podtablic dzielimy tablice)**\n",
    "   \n",
    "  *lub wykorzustujemy uniwerslaną funkcje **split(arr,liczba na ile podtablic dzielimy tablice, axis = 0/ver,1/hor)**"
   ]
  },
  {
   "cell_type": "code",
   "execution_count": 66,
   "id": "e3652397",
   "metadata": {},
   "outputs": [
    {
     "data": {
      "text/plain": [
       "[array([[1],\n",
       "        [4],\n",
       "        [7]]),\n",
       " array([[2],\n",
       "        [5],\n",
       "        [8]]),\n",
       " array([[3],\n",
       "        [6],\n",
       "        [9]])]"
      ]
     },
     "execution_count": 66,
     "metadata": {},
     "output_type": "execute_result"
    }
   ],
   "source": [
    "#Podział w poziomie\n",
    "arr = np.arange(1,10).reshape(3,3)\n",
    "arr\n",
    "split_arr = np.hsplit(arr,3)\n",
    "split_arr"
   ]
  },
  {
   "cell_type": "code",
   "execution_count": 63,
   "id": "3f802c84",
   "metadata": {},
   "outputs": [
    {
     "data": {
      "text/plain": [
       "array([[4, 5, 6]])"
      ]
     },
     "execution_count": 63,
     "metadata": {},
     "output_type": "execute_result"
    }
   ],
   "source": [
    "# Podział w pionie#\n",
    "split_arr = np.vsplit(arr,3)\n",
    "split_arr[1]"
   ]
  },
  {
   "cell_type": "markdown",
   "id": "fe9f742d",
   "metadata": {},
   "source": [
    "# Zmiana typu danych tablic Numpy\n",
    "Funkcja **astype()** przekształca typ danych określonej tablicy"
   ]
  },
  {
   "cell_type": "code",
   "execution_count": 73,
   "id": "99a1801b",
   "metadata": {},
   "outputs": [
    {
     "name": "stdout",
     "output_type": "stream",
     "text": [
      "Tablica (typ danych int): [[1 2 3]\n",
      " [4 5 6]\n",
      " [7 8 9]]\n",
      "Zmieniony typ danych tablicy z int na float: [[1. 2. 3.]\n",
      " [4. 5. 6.]\n",
      " [7. 8. 9.]]\n"
     ]
    }
   ],
   "source": [
    "arr = np.arange(1,10).reshape(3,3)\n",
    "print(\"Tablica (typ danych int):\", arr)\n",
    "arr = arr.astype(float)\n",
    "print(\"Zmieniony typ danych tablicy z int na float:\", arr)"
   ]
  },
  {
   "cell_type": "code",
   "execution_count": null,
   "id": "b46007a9",
   "metadata": {},
   "outputs": [],
   "source": [
    "# funkjca tolist()  przeksztalca tablice Numpy na liste Pythona"
   ]
  },
  {
   "cell_type": "code",
   "execution_count": 81,
   "id": "00ec85b5",
   "metadata": {},
   "outputs": [
    {
     "data": {
      "text/plain": [
       "[1, 2, 3, 4, 5, 6, 7, 8, 9, 10, 11, 12]"
      ]
     },
     "execution_count": 81,
     "metadata": {},
     "output_type": "execute_result"
    }
   ],
   "source": [
    "arr = np.arange(1,13)\n",
    "arr\n",
    "list1 = arr.tolist()\n",
    "list1"
   ]
  },
  {
   "cell_type": "markdown",
   "id": "8162d49d",
   "metadata": {},
   "source": [
    "# Tworzenie widokow i kopii Numpy\n",
    "Niektore funkcje Pythona zwracaja kopie lub widok tablicz wejsciowej.Kopia przechowuje tablice w innym miejscu , natomiast widok wykorzystuje ten sam obszar pamieci co tablica. \n",
    "Cehcy kopii i widokow:\n",
    "* modyfikacje widoku wplywaja na przechowywane dane, natomiast modyfikacje kopii nie maja wplywu na pierwotna tablice\n",
    "* widoki korzystuja z pamieci wspoluzytkowanej\n",
    "* kopie wymagaja wiecej pamieci w porownaniu do widokow\n",
    "* kopie dzialaja wolnej do widokow"
   ]
  },
  {
   "cell_type": "code",
   "execution_count": 92,
   "id": "45a58fcb",
   "metadata": {},
   "outputs": [
    {
     "name": "stdout",
     "output_type": "stream",
     "text": [
      "Pierwotna tablica :  2289200965552\n",
      "Przypisanie :  2289200965552\n",
      "Kopia gleboka:  2289201164624\n",
      "Widok :  2289201166448\n"
     ]
    }
   ],
   "source": [
    "arr = np.arange(1,5).reshape(2,2)\n",
    "\n",
    "#Przypisanie (nie kopia)\n",
    "arr_not_copy = arr\n",
    "\n",
    "\n",
    "#Tworzymy kopię głęboką\n",
    "arr_copy = arr.copy()\n",
    "\n",
    "\n",
    "#Tworzymy kopie za pomoca widoku\n",
    "arr_view = arr.view()\n",
    "\n",
    "print(\"Pierwotna tablica : \" ,id(arr))\n",
    "print(\"Przypisanie : \" , id(arr_not_copy))\n",
    "print(\"Kopia gleboka: \" , id(arr_copy))\n",
    "print(\"Widok : \", id(arr_view))\n",
    "\n",
    "#Pierwotna tablica i przypisana tablcia maja taki sam id co oznacza ze wskazuja na ten sam objekt.\n",
    "#Kopia i widom  maja inne id , sa nowymi objektami, ale objekt widoku odnoszi sie do piewotnej tablica,\n",
    "# a kopia dysponuje osobna replike tej tablicy "
   ]
  },
  {
   "cell_type": "markdown",
   "id": "3e9a679f",
   "metadata": {},
   "source": [
    "# Fragmentowanie tablic Numpy "
   ]
  },
  {
   "cell_type": "code",
   "execution_count": 104,
   "id": "106deec7",
   "metadata": {
    "scrolled": false
   },
   "outputs": [
    {
     "data": {
      "text/plain": [
       "array([2, 4, 6])"
      ]
     },
     "execution_count": 104,
     "metadata": {},
     "output_type": "execute_result"
    }
   ],
   "source": [
    "arr = np.arange(0,10)\n",
    "arr[3:6] # [pierwszy element wlacznie , do drugiego nie wlacznie]\n",
    "arr[2:7:2] # od 2 do 7 nie wlacznie , ze skokiem 2"
   ]
  },
  {
   "cell_type": "markdown",
   "id": "b0dbdd79",
   "metadata": {},
   "source": [
    " # Indeksowanie logiczne i indeksowanie specjalne\n",
    " **(boolean indexing and fancy indexing)** wybieranie i filtrowanie elementow w tablice\n"
   ]
  },
  {
   "cell_type": "code",
   "execution_count": 3,
   "id": "997f8e11",
   "metadata": {
    "scrolled": false
   },
   "outputs": [
    {
     "data": {
      "text/plain": [
       "array([ 7, 12])"
      ]
     },
     "execution_count": 3,
     "metadata": {},
     "output_type": "execute_result"
    }
   ],
   "source": [
    "# Boolean indexing\n",
    "arr = np.arange(21,41,2)\n",
    "arr[arr>30] \n",
    "\n",
    "# Fancy indexing\n",
    "arr = np.arange(1,21).reshape(5,4)\n",
    "arr\n",
    "indices = [1,2] # wybrano drugi i trzeci rzed\n",
    "arr[indices]\n",
    "indices = [2,3] # wybrano treci i czwarty rzed\n",
    "arr[indices]\n",
    "row = np.array([1,2])\n",
    "col = np.array([2,3])\n",
    "arr[row,col]"
   ]
  },
  {
   "cell_type": "code",
   "execution_count": null,
   "id": "38ccfd37",
   "metadata": {},
   "outputs": [],
   "source": []
  },
  {
   "cell_type": "code",
   "execution_count": null,
   "id": "bf0301b9",
   "metadata": {},
   "outputs": [],
   "source": []
  },
  {
   "cell_type": "code",
   "execution_count": null,
   "id": "51161740",
   "metadata": {},
   "outputs": [],
   "source": []
  },
  {
   "cell_type": "code",
   "execution_count": null,
   "id": "3b019fa8",
   "metadata": {},
   "outputs": [],
   "source": []
  },
  {
   "cell_type": "code",
   "execution_count": null,
   "id": "3a0f68c6",
   "metadata": {},
   "outputs": [],
   "source": []
  },
  {
   "cell_type": "code",
   "execution_count": null,
   "id": "da75be41",
   "metadata": {},
   "outputs": [],
   "source": []
  },
  {
   "cell_type": "code",
   "execution_count": null,
   "id": "79397858",
   "metadata": {},
   "outputs": [],
   "source": []
  }
 ],
 "metadata": {
  "kernelspec": {
   "display_name": "Python 3",
   "language": "python",
   "name": "python3"
  },
  "language_info": {
   "codemirror_mode": {
    "name": "ipython",
    "version": 3
   },
   "file_extension": ".py",
   "mimetype": "text/x-python",
   "name": "python",
   "nbconvert_exporter": "python",
   "pygments_lexer": "ipython3",
   "version": "3.8.8"
  }
 },
 "nbformat": 4,
 "nbformat_minor": 5
}
